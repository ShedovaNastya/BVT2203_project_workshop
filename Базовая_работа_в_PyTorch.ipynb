{
  "nbformat": 4,
  "nbformat_minor": 0,
  "metadata": {
    "colab": {
      "provenance": [],
      "gpuType": "T4"
    },
    "kernelspec": {
      "name": "python3",
      "display_name": "Python 3"
    },
    "language_info": {
      "name": "python"
    },
    "accelerator": "GPU"
  },
  "cells": [
    {
      "cell_type": "code",
      "execution_count": 7,
      "metadata": {
        "colab": {
          "base_uri": "https://localhost:8080/"
        },
        "id": "JfLc1koL6ION",
        "outputId": "9bcb05f0-15b6-4aea-bde9-b6bac02f4e22"
      },
      "outputs": [
        {
          "output_type": "stream",
          "name": "stdout",
          "text": [
            "Looking in indexes: https://pypi.org/simple, https://us-python.pkg.dev/colab-wheels/public/simple/\n",
            "Requirement already satisfied: torch in /usr/local/lib/python3.10/dist-packages (2.0.1+cu118)\n",
            "Requirement already satisfied: filelock in /usr/local/lib/python3.10/dist-packages (from torch) (3.12.0)\n",
            "Requirement already satisfied: typing-extensions in /usr/local/lib/python3.10/dist-packages (from torch) (4.5.0)\n",
            "Requirement already satisfied: sympy in /usr/local/lib/python3.10/dist-packages (from torch) (1.11.1)\n",
            "Requirement already satisfied: networkx in /usr/local/lib/python3.10/dist-packages (from torch) (3.1)\n",
            "Requirement already satisfied: jinja2 in /usr/local/lib/python3.10/dist-packages (from torch) (3.1.2)\n",
            "Requirement already satisfied: triton==2.0.0 in /usr/local/lib/python3.10/dist-packages (from torch) (2.0.0)\n",
            "Requirement already satisfied: cmake in /usr/local/lib/python3.10/dist-packages (from triton==2.0.0->torch) (3.25.2)\n",
            "Requirement already satisfied: lit in /usr/local/lib/python3.10/dist-packages (from triton==2.0.0->torch) (16.0.5)\n",
            "Requirement already satisfied: MarkupSafe>=2.0 in /usr/local/lib/python3.10/dist-packages (from jinja2->torch) (2.1.2)\n",
            "Requirement already satisfied: mpmath>=0.19 in /usr/local/lib/python3.10/dist-packages (from sympy->torch) (1.3.0)\n"
          ]
        }
      ],
      "source": [
        "!pip install torch"
      ]
    },
    {
      "cell_type": "code",
      "source": [
        "import torch"
      ],
      "metadata": {
        "id": "R4XnidQU6qlO"
      },
      "execution_count": 8,
      "outputs": []
    },
    {
      "cell_type": "code",
      "source": [
        "torch.zeros([3,4])"
      ],
      "metadata": {
        "colab": {
          "base_uri": "https://localhost:8080/"
        },
        "id": "lC3heNb47vaQ",
        "outputId": "19583351-3fcb-4750-ea3b-0f47e7497d72"
      },
      "execution_count": 9,
      "outputs": [
        {
          "output_type": "execute_result",
          "data": {
            "text/plain": [
              "tensor([[0., 0., 0., 0.],\n",
              "        [0., 0., 0., 0.],\n",
              "        [0., 0., 0., 0.]])"
            ]
          },
          "metadata": {},
          "execution_count": 9
        }
      ]
    },
    {
      "cell_type": "code",
      "source": [
        "torch.ones([3,4,5])"
      ],
      "metadata": {
        "colab": {
          "base_uri": "https://localhost:8080/"
        },
        "id": "qyKntUTO77WI",
        "outputId": "e48dc7b3-aef9-40d7-ed89-4c6589eb37d5"
      },
      "execution_count": 10,
      "outputs": [
        {
          "output_type": "execute_result",
          "data": {
            "text/plain": [
              "tensor([[[1., 1., 1., 1., 1.],\n",
              "         [1., 1., 1., 1., 1.],\n",
              "         [1., 1., 1., 1., 1.],\n",
              "         [1., 1., 1., 1., 1.]],\n",
              "\n",
              "        [[1., 1., 1., 1., 1.],\n",
              "         [1., 1., 1., 1., 1.],\n",
              "         [1., 1., 1., 1., 1.],\n",
              "         [1., 1., 1., 1., 1.]],\n",
              "\n",
              "        [[1., 1., 1., 1., 1.],\n",
              "         [1., 1., 1., 1., 1.],\n",
              "         [1., 1., 1., 1., 1.],\n",
              "         [1., 1., 1., 1., 1.]]])"
            ]
          },
          "metadata": {},
          "execution_count": 10
        }
      ]
    },
    {
      "cell_type": "code",
      "source": [
        "torch.Tensor([[1, 2, 3, 4],\n",
        "             [5, 6, 7, 8],\n",
        "             [9, 10, 11, 12]])"
      ],
      "metadata": {
        "colab": {
          "base_uri": "https://localhost:8080/"
        },
        "id": "_TjqQcE38Jxc",
        "outputId": "3f7798a1-55c7-4a76-d8af-8db9e4d81be6"
      },
      "execution_count": 11,
      "outputs": [
        {
          "output_type": "execute_result",
          "data": {
            "text/plain": [
              "tensor([[ 1.,  2.,  3.,  4.],\n",
              "        [ 5.,  6.,  7.,  8.],\n",
              "        [ 9., 10., 11., 12.]])"
            ]
          },
          "metadata": {},
          "execution_count": 11
        }
      ]
    },
    {
      "cell_type": "code",
      "source": [
        "x = torch.Tensor([[1, 2, 3, 4],\n",
        "                  [5, 6, 7, 8],\n",
        "                  [9, 10, 11, 12]])\n",
        "x"
      ],
      "metadata": {
        "colab": {
          "base_uri": "https://localhost:8080/"
        },
        "id": "O3p9ZrlH-adp",
        "outputId": "3dca641c-aae9-41a9-f4ca-ad9042bf1747"
      },
      "execution_count": 12,
      "outputs": [
        {
          "output_type": "execute_result",
          "data": {
            "text/plain": [
              "tensor([[ 1.,  2.,  3.,  4.],\n",
              "        [ 5.,  6.,  7.,  8.],\n",
              "        [ 9., 10., 11., 12.]])"
            ]
          },
          "metadata": {},
          "execution_count": 12
        }
      ]
    },
    {
      "cell_type": "code",
      "source": [
        "x.size()"
      ],
      "metadata": {
        "colab": {
          "base_uri": "https://localhost:8080/"
        },
        "id": "OW9tv438-khD",
        "outputId": "78446161-e2ac-4904-d759-1b236332c315"
      },
      "execution_count": 13,
      "outputs": [
        {
          "output_type": "execute_result",
          "data": {
            "text/plain": [
              "torch.Size([3, 4])"
            ]
          },
          "metadata": {},
          "execution_count": 13
        }
      ]
    },
    {
      "cell_type": "code",
      "source": [
        "x.shape"
      ],
      "metadata": {
        "colab": {
          "base_uri": "https://localhost:8080/"
        },
        "id": "_MT5RuVf_Bgb",
        "outputId": "b8f9e8c6-3ddb-4943-e3c8-9175f1fd6fe7"
      },
      "execution_count": 14,
      "outputs": [
        {
          "output_type": "execute_result",
          "data": {
            "text/plain": [
              "torch.Size([3, 4])"
            ]
          },
          "metadata": {},
          "execution_count": 14
        }
      ]
    },
    {
      "cell_type": "code",
      "source": [
        "x[0]"
      ],
      "metadata": {
        "colab": {
          "base_uri": "https://localhost:8080/"
        },
        "id": "9vltJ3YR_Bvk",
        "outputId": "06bbab51-1256-4f11-82d8-0c8284ab4443"
      },
      "execution_count": 15,
      "outputs": [
        {
          "output_type": "execute_result",
          "data": {
            "text/plain": [
              "tensor([1., 2., 3., 4.])"
            ]
          },
          "metadata": {},
          "execution_count": 15
        }
      ]
    },
    {
      "cell_type": "code",
      "source": [
        "x[1]"
      ],
      "metadata": {
        "colab": {
          "base_uri": "https://localhost:8080/"
        },
        "id": "NSpT3gA0_bYp",
        "outputId": "1b0261ef-04d6-4980-848f-f81fb2ba3dc2"
      },
      "execution_count": 16,
      "outputs": [
        {
          "output_type": "execute_result",
          "data": {
            "text/plain": [
              "tensor([5., 6., 7., 8.])"
            ]
          },
          "metadata": {},
          "execution_count": 16
        }
      ]
    },
    {
      "cell_type": "code",
      "source": [
        "x[0,0]"
      ],
      "metadata": {
        "colab": {
          "base_uri": "https://localhost:8080/"
        },
        "id": "zmf0iqap_bbS",
        "outputId": "c735d651-e473-421c-9f05-f6d42c77b84c"
      },
      "execution_count": 17,
      "outputs": [
        {
          "output_type": "execute_result",
          "data": {
            "text/plain": [
              "tensor(1.)"
            ]
          },
          "metadata": {},
          "execution_count": 17
        }
      ]
    },
    {
      "cell_type": "code",
      "source": [
        "x[:,0]"
      ],
      "metadata": {
        "colab": {
          "base_uri": "https://localhost:8080/"
        },
        "id": "mfVyyO_Z_bd-",
        "outputId": "7bedbc6d-d388-436a-c164-dc5963425386"
      },
      "execution_count": 18,
      "outputs": [
        {
          "output_type": "execute_result",
          "data": {
            "text/plain": [
              "tensor([1., 5., 9.])"
            ]
          },
          "metadata": {},
          "execution_count": 18
        }
      ]
    },
    {
      "cell_type": "code",
      "source": [
        "x + 10"
      ],
      "metadata": {
        "colab": {
          "base_uri": "https://localhost:8080/"
        },
        "id": "xjb7HyHD_bhC",
        "outputId": "de0adf8c-7351-4dad-f4ef-fdf34cdf5b14"
      },
      "execution_count": 19,
      "outputs": [
        {
          "output_type": "execute_result",
          "data": {
            "text/plain": [
              "tensor([[11., 12., 13., 14.],\n",
              "        [15., 16., 17., 18.],\n",
              "        [19., 20., 21., 22.]])"
            ]
          },
          "metadata": {},
          "execution_count": 19
        }
      ]
    },
    {
      "cell_type": "code",
      "source": [
        "x ** 2"
      ],
      "metadata": {
        "colab": {
          "base_uri": "https://localhost:8080/"
        },
        "id": "63EVc4Fe_blh",
        "outputId": "c640bb73-2992-44bb-d290-9cc4063ba583"
      },
      "execution_count": 20,
      "outputs": [
        {
          "output_type": "execute_result",
          "data": {
            "text/plain": [
              "tensor([[  1.,   4.,   9.,  16.],\n",
              "        [ 25.,  36.,  49.,  64.],\n",
              "        [ 81., 100., 121., 144.]])"
            ]
          },
          "metadata": {},
          "execution_count": 20
        }
      ]
    },
    {
      "cell_type": "code",
      "source": [
        "y = torch.Tensor([[12, 11, 10, 9],\n",
        "                 [8, 7, 6, 5],\n",
        "                 [4, 3, 2, 1]])"
      ],
      "metadata": {
        "id": "jPE1MGhbATza"
      },
      "execution_count": 21,
      "outputs": []
    },
    {
      "cell_type": "code",
      "source": [
        "x + y"
      ],
      "metadata": {
        "colab": {
          "base_uri": "https://localhost:8080/"
        },
        "id": "_viARn1RAT_r",
        "outputId": "74ba506d-2020-4753-967c-024a26aec3ca"
      },
      "execution_count": 22,
      "outputs": [
        {
          "output_type": "execute_result",
          "data": {
            "text/plain": [
              "tensor([[13., 13., 13., 13.],\n",
              "        [13., 13., 13., 13.],\n",
              "        [13., 13., 13., 13.]])"
            ]
          },
          "metadata": {},
          "execution_count": 22
        }
      ]
    },
    {
      "cell_type": "code",
      "source": [
        "x * y"
      ],
      "metadata": {
        "colab": {
          "base_uri": "https://localhost:8080/"
        },
        "id": "vY_JSe6JAUDL",
        "outputId": "2c6cedc3-b699-4fca-89d3-e14fea117bdb"
      },
      "execution_count": 23,
      "outputs": [
        {
          "output_type": "execute_result",
          "data": {
            "text/plain": [
              "tensor([[12., 22., 30., 36.],\n",
              "        [40., 42., 42., 40.],\n",
              "        [36., 30., 22., 12.]])"
            ]
          },
          "metadata": {},
          "execution_count": 23
        }
      ]
    },
    {
      "cell_type": "code",
      "source": [
        "x % 2"
      ],
      "metadata": {
        "colab": {
          "base_uri": "https://localhost:8080/"
        },
        "id": "nVuGeItwBD5o",
        "outputId": "a2a87d8a-dc2c-4805-b4f8-f2be5e882b3b"
      },
      "execution_count": 24,
      "outputs": [
        {
          "output_type": "execute_result",
          "data": {
            "text/plain": [
              "tensor([[1., 0., 1., 0.],\n",
              "        [1., 0., 1., 0.],\n",
              "        [1., 0., 1., 0.]])"
            ]
          },
          "metadata": {},
          "execution_count": 24
        }
      ]
    },
    {
      "cell_type": "code",
      "source": [
        "x % y"
      ],
      "metadata": {
        "colab": {
          "base_uri": "https://localhost:8080/"
        },
        "id": "NM497ozGBEQZ",
        "outputId": "751498e5-1420-4a6d-cd87-f7a24ed33f7a"
      },
      "execution_count": 25,
      "outputs": [
        {
          "output_type": "execute_result",
          "data": {
            "text/plain": [
              "tensor([[1., 2., 3., 4.],\n",
              "        [5., 6., 1., 3.],\n",
              "        [1., 1., 1., 0.]])"
            ]
          },
          "metadata": {},
          "execution_count": 25
        }
      ]
    },
    {
      "cell_type": "code",
      "source": [
        "torch.exp(x)"
      ],
      "metadata": {
        "colab": {
          "base_uri": "https://localhost:8080/"
        },
        "id": "vAj8abDNBi9u",
        "outputId": "fe608175-e765-4639-dcf0-c4385cf7010a"
      },
      "execution_count": 26,
      "outputs": [
        {
          "output_type": "execute_result",
          "data": {
            "text/plain": [
              "tensor([[2.7183e+00, 7.3891e+00, 2.0086e+01, 5.4598e+01],\n",
              "        [1.4841e+02, 4.0343e+02, 1.0966e+03, 2.9810e+03],\n",
              "        [8.1031e+03, 2.2026e+04, 5.9874e+04, 1.6275e+05]])"
            ]
          },
          "metadata": {},
          "execution_count": 26
        }
      ]
    },
    {
      "cell_type": "code",
      "source": [
        "torch.log(x)"
      ],
      "metadata": {
        "colab": {
          "base_uri": "https://localhost:8080/"
        },
        "id": "vkIL2HigBjJ7",
        "outputId": "cd756189-fd21-4aad-b612-cb3078640d61"
      },
      "execution_count": 27,
      "outputs": [
        {
          "output_type": "execute_result",
          "data": {
            "text/plain": [
              "tensor([[0.0000, 0.6931, 1.0986, 1.3863],\n",
              "        [1.6094, 1.7918, 1.9459, 2.0794],\n",
              "        [2.1972, 2.3026, 2.3979, 2.4849]])"
            ]
          },
          "metadata": {},
          "execution_count": 27
        }
      ]
    },
    {
      "cell_type": "markdown",
      "source": [
        "# использование масок"
      ],
      "metadata": {
        "id": "TgYZM3YNMKl1"
      }
    },
    {
      "cell_type": "code",
      "source": [
        "mask = x > 3"
      ],
      "metadata": {
        "id": "gksg5vtkBjMs"
      },
      "execution_count": 28,
      "outputs": []
    },
    {
      "cell_type": "code",
      "source": [
        "x[mask]"
      ],
      "metadata": {
        "colab": {
          "base_uri": "https://localhost:8080/"
        },
        "id": "_YTsY4GNBjQC",
        "outputId": "a9e6a93d-2c90-454a-9468-c0e8b7147f83"
      },
      "execution_count": 29,
      "outputs": [
        {
          "output_type": "execute_result",
          "data": {
            "text/plain": [
              "tensor([ 4.,  5.,  6.,  7.,  8.,  9., 10., 11., 12.])"
            ]
          },
          "metadata": {},
          "execution_count": 29
        }
      ]
    },
    {
      "cell_type": "code",
      "source": [
        "x[x > 3]"
      ],
      "metadata": {
        "colab": {
          "base_uri": "https://localhost:8080/"
        },
        "id": "ABSRIoPpCPFi",
        "outputId": "755ece06-af58-4aec-96d7-0e8c78c1eea8"
      },
      "execution_count": 30,
      "outputs": [
        {
          "output_type": "execute_result",
          "data": {
            "text/plain": [
              "tensor([ 4.,  5.,  6.,  7.,  8.,  9., 10., 11., 12.])"
            ]
          },
          "metadata": {},
          "execution_count": 30
        }
      ]
    },
    {
      "cell_type": "code",
      "source": [
        "x.sum"
      ],
      "metadata": {
        "colab": {
          "base_uri": "https://localhost:8080/"
        },
        "id": "PeYhlmDuCPMz",
        "outputId": "68bd0326-6024-49ce-e8e0-a2f39ad8d605"
      },
      "execution_count": 31,
      "outputs": [
        {
          "output_type": "execute_result",
          "data": {
            "text/plain": [
              "<function Tensor.sum>"
            ]
          },
          "metadata": {},
          "execution_count": 31
        }
      ]
    },
    {
      "cell_type": "code",
      "source": [
        "x = torch.tensor([[1, 2, 3], [4, 5, 6], [7, 8, 9]])\n",
        "limit = int(input())\n",
        "\n",
        "larger_than_limit_sum = x[x > limit].sum()\n",
        "\n",
        "print(larger_than_limit_sum)"
      ],
      "metadata": {
        "colab": {
          "base_uri": "https://localhost:8080/"
        },
        "id": "8Ag7IvL0CPWg",
        "outputId": "5aeebf84-98fa-458e-dd6f-f2f8784d9f83"
      },
      "execution_count": 32,
      "outputs": [
        {
          "output_type": "stream",
          "name": "stdout",
          "text": [
            "4\n",
            "tensor(35)\n"
          ]
        }
      ]
    },
    {
      "cell_type": "markdown",
      "source": [
        "# копирование тензоров"
      ],
      "metadata": {
        "id": "DMGXo9RaLBNX"
      }
    },
    {
      "cell_type": "code",
      "source": [
        "y = x\n",
        "y[0, 0] = 999\n",
        "print(x)\n",
        "print(y)#происходит копирование по ссылке, все дублируется впоследствии"
      ],
      "metadata": {
        "colab": {
          "base_uri": "https://localhost:8080/"
        },
        "id": "BcHqAiIiEFh7",
        "outputId": "6b889255-8a4e-4dd7-bc17-654b61c0c747"
      },
      "execution_count": 33,
      "outputs": [
        {
          "output_type": "stream",
          "name": "stdout",
          "text": [
            "tensor([[999,   2,   3],\n",
            "        [  4,   5,   6],\n",
            "        [  7,   8,   9]])\n",
            "tensor([[999,   2,   3],\n",
            "        [  4,   5,   6],\n",
            "        [  7,   8,   9]])\n"
          ]
        }
      ]
    },
    {
      "cell_type": "code",
      "source": [
        "x = torch.Tensor([[1, 2, 3, 4],\n",
        "                  [5, 6, 7, 8],\n",
        "                  [9, 10, 11, 12]])"
      ],
      "metadata": {
        "id": "tmvq_PxPEFlh"
      },
      "execution_count": 34,
      "outputs": []
    },
    {
      "cell_type": "code",
      "source": [
        "y = x.clone()#обычное копирование\n",
        "y[0,0] = 999\n",
        "print(x)\n",
        "print(y)"
      ],
      "metadata": {
        "colab": {
          "base_uri": "https://localhost:8080/"
        },
        "id": "a4qfzq7ZEFos",
        "outputId": "d116ec5a-2c71-4c6d-b935-a77379d8dc73"
      },
      "execution_count": 35,
      "outputs": [
        {
          "output_type": "stream",
          "name": "stdout",
          "text": [
            "tensor([[ 1.,  2.,  3.,  4.],\n",
            "        [ 5.,  6.,  7.,  8.],\n",
            "        [ 9., 10., 11., 12.]])\n",
            "tensor([[999.,   2.,   3.,   4.],\n",
            "        [  5.,   6.,   7.,   8.],\n",
            "        [  9.,  10.,  11.,  12.]])\n"
          ]
        }
      ]
    },
    {
      "cell_type": "markdown",
      "source": [],
      "metadata": {
        "id": "gYs2PqowLtO-"
      }
    },
    {
      "cell_type": "markdown",
      "source": [
        "# меняем тип данных и точность"
      ],
      "metadata": {
        "id": "x_QAjbv4Lthr"
      }
    },
    {
      "cell_type": "code",
      "source": [
        "x.dtype"
      ],
      "metadata": {
        "colab": {
          "base_uri": "https://localhost:8080/"
        },
        "id": "KIZZzx70EFr_",
        "outputId": "4c22adc1-662f-46e0-a61e-ec4bf07d4002"
      },
      "execution_count": 36,
      "outputs": [
        {
          "output_type": "execute_result",
          "data": {
            "text/plain": [
              "torch.float32"
            ]
          },
          "metadata": {},
          "execution_count": 36
        }
      ]
    },
    {
      "cell_type": "code",
      "source": [
        "x = x.double()\n",
        "print(x)\n",
        "x = x.int()\n",
        "print(x)\n",
        "x = x.float()\n",
        "print(x)"
      ],
      "metadata": {
        "colab": {
          "base_uri": "https://localhost:8080/"
        },
        "id": "_8KwJ3e3Im6l",
        "outputId": "51ff0101-ba10-43e5-a3be-e4f189e83e3e"
      },
      "execution_count": 37,
      "outputs": [
        {
          "output_type": "stream",
          "name": "stdout",
          "text": [
            "tensor([[ 1.,  2.,  3.,  4.],\n",
            "        [ 5.,  6.,  7.,  8.],\n",
            "        [ 9., 10., 11., 12.]], dtype=torch.float64)\n",
            "tensor([[ 1,  2,  3,  4],\n",
            "        [ 5,  6,  7,  8],\n",
            "        [ 9, 10, 11, 12]], dtype=torch.int32)\n",
            "tensor([[ 1.,  2.,  3.,  4.],\n",
            "        [ 5.,  6.,  7.,  8.],\n",
            "        [ 9., 10., 11., 12.]])\n"
          ]
        }
      ]
    },
    {
      "cell_type": "markdown",
      "source": [
        "# использование библиотеки numpy"
      ],
      "metadata": {
        "id": "qomsQfJnKttO"
      }
    },
    {
      "cell_type": "code",
      "source": [
        "import numpy as np\n",
        "x = np.array([[1, 2, 3, 4],\n",
        "              [4, 3, 2, 1]])\n",
        "x"
      ],
      "metadata": {
        "colab": {
          "base_uri": "https://localhost:8080/"
        },
        "id": "o0mmlZLvIm98",
        "outputId": "3b8e0026-ef4c-4979-f9af-a3633ba2fc73"
      },
      "execution_count": 38,
      "outputs": [
        {
          "output_type": "execute_result",
          "data": {
            "text/plain": [
              "array([[1, 2, 3, 4],\n",
              "       [4, 3, 2, 1]])"
            ]
          },
          "metadata": {},
          "execution_count": 38
        }
      ]
    },
    {
      "cell_type": "code",
      "source": [
        "x = torch.from_numpy(x)\n",
        "x"
      ],
      "metadata": {
        "colab": {
          "base_uri": "https://localhost:8080/"
        },
        "id": "2R7x1tgYInA8",
        "outputId": "8f82566a-6b35-4f5c-f602-57ee932c9165"
      },
      "execution_count": 39,
      "outputs": [
        {
          "output_type": "execute_result",
          "data": {
            "text/plain": [
              "tensor([[1, 2, 3, 4],\n",
              "        [4, 3, 2, 1]])"
            ]
          },
          "metadata": {},
          "execution_count": 39
        }
      ]
    },
    {
      "cell_type": "code",
      "source": [
        "x = x.numpy()\n",
        "x"
      ],
      "metadata": {
        "colab": {
          "base_uri": "https://localhost:8080/"
        },
        "id": "-oClVUfmInEi",
        "outputId": "7cf7247c-92d2-44a6-eb31-fbbc44fb09a6"
      },
      "execution_count": 40,
      "outputs": [
        {
          "output_type": "execute_result",
          "data": {
            "text/plain": [
              "array([[1, 2, 3, 4],\n",
              "       [4, 3, 2, 1]])"
            ]
          },
          "metadata": {},
          "execution_count": 40
        }
      ]
    },
    {
      "cell_type": "markdown",
      "source": [
        "# Вычисления на GPU\n"
      ],
      "metadata": {
        "id": "xrIJO4RJKdIJ"
      }
    },
    {
      "cell_type": "code",
      "source": [
        "x = torch.rand([2000, 3000])\n",
        "x"
      ],
      "metadata": {
        "colab": {
          "base_uri": "https://localhost:8080/"
        },
        "id": "OVwOilWJInHo",
        "outputId": "81c420dd-de1a-4d19-845b-27709e285d32"
      },
      "execution_count": 55,
      "outputs": [
        {
          "output_type": "execute_result",
          "data": {
            "text/plain": [
              "tensor([[0.4305, 0.3993, 0.2326,  ..., 0.7191, 0.3112, 0.9077],\n",
              "        [0.8903, 0.4041, 0.0271,  ..., 0.0913, 0.8481, 0.9561],\n",
              "        [0.5330, 0.3620, 0.0725,  ..., 0.0640, 0.4692, 0.9401],\n",
              "        ...,\n",
              "        [0.2297, 0.6976, 0.3942,  ..., 0.1403, 0.2775, 0.1384],\n",
              "        [0.2371, 0.8435, 0.2498,  ..., 0.3877, 0.9332, 0.7669],\n",
              "        [0.0102, 0.7694, 0.8044,  ..., 0.7857, 0.4146, 0.6365]])"
            ]
          },
          "metadata": {},
          "execution_count": 55
        }
      ]
    },
    {
      "cell_type": "code",
      "source": [
        "torch.cuda.is_available()"
      ],
      "metadata": {
        "colab": {
          "base_uri": "https://localhost:8080/"
        },
        "id": "M15YxlISInLw",
        "outputId": "03621417-ccb2-4c98-a6d4-169500d8d199"
      },
      "execution_count": 43,
      "outputs": [
        {
          "output_type": "execute_result",
          "data": {
            "text/plain": [
              "True"
            ]
          },
          "metadata": {},
          "execution_count": 43
        }
      ]
    },
    {
      "cell_type": "code",
      "source": [
        "torch.device('cuda:0')"
      ],
      "metadata": {
        "colab": {
          "base_uri": "https://localhost:8080/"
        },
        "id": "49728MaRInRB",
        "outputId": "f235deb5-1bd7-43ec-8c0f-f4f82b26a433"
      },
      "execution_count": 44,
      "outputs": [
        {
          "output_type": "execute_result",
          "data": {
            "text/plain": [
              "device(type='cuda', index=0)"
            ]
          },
          "metadata": {},
          "execution_count": 44
        }
      ]
    },
    {
      "cell_type": "code",
      "source": [
        "torch.device('cpu')"
      ],
      "metadata": {
        "colab": {
          "base_uri": "https://localhost:8080/"
        },
        "id": "m5hDeGReOaWL",
        "outputId": "962104b9-43ac-4928-d06e-be0c66a9b55d"
      },
      "execution_count": 45,
      "outputs": [
        {
          "output_type": "execute_result",
          "data": {
            "text/plain": [
              "device(type='cpu')"
            ]
          },
          "metadata": {},
          "execution_count": 45
        }
      ]
    },
    {
      "cell_type": "code",
      "source": [
        "device = torch.device('cuda:0' if torch.cuda.is_available() else 'cpu')\n",
        "device"
      ],
      "metadata": {
        "colab": {
          "base_uri": "https://localhost:8080/"
        },
        "id": "P5gwHp2qOaoL",
        "outputId": "69b6615c-8b47-4e35-d0f6-7188d5723a04"
      },
      "execution_count": 52,
      "outputs": [
        {
          "output_type": "execute_result",
          "data": {
            "text/plain": [
              "device(type='cuda', index=0)"
            ]
          },
          "metadata": {},
          "execution_count": 52
        }
      ]
    },
    {
      "cell_type": "code",
      "source": [
        "x_cuda = x.to(device)\n",
        "x_cuda"
      ],
      "metadata": {
        "colab": {
          "base_uri": "https://localhost:8080/"
        },
        "id": "oBr79Ju_PV0o",
        "outputId": "cb152a0b-c55c-44a9-9e35-250de1b0af86"
      },
      "execution_count": 51,
      "outputs": [
        {
          "output_type": "execute_result",
          "data": {
            "text/plain": [
              "tensor([[0.2766, 0.6533, 0.6768],\n",
              "        [0.7129, 0.0262, 0.8906]], device='cuda:0')"
            ]
          },
          "metadata": {},
          "execution_count": 51
        }
      ]
    },
    {
      "cell_type": "code",
      "source": [
        "%time y = (x - x + x * 10.0)**2"
      ],
      "metadata": {
        "colab": {
          "base_uri": "https://localhost:8080/"
        },
        "id": "1nulBbMFPWDF",
        "outputId": "8b7c0da1-5cf7-41ba-fe6c-acf02c4c00cb"
      },
      "execution_count": 56,
      "outputs": [
        {
          "output_type": "stream",
          "name": "stdout",
          "text": [
            "CPU times: user 14.8 ms, sys: 44.3 ms, total: 59 ms\n",
            "Wall time: 59.3 ms\n"
          ]
        }
      ]
    },
    {
      "cell_type": "code",
      "source": [
        "%time y_cuda = (x_cuda - x_cuda + x_cuda * 10.0)**2"
      ],
      "metadata": {
        "colab": {
          "base_uri": "https://localhost:8080/"
        },
        "id": "Bekh6O73QXRM",
        "outputId": "c6c20903-961b-4c45-bb01-3e3557f88a9b"
      },
      "execution_count": 57,
      "outputs": [
        {
          "output_type": "stream",
          "name": "stdout",
          "text": [
            "CPU times: user 0 ns, sys: 265 µs, total: 265 µs\n",
            "Wall time: 271 µs\n"
          ]
        }
      ]
    }
  ]
}