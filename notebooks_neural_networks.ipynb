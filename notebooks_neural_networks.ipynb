{
  "nbformat": 4,
  "nbformat_minor": 0,
  "metadata": {
    "colab": {
      "provenance": [],
      "gpuType": "T4",
      "collapsed_sections": [
        "DMGXo9RaLBNX",
        "L6J0OPWyt7uM"
      ],
      "authorship_tag": "ABX9TyMeJWhzsCYB1wi8OcsUXbBS",
      "include_colab_link": true
    },
    "kernelspec": {
      "name": "python3",
      "display_name": "Python 3"
    },
    "language_info": {
      "name": "python"
    }
  },
  "cells": [
    {
      "cell_type": "markdown",
      "metadata": {
        "id": "view-in-github",
        "colab_type": "text"
      },
      "source": [
        "<a href=\"https://colab.research.google.com/github/ShedovaNastya/BVT2203_project_workshop/blob/main/notebooks_neural_networks.ipynb\" target=\"_parent\"><img src=\"https://colab.research.google.com/assets/colab-badge.svg\" alt=\"Open In Colab\"/></a>"
      ]
    },
    {
      "cell_type": "markdown",
      "source": [
        "# Нейрон и нейронная сеть"
      ],
      "metadata": {
        "id": "5wJPIWyJWzJY"
      }
    },
    {
      "cell_type": "markdown",
      "source": [
        "На вход нейрона подаются сигналы $ x_1, x_2 ... x_n $\n",
        "\n",
        "Эти параметры умножаются на веса $ w_1, w_2 ... w_n $\n",
        "\n",
        "Далее они передаются в нейрон(сумматор), в котором также есть параметр смещения b и получается сумма: $$ z = x_1*w_1 + x_2*w_2 + ... + x_n*w_n + b$$ Результат попадает в функцию активации $$ y=f(z)=f(x_1*w_1 + x_2*w_2 + ... + x_n*w_n + b)$$\n",
        "\n",
        "Веса и смещения настриваемые параметры Также можно записать по-другому: $$ y = f(\\sum_{i=0}^{N-1} w_i*x_i + b)$$ Запись через скалярное произведение: $$y = f(<\\overrightarrow{w} \\overrightarrow{x}> + b)$$ Функция активации - пороговая. Нейрон дает сигнал, только когда накапливается заряд.\n",
        "\n",
        "\\begin{equation*}\n",
        "f(z) =\n",
        " \\begin{cases}\n",
        "   0 &\\text{if z $\\leq 0$}\\\\\n",
        "   1&\\text{if z $>0$}\n",
        " \\end{cases}\n",
        "\\end{equation*}\n",
        "Место, где функция будет менять своё значение с нуля на единицу - разделяющая поверхность.\n",
        "Разделяющая поверхность находится там, где аргумент функции равен нулю.\n",
        "\n",
        "Она задаётся вектором $\\overrightarrow{w}$ и смещением b, также она является подмножеством пространства векторов\n",
        "\n",
        "Пороговая функция активации всегда будет равна 1 с той стороны от разделяющей прямой, в которую указывает $\\overrightarrow{w}$\n",
        "\n",
        "\n",
        "Уравнение задает гиперплоскость (прямую, плоскость, N-мерную плоскость)\n",
        "\n",
        "$\\overrightarrow{w}$ является нормалью к гиперплоскости, которая задана этим уравнением\n",
        "\n",
        "Сигмоида $$\\sigma(x) = \\frac{1}{1+e^{-x}}$$\n",
        "\\begin{equation*}\n",
        " \\begin{cases}\n",
        "   x \\rightarrow \\infty: \\sigma(x) \\rightarrow 1\\\\\n",
        "   x \\rightarrow -\\infty: \\sigma(x) \\rightarrow 0\\\\\n",
        "   0 < \\sigma(x) < 1\n",
        " \\end{cases}\n",
        "\\end{equation*}"
      ],
      "metadata": {
        "id": "hhJojL8LYFmN"
      }
    },
    {
      "cell_type": "markdown",
      "source": [
        "# Базовая работа в PyTorch"
      ],
      "metadata": {
        "id": "AG6LaHQmOCyH"
      }
    },
    {
      "cell_type": "code",
      "execution_count": null,
      "metadata": {
        "colab": {
          "base_uri": "https://localhost:8080/"
        },
        "id": "JfLc1koL6ION",
        "outputId": "9147a179-78ec-4a6d-b864-ba74af9ef64b"
      },
      "outputs": [
        {
          "output_type": "stream",
          "name": "stdout",
          "text": [
            "Looking in indexes: https://pypi.org/simple, https://us-python.pkg.dev/colab-wheels/public/simple/\n",
            "Requirement already satisfied: torch in /usr/local/lib/python3.10/dist-packages (2.0.1+cu118)\n",
            "Requirement already satisfied: filelock in /usr/local/lib/python3.10/dist-packages (from torch) (3.12.2)\n",
            "Requirement already satisfied: typing-extensions in /usr/local/lib/python3.10/dist-packages (from torch) (4.6.3)\n",
            "Requirement already satisfied: sympy in /usr/local/lib/python3.10/dist-packages (from torch) (1.11.1)\n",
            "Requirement already satisfied: networkx in /usr/local/lib/python3.10/dist-packages (from torch) (3.1)\n",
            "Requirement already satisfied: jinja2 in /usr/local/lib/python3.10/dist-packages (from torch) (3.1.2)\n",
            "Requirement already satisfied: triton==2.0.0 in /usr/local/lib/python3.10/dist-packages (from torch) (2.0.0)\n",
            "Requirement already satisfied: cmake in /usr/local/lib/python3.10/dist-packages (from triton==2.0.0->torch) (3.25.2)\n",
            "Requirement already satisfied: lit in /usr/local/lib/python3.10/dist-packages (from triton==2.0.0->torch) (16.0.6)\n",
            "Requirement already satisfied: MarkupSafe>=2.0 in /usr/local/lib/python3.10/dist-packages (from jinja2->torch) (2.1.3)\n",
            "Requirement already satisfied: mpmath>=0.19 in /usr/local/lib/python3.10/dist-packages (from sympy->torch) (1.3.0)\n"
          ]
        }
      ],
      "source": [
        "!pip install torch"
      ]
    },
    {
      "cell_type": "code",
      "source": [
        "import torch"
      ],
      "metadata": {
        "id": "R4XnidQU6qlO"
      },
      "execution_count": null,
      "outputs": []
    },
    {
      "cell_type": "code",
      "source": [
        "torch.zeros([3,4])"
      ],
      "metadata": {
        "colab": {
          "base_uri": "https://localhost:8080/"
        },
        "id": "lC3heNb47vaQ",
        "outputId": "95c9e448-fe27-447a-d8eb-45b89132bec3"
      },
      "execution_count": null,
      "outputs": [
        {
          "output_type": "execute_result",
          "data": {
            "text/plain": [
              "tensor([[0., 0., 0., 0.],\n",
              "        [0., 0., 0., 0.],\n",
              "        [0., 0., 0., 0.]])"
            ]
          },
          "metadata": {},
          "execution_count": 3
        }
      ]
    },
    {
      "cell_type": "code",
      "source": [
        "torch.ones([3,4,5])"
      ],
      "metadata": {
        "colab": {
          "base_uri": "https://localhost:8080/"
        },
        "id": "qyKntUTO77WI",
        "outputId": "5b433112-7ebe-47fb-cf64-620fdbb155b7"
      },
      "execution_count": null,
      "outputs": [
        {
          "output_type": "execute_result",
          "data": {
            "text/plain": [
              "tensor([[[1., 1., 1., 1., 1.],\n",
              "         [1., 1., 1., 1., 1.],\n",
              "         [1., 1., 1., 1., 1.],\n",
              "         [1., 1., 1., 1., 1.]],\n",
              "\n",
              "        [[1., 1., 1., 1., 1.],\n",
              "         [1., 1., 1., 1., 1.],\n",
              "         [1., 1., 1., 1., 1.],\n",
              "         [1., 1., 1., 1., 1.]],\n",
              "\n",
              "        [[1., 1., 1., 1., 1.],\n",
              "         [1., 1., 1., 1., 1.],\n",
              "         [1., 1., 1., 1., 1.],\n",
              "         [1., 1., 1., 1., 1.]]])"
            ]
          },
          "metadata": {},
          "execution_count": 4
        }
      ]
    },
    {
      "cell_type": "code",
      "source": [
        "torch.Tensor([[1, 2, 3, 4],\n",
        "             [5, 6, 7, 8],\n",
        "             [9, 10, 11, 12]])"
      ],
      "metadata": {
        "colab": {
          "base_uri": "https://localhost:8080/"
        },
        "id": "_TjqQcE38Jxc",
        "outputId": "3f9090a3-eca6-42a3-8f82-9f18b68d1c2a"
      },
      "execution_count": null,
      "outputs": [
        {
          "output_type": "execute_result",
          "data": {
            "text/plain": [
              "tensor([[ 1.,  2.,  3.,  4.],\n",
              "        [ 5.,  6.,  7.,  8.],\n",
              "        [ 9., 10., 11., 12.]])"
            ]
          },
          "metadata": {},
          "execution_count": 5
        }
      ]
    },
    {
      "cell_type": "code",
      "source": [
        "x = torch.Tensor([[1, 2, 3, 4],\n",
        "                  [5, 6, 7, 8],\n",
        "                  [9, 10, 11, 12]])\n",
        "x"
      ],
      "metadata": {
        "colab": {
          "base_uri": "https://localhost:8080/"
        },
        "id": "O3p9ZrlH-adp",
        "outputId": "a5babbbd-5288-4567-f145-2506449bfc1a"
      },
      "execution_count": null,
      "outputs": [
        {
          "output_type": "execute_result",
          "data": {
            "text/plain": [
              "tensor([[ 1.,  2.,  3.,  4.],\n",
              "        [ 5.,  6.,  7.,  8.],\n",
              "        [ 9., 10., 11., 12.]])"
            ]
          },
          "metadata": {},
          "execution_count": 6
        }
      ]
    },
    {
      "cell_type": "code",
      "source": [
        "x.size()#узнаем размер"
      ],
      "metadata": {
        "colab": {
          "base_uri": "https://localhost:8080/"
        },
        "id": "OW9tv438-khD",
        "outputId": "2c553140-f39b-490e-e9f9-b5a7249493d5"
      },
      "execution_count": null,
      "outputs": [
        {
          "output_type": "execute_result",
          "data": {
            "text/plain": [
              "torch.Size([3, 4])"
            ]
          },
          "metadata": {},
          "execution_count": 7
        }
      ]
    },
    {
      "cell_type": "code",
      "source": [
        "x.shape"
      ],
      "metadata": {
        "colab": {
          "base_uri": "https://localhost:8080/"
        },
        "id": "_MT5RuVf_Bgb",
        "outputId": "e9fe177d-1849-49da-838b-469cdfbc5c1e"
      },
      "execution_count": null,
      "outputs": [
        {
          "output_type": "execute_result",
          "data": {
            "text/plain": [
              "torch.Size([3, 4])"
            ]
          },
          "metadata": {},
          "execution_count": 8
        }
      ]
    },
    {
      "cell_type": "code",
      "source": [
        "x[0]"
      ],
      "metadata": {
        "colab": {
          "base_uri": "https://localhost:8080/"
        },
        "id": "9vltJ3YR_Bvk",
        "outputId": "64c3045f-f38c-4598-9e9d-b3230c46bb99"
      },
      "execution_count": null,
      "outputs": [
        {
          "output_type": "execute_result",
          "data": {
            "text/plain": [
              "tensor([1., 2., 3., 4.])"
            ]
          },
          "metadata": {},
          "execution_count": 9
        }
      ]
    },
    {
      "cell_type": "code",
      "source": [
        "x[1]"
      ],
      "metadata": {
        "colab": {
          "base_uri": "https://localhost:8080/"
        },
        "id": "NSpT3gA0_bYp",
        "outputId": "f6c2c0cb-6e8b-47d7-ed6d-ccb4b8309c12"
      },
      "execution_count": null,
      "outputs": [
        {
          "output_type": "execute_result",
          "data": {
            "text/plain": [
              "tensor([5., 6., 7., 8.])"
            ]
          },
          "metadata": {},
          "execution_count": 10
        }
      ]
    },
    {
      "cell_type": "code",
      "source": [
        "x[0,0]"
      ],
      "metadata": {
        "colab": {
          "base_uri": "https://localhost:8080/"
        },
        "id": "zmf0iqap_bbS",
        "outputId": "28129fc7-02b5-4058-f223-c290bed0c01f"
      },
      "execution_count": null,
      "outputs": [
        {
          "output_type": "execute_result",
          "data": {
            "text/plain": [
              "tensor(1.)"
            ]
          },
          "metadata": {},
          "execution_count": 11
        }
      ]
    },
    {
      "cell_type": "code",
      "source": [
        "x[:,0]"
      ],
      "metadata": {
        "colab": {
          "base_uri": "https://localhost:8080/"
        },
        "id": "mfVyyO_Z_bd-",
        "outputId": "c6ffb8ab-c00b-4e86-fc18-43eff1ad85f1"
      },
      "execution_count": null,
      "outputs": [
        {
          "output_type": "execute_result",
          "data": {
            "text/plain": [
              "tensor([1., 5., 9.])"
            ]
          },
          "metadata": {},
          "execution_count": 12
        }
      ]
    },
    {
      "cell_type": "code",
      "source": [
        "x + 10"
      ],
      "metadata": {
        "colab": {
          "base_uri": "https://localhost:8080/"
        },
        "id": "xjb7HyHD_bhC",
        "outputId": "b6520c71-fbd1-41a2-fba7-63334b6ae399"
      },
      "execution_count": null,
      "outputs": [
        {
          "output_type": "execute_result",
          "data": {
            "text/plain": [
              "tensor([[11., 12., 13., 14.],\n",
              "        [15., 16., 17., 18.],\n",
              "        [19., 20., 21., 22.]])"
            ]
          },
          "metadata": {},
          "execution_count": 13
        }
      ]
    },
    {
      "cell_type": "code",
      "source": [
        "x ** 2"
      ],
      "metadata": {
        "colab": {
          "base_uri": "https://localhost:8080/"
        },
        "id": "63EVc4Fe_blh",
        "outputId": "cff626a9-c491-4ca8-e34c-9d841d20beb5"
      },
      "execution_count": null,
      "outputs": [
        {
          "output_type": "execute_result",
          "data": {
            "text/plain": [
              "tensor([[  1.,   4.,   9.,  16.],\n",
              "        [ 25.,  36.,  49.,  64.],\n",
              "        [ 81., 100., 121., 144.]])"
            ]
          },
          "metadata": {},
          "execution_count": 14
        }
      ]
    },
    {
      "cell_type": "code",
      "source": [
        "y = torch.Tensor([[12, 11, 10, 9],\n",
        "                 [8, 7, 6, 5],\n",
        "                 [4, 3, 2, 1]])"
      ],
      "metadata": {
        "id": "jPE1MGhbATza"
      },
      "execution_count": null,
      "outputs": []
    },
    {
      "cell_type": "code",
      "source": [
        "x + y"
      ],
      "metadata": {
        "colab": {
          "base_uri": "https://localhost:8080/"
        },
        "id": "_viARn1RAT_r",
        "outputId": "3b53e2a5-e37c-4ee3-c280-34259df7249b"
      },
      "execution_count": null,
      "outputs": [
        {
          "output_type": "execute_result",
          "data": {
            "text/plain": [
              "tensor([[13., 13., 13., 13.],\n",
              "        [13., 13., 13., 13.],\n",
              "        [13., 13., 13., 13.]])"
            ]
          },
          "metadata": {},
          "execution_count": 16
        }
      ]
    },
    {
      "cell_type": "code",
      "source": [
        "x * y"
      ],
      "metadata": {
        "colab": {
          "base_uri": "https://localhost:8080/"
        },
        "id": "vY_JSe6JAUDL",
        "outputId": "5ca9d6f4-ceb5-462b-904d-2f67d6c05573"
      },
      "execution_count": null,
      "outputs": [
        {
          "output_type": "execute_result",
          "data": {
            "text/plain": [
              "tensor([[12., 22., 30., 36.],\n",
              "        [40., 42., 42., 40.],\n",
              "        [36., 30., 22., 12.]])"
            ]
          },
          "metadata": {},
          "execution_count": 17
        }
      ]
    },
    {
      "cell_type": "code",
      "source": [
        "x % 2"
      ],
      "metadata": {
        "colab": {
          "base_uri": "https://localhost:8080/"
        },
        "id": "nVuGeItwBD5o",
        "outputId": "958e7eb2-5eaa-4bf4-d6e9-4f3e553a916a"
      },
      "execution_count": null,
      "outputs": [
        {
          "output_type": "execute_result",
          "data": {
            "text/plain": [
              "tensor([[1., 0., 1., 0.],\n",
              "        [1., 0., 1., 0.],\n",
              "        [1., 0., 1., 0.]])"
            ]
          },
          "metadata": {},
          "execution_count": 18
        }
      ]
    },
    {
      "cell_type": "code",
      "source": [
        "x % y"
      ],
      "metadata": {
        "colab": {
          "base_uri": "https://localhost:8080/"
        },
        "id": "NM497ozGBEQZ",
        "outputId": "eeba08c3-91e9-44d2-9882-07383945689a"
      },
      "execution_count": null,
      "outputs": [
        {
          "output_type": "execute_result",
          "data": {
            "text/plain": [
              "tensor([[1., 2., 3., 4.],\n",
              "        [5., 6., 1., 3.],\n",
              "        [1., 1., 1., 0.]])"
            ]
          },
          "metadata": {},
          "execution_count": 19
        }
      ]
    },
    {
      "cell_type": "code",
      "source": [
        "torch.exp(x)#e в степени x"
      ],
      "metadata": {
        "colab": {
          "base_uri": "https://localhost:8080/"
        },
        "id": "vAj8abDNBi9u",
        "outputId": "b53c396e-e417-4fdb-e231-9be264389ca4"
      },
      "execution_count": null,
      "outputs": [
        {
          "output_type": "execute_result",
          "data": {
            "text/plain": [
              "tensor([[2.7183e+00, 7.3891e+00, 2.0086e+01, 5.4598e+01],\n",
              "        [1.4841e+02, 4.0343e+02, 1.0966e+03, 2.9810e+03],\n",
              "        [8.1031e+03, 2.2026e+04, 5.9874e+04, 1.6275e+05]])"
            ]
          },
          "metadata": {},
          "execution_count": 20
        }
      ]
    },
    {
      "cell_type": "code",
      "source": [
        "torch.log(x)#десятичный логарифм"
      ],
      "metadata": {
        "colab": {
          "base_uri": "https://localhost:8080/"
        },
        "id": "vkIL2HigBjJ7",
        "outputId": "c96262f0-f8cd-4356-fe0d-d9d36bfd2352"
      },
      "execution_count": null,
      "outputs": [
        {
          "output_type": "execute_result",
          "data": {
            "text/plain": [
              "tensor([[0.0000, 0.6931, 1.0986, 1.3863],\n",
              "        [1.6094, 1.7918, 1.9459, 2.0794],\n",
              "        [2.1972, 2.3026, 2.3979, 2.4849]])"
            ]
          },
          "metadata": {},
          "execution_count": 21
        }
      ]
    },
    {
      "cell_type": "markdown",
      "source": [
        "## Использование масок"
      ],
      "metadata": {
        "id": "TgYZM3YNMKl1"
      }
    },
    {
      "cell_type": "code",
      "source": [
        "mask = x > 3"
      ],
      "metadata": {
        "id": "gksg5vtkBjMs"
      },
      "execution_count": null,
      "outputs": []
    },
    {
      "cell_type": "code",
      "source": [
        "x[mask]"
      ],
      "metadata": {
        "colab": {
          "base_uri": "https://localhost:8080/"
        },
        "id": "_YTsY4GNBjQC",
        "outputId": "d9486dde-bedc-432b-f880-aff249915be8"
      },
      "execution_count": null,
      "outputs": [
        {
          "output_type": "execute_result",
          "data": {
            "text/plain": [
              "tensor([ 4.,  5.,  6.,  7.,  8.,  9., 10., 11., 12.])"
            ]
          },
          "metadata": {},
          "execution_count": 23
        }
      ]
    },
    {
      "cell_type": "code",
      "source": [
        "x[x > 3]"
      ],
      "metadata": {
        "colab": {
          "base_uri": "https://localhost:8080/"
        },
        "id": "ABSRIoPpCPFi",
        "outputId": "0f8c7140-f12a-4fa9-85cb-8fb2a8eee908"
      },
      "execution_count": null,
      "outputs": [
        {
          "output_type": "execute_result",
          "data": {
            "text/plain": [
              "tensor([ 4.,  5.,  6.,  7.,  8.,  9., 10., 11., 12.])"
            ]
          },
          "metadata": {},
          "execution_count": 24
        }
      ]
    },
    {
      "cell_type": "code",
      "source": [
        "x.sum"
      ],
      "metadata": {
        "colab": {
          "base_uri": "https://localhost:8080/"
        },
        "id": "PeYhlmDuCPMz",
        "outputId": "ad441778-e162-4d49-dd6e-dfacf670b8a5"
      },
      "execution_count": null,
      "outputs": [
        {
          "output_type": "execute_result",
          "data": {
            "text/plain": [
              "<function Tensor.sum>"
            ]
          },
          "metadata": {},
          "execution_count": 25
        }
      ]
    },
    {
      "cell_type": "code",
      "source": [
        "x = torch.tensor([[1, 2, 3], [4, 5, 6], [7, 8, 9]])\n",
        "limit = 3\n",
        "\n",
        "larger_than_limit_sum = x[x > limit].sum()\n",
        "\n",
        "print(larger_than_limit_sum)"
      ],
      "metadata": {
        "colab": {
          "base_uri": "https://localhost:8080/"
        },
        "id": "8Ag7IvL0CPWg",
        "outputId": "f98570c2-75d8-4f1a-fb63-af1aac1b8822"
      },
      "execution_count": null,
      "outputs": [
        {
          "output_type": "stream",
          "name": "stdout",
          "text": [
            "3\n",
            "tensor(39)\n"
          ]
        }
      ]
    },
    {
      "cell_type": "markdown",
      "source": [
        "## Копирование тензоров"
      ],
      "metadata": {
        "id": "DMGXo9RaLBNX"
      }
    },
    {
      "cell_type": "code",
      "source": [
        "y = x\n",
        "y[0, 0] = 999\n",
        "print(x)\n",
        "print(y)#происходит копирование по ссылке, все дублируется впоследствии"
      ],
      "metadata": {
        "colab": {
          "base_uri": "https://localhost:8080/"
        },
        "id": "BcHqAiIiEFh7",
        "outputId": "22b389b5-df89-4ee2-a20c-5a21d0c20b2d"
      },
      "execution_count": null,
      "outputs": [
        {
          "output_type": "stream",
          "name": "stdout",
          "text": [
            "tensor([[999,   2,   3],\n",
            "        [  4,   5,   6],\n",
            "        [  7,   8,   9]])\n",
            "tensor([[999,   2,   3],\n",
            "        [  4,   5,   6],\n",
            "        [  7,   8,   9]])\n"
          ]
        }
      ]
    },
    {
      "cell_type": "code",
      "source": [
        "x = torch.Tensor([[1, 2, 3, 4],\n",
        "                  [5, 6, 7, 8],\n",
        "                  [9, 10, 11, 12]])"
      ],
      "metadata": {
        "id": "tmvq_PxPEFlh"
      },
      "execution_count": null,
      "outputs": []
    },
    {
      "cell_type": "code",
      "source": [
        "y = x.clone()#обычное копирование\n",
        "y[0,0] = 999\n",
        "print(x)\n",
        "print(y)"
      ],
      "metadata": {
        "colab": {
          "base_uri": "https://localhost:8080/"
        },
        "id": "a4qfzq7ZEFos",
        "outputId": "a6a48f9f-d312-427c-8476-2a3922b37dc3"
      },
      "execution_count": null,
      "outputs": [
        {
          "output_type": "stream",
          "name": "stdout",
          "text": [
            "tensor([[ 1.,  2.,  3.,  4.],\n",
            "        [ 5.,  6.,  7.,  8.],\n",
            "        [ 9., 10., 11., 12.]])\n",
            "tensor([[999.,   2.,   3.,   4.],\n",
            "        [  5.,   6.,   7.,   8.],\n",
            "        [  9.,  10.,  11.,  12.]])\n"
          ]
        }
      ]
    },
    {
      "cell_type": "markdown",
      "source": [],
      "metadata": {
        "id": "gYs2PqowLtO-"
      }
    },
    {
      "cell_type": "markdown",
      "source": [
        "## Меняем тип данных и точность"
      ],
      "metadata": {
        "id": "x_QAjbv4Lthr"
      }
    },
    {
      "cell_type": "code",
      "source": [
        "x.dtype"
      ],
      "metadata": {
        "colab": {
          "base_uri": "https://localhost:8080/"
        },
        "id": "KIZZzx70EFr_",
        "outputId": "b55ec7e5-d30c-47b5-a35b-15fd4c0611cc"
      },
      "execution_count": null,
      "outputs": [
        {
          "output_type": "execute_result",
          "data": {
            "text/plain": [
              "torch.float32"
            ]
          },
          "metadata": {},
          "execution_count": 30
        }
      ]
    },
    {
      "cell_type": "code",
      "source": [
        "x = x.double()\n",
        "print(x)\n",
        "x = x.int()\n",
        "print(x)\n",
        "x = x.float()\n",
        "print(x)"
      ],
      "metadata": {
        "colab": {
          "base_uri": "https://localhost:8080/"
        },
        "id": "_8KwJ3e3Im6l",
        "outputId": "7a6bcbb8-d796-4dae-827b-620db60eefd6"
      },
      "execution_count": null,
      "outputs": [
        {
          "output_type": "stream",
          "name": "stdout",
          "text": [
            "tensor([[ 1.,  2.,  3.,  4.],\n",
            "        [ 5.,  6.,  7.,  8.],\n",
            "        [ 9., 10., 11., 12.]], dtype=torch.float64)\n",
            "tensor([[ 1,  2,  3,  4],\n",
            "        [ 5,  6,  7,  8],\n",
            "        [ 9, 10, 11, 12]], dtype=torch.int32)\n",
            "tensor([[ 1.,  2.,  3.,  4.],\n",
            "        [ 5.,  6.,  7.,  8.],\n",
            "        [ 9., 10., 11., 12.]])\n"
          ]
        }
      ]
    },
    {
      "cell_type": "markdown",
      "source": [
        "## Использование библиотеки numpy"
      ],
      "metadata": {
        "id": "qomsQfJnKttO"
      }
    },
    {
      "cell_type": "code",
      "source": [
        "import numpy as np\n",
        "x = np.arange(12).reshape((3,4))\n",
        "x"
      ],
      "metadata": {
        "colab": {
          "base_uri": "https://localhost:8080/"
        },
        "id": "o0mmlZLvIm98",
        "outputId": "d9c62b8f-d2d5-4fb3-824e-48764592e877"
      },
      "execution_count": null,
      "outputs": [
        {
          "output_type": "execute_result",
          "data": {
            "text/plain": [
              "array([[ 0,  1,  2,  3],\n",
              "       [ 4,  5,  6,  7],\n",
              "       [ 8,  9, 10, 11]])"
            ]
          },
          "metadata": {},
          "execution_count": 32
        }
      ]
    },
    {
      "cell_type": "code",
      "source": [
        "x = torch.from_numpy(x)\n",
        "x"
      ],
      "metadata": {
        "colab": {
          "base_uri": "https://localhost:8080/"
        },
        "id": "2R7x1tgYInA8",
        "outputId": "e754f71e-1475-4671-fcb3-5b05cf249747"
      },
      "execution_count": null,
      "outputs": [
        {
          "output_type": "execute_result",
          "data": {
            "text/plain": [
              "tensor([[ 0,  1,  2,  3],\n",
              "        [ 4,  5,  6,  7],\n",
              "        [ 8,  9, 10, 11]])"
            ]
          },
          "metadata": {},
          "execution_count": 33
        }
      ]
    },
    {
      "cell_type": "code",
      "source": [
        "x = x.numpy()\n",
        "x"
      ],
      "metadata": {
        "colab": {
          "base_uri": "https://localhost:8080/"
        },
        "id": "-oClVUfmInEi",
        "outputId": "5b5363d6-bc04-4735-8f10-8dc5418ad77c"
      },
      "execution_count": null,
      "outputs": [
        {
          "output_type": "execute_result",
          "data": {
            "text/plain": [
              "array([[ 0,  1,  2,  3],\n",
              "       [ 4,  5,  6,  7],\n",
              "       [ 8,  9, 10, 11]])"
            ]
          },
          "metadata": {},
          "execution_count": 34
        }
      ]
    },
    {
      "cell_type": "markdown",
      "source": [
        "## Вычисления на GPU\n"
      ],
      "metadata": {
        "id": "xrIJO4RJKdIJ"
      }
    },
    {
      "cell_type": "code",
      "source": [
        "x = torch.rand([2000, 3000])#создаем массив с рандомными числами\n",
        "x"
      ],
      "metadata": {
        "colab": {
          "base_uri": "https://localhost:8080/"
        },
        "id": "OVwOilWJInHo",
        "outputId": "79c13902-32fb-4709-8416-c9ac749cb500"
      },
      "execution_count": null,
      "outputs": [
        {
          "output_type": "execute_result",
          "data": {
            "text/plain": [
              "tensor([[0.7598, 0.3701, 0.8641,  ..., 0.4964, 0.9485, 0.3689],\n",
              "        [0.1101, 0.3314, 0.2756,  ..., 0.6365, 0.2863, 0.9097],\n",
              "        [0.8957, 0.2744, 0.8844,  ..., 0.2807, 0.5439, 0.9821],\n",
              "        ...,\n",
              "        [0.4105, 0.9733, 0.6366,  ..., 0.7906, 0.8510, 0.4845],\n",
              "        [0.1353, 0.8476, 0.9355,  ..., 0.6696, 0.4765, 0.5758],\n",
              "        [0.8280, 0.5723, 0.0237,  ..., 0.4278, 0.6106, 0.1692]])"
            ]
          },
          "metadata": {},
          "execution_count": 35
        }
      ]
    },
    {
      "cell_type": "code",
      "source": [
        "torch.cuda.is_available()#проверка наличия куды на компьютере"
      ],
      "metadata": {
        "colab": {
          "base_uri": "https://localhost:8080/"
        },
        "id": "M15YxlISInLw",
        "outputId": "1a0be117-6960-44ee-b491-aba7096c5f14"
      },
      "execution_count": null,
      "outputs": [
        {
          "output_type": "execute_result",
          "data": {
            "text/plain": [
              "False"
            ]
          },
          "metadata": {},
          "execution_count": 36
        }
      ]
    },
    {
      "cell_type": "code",
      "source": [
        "torch.device('cuda:0')#девайс, принадлежащий видеокарте(счет начинается с 0)"
      ],
      "metadata": {
        "colab": {
          "base_uri": "https://localhost:8080/"
        },
        "id": "49728MaRInRB",
        "outputId": "fa12c5d2-a758-4fe8-af86-5ced50cef2e6"
      },
      "execution_count": null,
      "outputs": [
        {
          "output_type": "execute_result",
          "data": {
            "text/plain": [
              "device(type='cuda', index=0)"
            ]
          },
          "metadata": {},
          "execution_count": 37
        }
      ]
    },
    {
      "cell_type": "code",
      "source": [
        "torch.device('cpu')#девайс, принадлежащий процессору"
      ],
      "metadata": {
        "colab": {
          "base_uri": "https://localhost:8080/"
        },
        "id": "m5hDeGReOaWL",
        "outputId": "5655f989-a5cb-4928-955e-7e474a7bc4c1"
      },
      "execution_count": null,
      "outputs": [
        {
          "output_type": "execute_result",
          "data": {
            "text/plain": [
              "device(type='cpu')"
            ]
          },
          "metadata": {},
          "execution_count": 38
        }
      ]
    },
    {
      "cell_type": "code",
      "source": [
        "device = torch.device('cuda:0' if torch.cuda.is_available() else 'cpu')#автоматически выбирает девайс\n",
        "device"
      ],
      "metadata": {
        "colab": {
          "base_uri": "https://localhost:8080/"
        },
        "id": "P5gwHp2qOaoL",
        "outputId": "04fa4ad1-82ce-4c99-f895-7acde56cecae"
      },
      "execution_count": null,
      "outputs": [
        {
          "output_type": "execute_result",
          "data": {
            "text/plain": [
              "device(type='cpu')"
            ]
          },
          "metadata": {},
          "execution_count": 39
        }
      ]
    },
    {
      "cell_type": "code",
      "source": [
        "x_cuda = x.to(device)#тензор на куде\n",
        "x_cuda"
      ],
      "metadata": {
        "colab": {
          "base_uri": "https://localhost:8080/"
        },
        "id": "oBr79Ju_PV0o",
        "outputId": "c107356e-d013-4579-a0a3-85b0c0405f81"
      },
      "execution_count": null,
      "outputs": [
        {
          "output_type": "execute_result",
          "data": {
            "text/plain": [
              "tensor([[0.7598, 0.3701, 0.8641,  ..., 0.4964, 0.9485, 0.3689],\n",
              "        [0.1101, 0.3314, 0.2756,  ..., 0.6365, 0.2863, 0.9097],\n",
              "        [0.8957, 0.2744, 0.8844,  ..., 0.2807, 0.5439, 0.9821],\n",
              "        ...,\n",
              "        [0.4105, 0.9733, 0.6366,  ..., 0.7906, 0.8510, 0.4845],\n",
              "        [0.1353, 0.8476, 0.9355,  ..., 0.6696, 0.4765, 0.5758],\n",
              "        [0.8280, 0.5723, 0.0237,  ..., 0.4278, 0.6106, 0.1692]])"
            ]
          },
          "metadata": {},
          "execution_count": 40
        }
      ]
    },
    {
      "cell_type": "code",
      "source": [
        "%time y = (x - x + x * 10.0)**2"
      ],
      "metadata": {
        "colab": {
          "base_uri": "https://localhost:8080/"
        },
        "id": "1nulBbMFPWDF",
        "outputId": "618608df-b0ee-48a4-9a5a-e337391f6b76"
      },
      "execution_count": null,
      "outputs": [
        {
          "output_type": "stream",
          "name": "stdout",
          "text": [
            "CPU times: user 16.5 ms, sys: 52.4 ms, total: 68.9 ms\n",
            "Wall time: 72 ms\n"
          ]
        }
      ]
    },
    {
      "cell_type": "code",
      "source": [
        "%time y_cuda = (x_cuda - x_cuda + x_cuda * 10.0)**2"
      ],
      "metadata": {
        "colab": {
          "base_uri": "https://localhost:8080/"
        },
        "id": "Bekh6O73QXRM",
        "outputId": "62740f9b-62fd-410c-c4b8-aa516d3a5950"
      },
      "execution_count": null,
      "outputs": [
        {
          "output_type": "stream",
          "name": "stdout",
          "text": [
            "CPU times: user 15.2 ms, sys: 48.2 ms, total: 63.4 ms\n",
            "Wall time: 62.7 ms\n"
          ]
        }
      ]
    },
    {
      "cell_type": "markdown",
      "source": [
        "# Строим первую нейронную сеть\n"
      ],
      "metadata": {
        "id": "L6J0OPWyt7uM"
      }
    },
    {
      "cell_type": "markdown",
      "source": [
        "## Восстановление зависимости нейронной сетью\n"
      ],
      "metadata": {
        "id": "1XmsE8xSuMvt"
      }
    },
    {
      "cell_type": "markdown",
      "source": [
        "Размеченная обучающая выборка состоит из некоторого количество объектов и для этих объектов мы знаем:\n",
        "признаки $$ x_1, x_2, ... , x_n $$\n",
        "и метку объекта\n",
        "$$ y_1, y_2, ... , y_n $$\n",
        "\n",
        "Перед обучением выборку надо разделить на три датасета:\n",
        "\n",
        "* **Тренировочный** (используется для обучения нейронной сети)\n",
        "* **Валидационный** (используется для настройки параметров модели)\n",
        "* **Тестовый** (используется для проверки окончательного результата)"
      ],
      "metadata": {
        "id": "M4TLKhNhuVnZ"
      }
    },
    {
      "cell_type": "markdown",
      "source": [
        "## Компоненты нейронной сети\n"
      ],
      "metadata": {
        "id": "A9pR6aE6vxGw"
      }
    },
    {
      "cell_type": "markdown",
      "source": [
        "\n",
        "\n",
        "### Этапы построения нейронной сети\n",
        "\n",
        "Представим что нейронная сеть, которую мы должны научить -- это пульт с ручками, а успешно себя вести он будет тогда, когда ручки этого пульта будут в правильном положении.\n",
        "* **Архитектура нейронной сети** (определиться со структорой взаимодействия нейронов, функцией активации и тд. Придумать, как между аргументом и результатом будут происходить вычисления)\n",
        "* **Функция потерь**(ее минимум будет соотсооветствоовать наилучшему распраспложению \"ручек на пульте\")\n",
        "* **Метод оптимизации**(на сколько и как нужно крутить наши \"ручки\")\n",
        "\n",
        "\n",
        "Последний нейрон **линейный**. Между этим нейроном и аргументом стоит много сигмоидных нейронов.\n",
        "\n",
        "Для того, чтобы обучить, необходимо подобрать параметры у выходного нейрона и у нейронов скрытого слоя таким образом, чтобы выходное значение нашей нейронной сети наилучшим образом подходило тому, что мы наблюдали.\n",
        "\n",
        "\n"
      ],
      "metadata": {
        "id": "-AcjM5ITwkeP"
      }
    },
    {
      "cell_type": "markdown",
      "source": [
        "## Настройка параметров нашей нейронной сети\n",
        "\n",
        "веса $w_1^1, w_2^1, ... , w_n^1$ , которые \"взвешивают\" входных значения в первый и единственный в этой нейронной сети скрытый слой. Эти веса\n",
        "отвечают за то, насколько круто будет растить соответствующая сигмоида.\n",
        "\n",
        "Кроме весов скрытого слоя, мы можем настраивать смещеня скрытого слоя $b_1^1, b_2^1, ... , b_n^1$.\n",
        "\n",
        "Также мы можем настраивать веса второго слоя $w_1^2, w_2^2, ... , w_n^2$\n",
        "\n",
        "Веса второго слоя будут означать амплитуду соответствующей сигмоиды.\n",
        "\n",
        "Также мы можем настраивать смещеня второго слоя $b_1^2$"
      ],
      "metadata": {
        "id": "XMikZ0kr12x7"
      }
    },
    {
      "cell_type": "markdown",
      "source": [
        "Для настройки параметров нейронной сети будем использовать градиентный спуск. Веса будем описывать вектором\n",
        "$$\n",
        "\\begin{equation*}\n",
        "w_0 = \\left(\n",
        "    \\begin{array}{c}\n",
        "    w_0\\\\\n",
        "    w_1\\\\\n",
        "    \\vdots\\\\\n",
        "    w_n\\\\\n",
        "    \\vdots\\\\\n",
        "    b_0\\\\\n",
        "    b_1\\\\\n",
        "    \\vdots\\\\\n",
        "    b_n\n",
        "    \\end{array}\n",
        "\\right)\n",
        "\\end{equation*}\n",
        "$$\n",
        "\n",
        "\n",
        "Далее берём функцию потерь и считаем её производную, а точнее градиент.\n",
        "\n",
        "Градиент - вектор, состоящий из производных по каждой из координат функции\n",
        "$$\n",
        "\\begin{equation*}\n",
        "    \\nabla f = \\left(\n",
        "        \\begin{array}{c}\n",
        "        \\frac{\\partial f}{\\partial w_0} \\\\\n",
        "        \\frac{\\partial f}{\\partial w_1} \\\\\n",
        "        \\vdots\\\\\n",
        "        \\frac{\\partial f}{\\partial w_n}\n",
        "        \\end{array}\n",
        "    \\right)\n",
        "\\end{equation*}\n",
        "$$\n",
        "\n",
        "Градиент функции потерь показывает в сторону наибольшего роста функции потерь.\n",
        "Поскольку нам надо уменьшение потери, поэтому мы будем двигаться в сторону, обратную градиенту.\n",
        "Мы получаем новый вектор весов:\n",
        "$$\n",
        "w_1 = w_0 - \\alpha \\nabla f{w_0}\n",
        "$$\n",
        "Если мы хотем ещё сильнее минимизировать функцию потерь, мы можем взять градиент от $w_1$\n",
        "Таким образом мы получим точку\n",
        "$$\n",
        "w_2 = w_1 - \\alpha \\nabla f{w_1}\n",
        "$$\n",
        "\n",
        "$\\alpha$ - скорость обучения сети, в нашем случае фиксированный коэффициент\n",
        "\n",
        "При помощи градиентного спуска мы можем делать достаточно большое количество шагов.\n",
        "\n",
        "Градиентный спуск может найти минимум функции, но не оптимальный!!!!"
      ],
      "metadata": {
        "id": "HT9Lex_C3MbV"
      }
    },
    {
      "cell_type": "markdown",
      "source": [
        "Ограничения функции потерь:\n",
        "* функция потерь должна быть **дифференцируема**\n",
        "* производная **не должна** равняться нулю\n",
        "$$\n",
        " \\frac{\\partial}{\\partial \\overline{y_i}} MSE = -\\frac{2}{N} (y_i - \\overline{y_i})\n",
        "$$\n",
        "\n",
        "$\\overline{y_i}$ - функция должна была выдать\n",
        "\n",
        "$y_i$ - результат вывода функции"
      ],
      "metadata": {
        "id": "rWEdOd6T3woi"
      }
    },
    {
      "cell_type": "markdown",
      "source": [],
      "metadata": {
        "id": "nFP6LDqi44vT"
      }
    },
    {
      "cell_type": "markdown",
      "source": [
        "Мы знаем производную функции потерь. По этой производной нам необходимо вычислить производные всех параметров сети.\n",
        "$$\n",
        "L = \\bigg(f_4 \\Big(f_2 \\big(f_1(x)\\big)\\Big), f_3 \\big(f_1(x)\\big)\\bigg)\n",
        "$$\n",
        "$$\n",
        "\\frac{\\partial f(g(x))}{\\partial x} = \\frac{\\partial f}{\\partial g} \\frac{\\partial g}{\\partial x}\n",
        "$$\n",
        "\n",
        "![graph](https://sun9-37.userapi.com/impg/YC9jGBMhDYUvhFvS9ObSRT9fnTz-1Gtjh7fzag/2nJ7A2mkwiU.jpg?size=435x213&quality=96&sign=6b4c9fca6ffb8d4cb3b79883b4613d75&type=album)"
      ],
      "metadata": {
        "id": "Kit5Oqa75oDc"
      }
    },
    {
      "cell_type": "markdown",
      "source": [
        "$$\n",
        "    \\frac{\\partial L}{\\partial w_1} =\n",
        "    \\frac{\\partial L}{\\partial y_4}[\n",
        "        \\frac{\\partial f_4}{\\partial y_2}\n",
        "        \\frac{\\partial f_2}{\\partial y_1}+\n",
        "        \\frac{\\partial f_4}{\\partial y_3}\n",
        "        \\frac{\\partial f_3}{\\partial y_1}\n",
        "    ]\n",
        "    \\frac{\\partial f_1}{\\partial w_1}\n",
        "$$\n",
        "\n",
        "Алгоритм обратного распрастранения ошибки\n",
        "\n",
        "Starter kit\n",
        "\n",
        "* архитектура нейронной сети(в каком порядке и как определены нейроны)\n",
        "* определиться с функцией потерь(дифференцируемая функция, показывающая насколько хорошо решается поставленная задача)\n",
        "* определиться с методом оптимизации(как настраивать параметры сети, зная производную функции потерь)\n",
        "* подбор метрик(насколько хорошо обучается нейронная сеть)"
      ],
      "metadata": {
        "id": "UkQcep5v4shG"
      }
    },
    {
      "cell_type": "markdown",
      "source": [
        "## Реализация градиентного спуска в PytTorch"
      ],
      "metadata": {
        "id": "vhZcwiMOvLic"
      }
    },
    {
      "cell_type": "markdown",
      "source": [],
      "metadata": {
        "id": "RteT59Hvv1qG"
      }
    },
    {
      "cell_type": "markdown",
      "source": [
        "$$f(x) \\longrightarrow  \\displaystyle \\min_{x} $$\n",
        "\n",
        "$$\n",
        "x^{t+1} = x^t - \\alpha  f'(x^t)\n",
        "$$\n",
        "$$\n",
        "    f(x^{t+1}) = f(x^t - \\alpha f'(x^t))\n",
        "$$"
      ],
      "metadata": {
        "id": "2OaO-iTgveZi"
      }
    },
    {
      "cell_type": "markdown",
      "source": [
        "пример\n",
        "$$\n",
        "f(x) = 10 * \\sum_{ij} x_{ij}^2 \\\\\n",
        "f'(X)_X = ? \\\\\n",
        "$$\n",
        "Производная от тензора - градиент\n",
        "$$\n",
        "f'(\\textbf{X})_{x_{kl}} = \\Big( 10\\cdot\\sum\\limits_{i, j}x_{ij}^2\\Big)_{x_{kl}}' = 10 \\cdot\\Big(\\sum\\limits_{i, j}x_{ij}^2\\Big)_{x_{kl}}'\n",
        "$$\n",
        "\n",
        "$$ \\quad = 10 \\cdot\\sum\\limits_{i, j}\\Big(x_{ij}^2\\Big)_{x_{kl}}' $$\n",
        "\n",
        "$$ \\quad = 10 \\cdot\\sum\\limits_{i, j}2 x_{ij} \\big(x_{ij}\\big)_{x_{kl}}' $$\n",
        "\n",
        "$$ \\quad = 10 \\cdot 2 x_{kl} \\cdot 1 = 20 x_{kl} $$\n",
        "\n",
        "$$f(\\textbf{X}) = 10\\cdot\\sum\\limits_{i, j}x_{ij}^2$$\n",
        "\n",
        "$$f'(\\textbf{X})_{\\textbf{X}} = 20 \\textbf{X} $$"
      ],
      "metadata": {
        "id": "odpKcuwQw1Dc"
      }
    },
    {
      "cell_type": "code",
      "source": [
        "import torch\n",
        "x = torch.tensor([[1, 2, 3, 4],\n",
        "                  [5, 6, 7, 8],\n",
        "                  [9, 10, 11, 12]], dtype=float, requires_grad=True) #атрибут requires_grad=True сообщает о том,\n",
        "                  #что данный тензор является переменной, по которой нужно будет считать градиенты и\n",
        "                  #превращает тензор-константу в тензор-переменную"
      ],
      "metadata": {
        "id": "sZ1_Cb58xf4Z"
      },
      "execution_count": null,
      "outputs": []
    },
    {
      "cell_type": "code",
      "source": [
        "device = torch.device('cuda:0' if torch.cuda.is_available() else 'cpu')\n",
        "x = x.to(device) #подключение тензора к вычислительной мощности\n",
        "x"
      ],
      "metadata": {
        "colab": {
          "base_uri": "https://localhost:8080/"
        },
        "id": "zsNnF7TYzEnW",
        "outputId": "40a8f298-c10e-4661-9046-432223b20e0a"
      },
      "execution_count": null,
      "outputs": [
        {
          "output_type": "execute_result",
          "data": {
            "text/plain": [
              "tensor([[ 1.,  2.,  3.,  4.],\n",
              "        [ 5.,  6.,  7.,  8.],\n",
              "        [ 9., 10., 11., 12.]], dtype=torch.float64, requires_grad=True)"
            ]
          },
          "metadata": {},
          "execution_count": 44
        }
      ]
    },
    {
      "cell_type": "code",
      "source": [
        "function =  10 * (x ** 2).sum()\n",
        "#составление функции зависящую от тензора X, который является переменной\n",
        "function\n",
        "function.backward() #вычисление производной функции, метод применяется к функции, ничего не возвращает"
      ],
      "metadata": {
        "id": "e-1HhzEHzkVD"
      },
      "execution_count": null,
      "outputs": []
    },
    {
      "cell_type": "code",
      "source": [
        "x.grad #метод, который возвращает результат нахождения градиента функции"
      ],
      "metadata": {
        "colab": {
          "base_uri": "https://localhost:8080/"
        },
        "id": "silJcZYr0EG6",
        "outputId": "3cb899bb-0f25-4006-be73-e99938eb95bb"
      },
      "execution_count": null,
      "outputs": [
        {
          "output_type": "execute_result",
          "data": {
            "text/plain": [
              "tensor([[ 20.,  40.,  60.,  80.],\n",
              "        [100., 120., 140., 160.],\n",
              "        [180., 200., 220., 240.]], dtype=torch.float64)"
            ]
          },
          "metadata": {},
          "execution_count": 46
        }
      ]
    },
    {
      "cell_type": "code",
      "source": [
        "print(function.grad_fn) #последняя операция дифференцирования\n",
        "print(function.grad_fn.next_functions[0][0])\n",
        "print(function.grad_fn.next_functions[0][0].next_functions[0][0])\n",
        "print(function.grad_fn.next_functions[0][0].next_functions[0][0].next_functions[0][0]) #первая операция дифференцирования"
      ],
      "metadata": {
        "colab": {
          "base_uri": "https://localhost:8080/"
        },
        "id": "A-6Jaoks26lq",
        "outputId": "d18420b3-839d-40d8-b2b5-b935f0804fd6"
      },
      "execution_count": null,
      "outputs": [
        {
          "output_type": "stream",
          "name": "stdout",
          "text": [
            "<MulBackward0 object at 0x7f65f911c280>\n",
            "<SumBackward0 object at 0x7f65f911d3c0>\n",
            "<PowBackward0 object at 0x7f65f911c280>\n",
            "<AccumulateGrad object at 0x7f65f911ebf0>\n"
          ]
        }
      ]
    },
    {
      "cell_type": "code",
      "source": [
        "#РЕАЛИЗАЦИЯ ГРАДИЕНТНОГО СПУСКА ПО ФОРМУЛЕ\n",
        "x.data -= 0.001 * x.grad\n",
        "#атрибут .data позволяет обновить не сам тензор, а только данные в нём!"
      ],
      "metadata": {
        "id": "IWqJv88b3KOe"
      },
      "execution_count": null,
      "outputs": []
    },
    {
      "cell_type": "markdown",
      "source": [
        "Если мы будем производить операции градиента многократно: в pytorch для удобства градиенты не обновляются после выполнения градиентных шагов. Они всё время накапливаются то есть суммируются. Результат - сумма прошлого градиента и текущего. Для того, чтобы такое не происходило необходимо обнулять градиент"
      ],
      "metadata": {
        "id": "0ACvXt2UEarL"
      }
    },
    {
      "cell_type": "code",
      "source": [
        "x.grad.zero_() #метод обнулит весь градиент"
      ],
      "metadata": {
        "colab": {
          "base_uri": "https://localhost:8080/"
        },
        "id": "Sv4rSSiREZny",
        "outputId": "f51b8878-0d09-4d10-92d6-2b6246400d08"
      },
      "execution_count": null,
      "outputs": [
        {
          "output_type": "execute_result",
          "data": {
            "text/plain": [
              "tensor([[0., 0., 0., 0.],\n",
              "        [0., 0., 0., 0.],\n",
              "        [0., 0., 0., 0.]], dtype=torch.float64)"
            ]
          },
          "metadata": {},
          "execution_count": 68
        }
      ]
    },
    {
      "cell_type": "code",
      "source": [
        "import torch\n",
        "\n",
        "w =  torch.tensor([[5, 10],\n",
        "                   [1, 2]], dtype=float, requires_grad=True)\n",
        "device = torch.device('cuda:0' if torch.cuda.is_available() else 'cpu')\n",
        "w = w.to(device)\n",
        "function =  torch.log(torch.log(w + 7))\n",
        "function.backward(w)\n",
        "\n",
        "print(w.grad) # Код для самопроверки"
      ],
      "metadata": {
        "colab": {
          "base_uri": "https://localhost:8080/"
        },
        "id": "68GYlEHE4BLt",
        "outputId": "3062b897-3a79-475b-d18d-8e469505d4e7"
      },
      "execution_count": null,
      "outputs": [
        {
          "output_type": "stream",
          "name": "stdout",
          "text": [
            "tensor([[0.1677, 0.2076],\n",
            "        [0.0601, 0.1011]], dtype=torch.float64)\n"
          ]
        }
      ]
    },
    {
      "cell_type": "code",
      "source": [
        "import torch\n",
        "\n",
        "w =  torch.tensor([[5., 10.],\n",
        "                   [1., 2.]], requires_grad=True)\n",
        "alpha = 0.001\n",
        "\n",
        "for i in range(500):\n",
        "  function = (w + 7).log().log().prod()\n",
        "  function.backward()\n",
        "  w.data -= alpha * w.grad\n",
        "  w.grad.zero_()\n",
        "\n",
        "print(w)"
      ],
      "metadata": {
        "colab": {
          "base_uri": "https://localhost:8080/"
        },
        "id": "Y81zz-Ox99MO",
        "outputId": "69307ebb-6262-41cb-c9f7-3d3e46af06a4"
      },
      "execution_count": null,
      "outputs": [
        {
          "output_type": "stream",
          "name": "stdout",
          "text": [
            "tensor([[4.9900, 9.9948],\n",
            "        [0.9775, 1.9825]], requires_grad=True)\n"
          ]
        }
      ]
    },
    {
      "cell_type": "code",
      "source": [
        "x = torch.tensor([8., 8.], requires_grad = True)\n",
        "\n",
        "def parabola(variable):\n",
        "    return 10 * (variable ** 2).sum()\n",
        "\n",
        "def make_gradient_step(function, variable):\n",
        "    function_result = function(variable) #вычисление значения по функции\n",
        "    function_result.backward() #нахождение производной\n",
        "    variable.data -= 0.001 * variable.grad #градиентный спуск\n",
        "    variable.grad.zero_() #обнуление градиента\n",
        "\n",
        "for i in range(500):\n",
        "    make_gradient_step(parabola, x)"
      ],
      "metadata": {
        "id": "VLULmbcRFQ5J"
      },
      "execution_count": null,
      "outputs": []
    },
    {
      "cell_type": "code",
      "source": [
        "x = torch.tensor([8.,8.], requires_grad = True)\n",
        "\n",
        "optimizer = torch.optim.SGD([x], lr=0.001)\n",
        "#оптимайзер - объект, котоорый знает как делать градиентные шаги\n",
        "#SGD - стохастический градиентный спуск из пакета optim\n",
        "#мы передаем переменную, с которой будем осуществлять градиентный спуск и learning rate\n",
        "\n",
        "def parabola(variable):\n",
        "  return 10 *(variable ** 2).sum()\n",
        "\n",
        "def make_gradient_step(function, variable):\n",
        "  function_result = function(variable)#вычисление значения по функции\n",
        "  function_result.backward()#нахождение производной\n",
        "  optimizer.step()#градиентный спуск\n",
        "  optimizer.zero_grad()#обнуление градиента\n",
        "\n",
        "for i in range(500):\n",
        "  make_gradient_step(parabola, x)\n"
      ],
      "metadata": {
        "id": "gm0daOKwDgDg"
      },
      "execution_count": null,
      "outputs": []
    },
    {
      "cell_type": "markdown",
      "source": [
        "Если мы хотим визуализировать то, что у нас получается вследствие градиентного спуска, мы можем\n",
        "попробовать нарисовать график линий функции, которую мы оптимизируем.\n",
        "\n",
        " В нашем случае, это круги(линии, на которых\n",
        "функция имеет одно и то же значение) и красными точками отмечена некоторая траектория движения икса,\n",
        "то есть траектория переменной икс, которую она проходит в процессе градиентного спуска.\n",
        "\n",
        " Мы начинали с начального приближения\n",
        "с точки (8,8). Мы видим, что наш градиентный спуск действительно спускается в минимум функции, в точку (0.0)"
      ],
      "metadata": {
        "id": "A4IsxlnOINds"
      }
    },
    {
      "cell_type": "code",
      "source": [
        "import torch\n",
        "import numpy as np\n",
        "import matplotlib.pyplot as plt\n",
        "\n",
        "def show_contours(objective, #функция, которая будет вычислять значение переменной в каждой точке\n",
        "                  x_lims=[-10.0, 10.0], #границы по ОХ\n",
        "                  y_lims=[-10.0, 10.0], #границы по ОУ\n",
        "                  x_ticks=100, #количество точек по ОХ для вычисления значений функции\n",
        "                  y_ticks=100): #количество точек по ОУ для вычисления значений функции\n",
        "    x_step = (x_lims[1] - x_lims[0]) / x_ticks #вычисление шагов на основе границ и количества точек\n",
        "    y_step = (y_lims[1] - y_lims[0]) / y_ticks\n",
        "    X, Y = np.mgrid[x_lims[0]:x_lims[1]:x_step, y_lims[0]:y_lims[1]:y_step] #np.mgrid создание сетки значений Х и У, содержащие координаты каждой точки\n",
        "    res = [] #список, в котором будут содержаться значения каждой функции на сетке\n",
        "    for x_index in range(X.shape[0]): #проход через каждую точку на сетке\n",
        "        res.append([])\n",
        "        for y_index in range(X.shape[1]):\n",
        "            x_val = X[x_index, y_index]\n",
        "            y_val = Y[x_index, y_index]\n",
        "            res[-1].append(objective(np.array([[x_val, y_val]]).T)) #получение значение функции для текущей точки и добавление на соответствующую позицию\n",
        "    res = np.array(res)\n",
        "    plt.figure(figsize=(7,7)) #создание новой фигуры для установки размеров графика\n",
        "    plt.contour(X, Y, res, 10) #создание контуров на основе X,Y, res. 100 - количество контуров\n",
        "    plt.xlabel('$x_1$')\n",
        "    plt.ylabel('$x_2$')"
      ],
      "metadata": {
        "id": "L2UBjC-iNDya"
      },
      "execution_count": null,
      "outputs": []
    },
    {
      "cell_type": "code",
      "source": [
        "import torch\n",
        "\n",
        "x = torch.tensor(\n",
        "    [8., 8.], requires_grad=True)\n",
        "var_history = []\n",
        "fn_history = []\n",
        "\n",
        "optimizer = torch.optim.SGD([x], lr=0.001)\n",
        "\n",
        "def function_parabola(variable):\n",
        "    return 10 * (variable ** 2).sum()\n",
        "\n",
        "def make_gradient_step(function, variable):\n",
        "    function_result = function(variable)\n",
        "    function_result.backward()\n",
        "    optimizer.step()\n",
        "    optimizer.zero_grad()\n",
        "\n",
        "for i in range(500):\n",
        "    var_history.append(x.data.numpy().copy())\n",
        "    fn_history.append(function_parabola(x).data.cpu().numpy().copy())\n",
        "    make_gradient_step(function_parabola, x)\n",
        "\n",
        "show_contours(function_parabola)\n",
        "plt.scatter(np.array(var_history)[:,0], np.array(var_history)[:,1], s=10, c='r');\n",
        "#plt.scatter - добавление точек на график\n",
        "#первые два массива задают координаты точек Х и У, s - размер, с - цвет"
      ],
      "metadata": {
        "colab": {
          "base_uri": "https://localhost:8080/",
          "height": 625
        },
        "id": "8d99LCykNwuU",
        "outputId": "e7100bff-e75b-4a99-90c5-0f7bb4640d8f"
      },
      "execution_count": null,
      "outputs": [
        {
          "output_type": "display_data",
          "data": {
            "text/plain": [
              "<Figure size 700x700 with 1 Axes>"
            ],
            "image/png": "[encoded data removed]"
          },
          "metadata": {}
        }
      ]
    },
    {
      "cell_type": "markdown",
      "source": [],
      "metadata": {
        "id": "d42NQbF5Ow51"
      }
    },
    {
      "cell_type": "code",
      "source": [
        "plt.figure(figsize=(7,7))\n",
        "plt.plot(fn_history);\n",
        "plt.xlabel('step')\n",
        "plt.ylabel('function value');"
      ],
      "metadata": {
        "colab": {
          "base_uri": "https://localhost:8080/",
          "height": 619
        },
        "id": "1NdW8gYeN1dW",
        "outputId": "1d4261ef-571d-48a4-8db8-abf9ba864435"
      },
      "execution_count": null,
      "outputs": [
        {
          "output_type": "display_data",
          "data": {
            "text/plain": [
              "<Figure size 700x700 with 1 Axes>"
            ],
            "image/png": "[encoded data removed]"
          },
          "metadata": {}
        }
      ]
    },
    {
      "cell_type": "markdown",
      "source": [
        "# Задачи, решаемые при помощи нейронных сетей"
      ],
      "metadata": {
        "id": "19wbF9rWN4c6"
      }
    },
    {
      "cell_type": "markdown",
      "source": [
        "## Бинарная классификация, бинарная кросс-энтропия"
      ],
      "metadata": {
        "id": "_VoYvofSOSlB"
      }
    },
    {
      "cell_type": "markdown",
      "source": [
        "Выбор функции потерь не зависит от характеристик модели"
      ],
      "metadata": {
        "id": "ltJ8ssqtOYE6"
      }
    },
    {
      "cell_type": "markdown",
      "source": [
        "Сигмоида\n",
        "\n",
        "$$ \\sigma(y) = \\frac{1}{1 + e^{-y}}$$\n",
        "\n",
        "Производная сигмоиды\n",
        "\n",
        "$$ \\sigma'(y) = \\sigma(y)(1 - \\sigma(y))$$"
      ],
      "metadata": {
        "id": "uagYeJJkVW9b"
      }
    },
    {
      "cell_type": "markdown",
      "source": [
        "$$MSE = (\\sigma(y) - t)^2$$\n",
        "\n",
        "$$MSE' = 2*(\\sigma(y)-t)*\\sigma(y)*(1-\\sigma(y))$$\n",
        "\n",
        "Возникает паралич сигмоидной нейронной сети\n",
        "\n",
        "Даже при большом количестве ошибки может возникнуть производная, которая будет равна 0. Градиентный спуск плохо подходит для обучения такой нейронной сети.Потому что функция ошибки сосотоит из трех компонент, одна из которых отклнение, и остальные не зависят от нее.\n",
        "\n"
      ],
      "metadata": {
        "id": "qTfzIGbNWayw"
      }
    },
    {
      "cell_type": "markdown",
      "source": [],
      "metadata": {
        "id": "vDHGEwqOdN84"
      }
    },
    {
      "cell_type": "markdown",
      "source": [
        "В качестве потерь с сигмоидной функцией активации можно использовать функцию \"Бинарная кросс-энтропия\"\n",
        "$$\n",
        " BCE(p, t) = -t \\log(p) - (1-t)\\log(1-p)\n",
        "$$\n",
        "\n",
        "\n",
        "\n",
        "\n",
        "$$\n",
        "p = \\sigma(y)\n",
        "$$\n",
        "\n",
        "$$\n",
        "\\frac{\\partial BCE}{\\partial y} = \\frac{\\partial BCE}{\\partial p} \\frac{\\partial p}{\\partial y} = -\\frac{t}{\\sigma} \\sigma' + \\frac{1-t}{1-\\sigma}\\sigma'= -t(1-\\sigma) + (1-t)\\sigma = \\sigma - t\n",
        "$$\n",
        "\n",
        "\n",
        "Бинарная кросс-энтропия - функция потерь, которая хорошо оценивает вероятности и любые значения, которые находятся в интервале от $[0,1]$\n",
        "\n",
        "\n",
        "**Функция активации - сигмоида**\n",
        "\n",
        "**Функция потерь - бинарная кросс-энтропия**"
      ],
      "metadata": {
        "id": "A8eG5b7mce6z"
      }
    },
    {
      "cell_type": "markdown",
      "source": [
        "## Многоклассовая классификация. СОФТМАКС"
      ],
      "metadata": {
        "id": "mB-_OncChGwj"
      }
    },
    {
      "cell_type": "markdown",
      "source": [
        "Для решения многоклассовой классификации предлагается сделать по одному выходу на каждый класс. Для получения вероятности для каждого класса будем использовать другой подход\n",
        "\n",
        "Сумма всех вероятностей(выходов) должна равняться единице.\n",
        "\n",
        "В таком примере в **качестве функции активации** мы будем применять функцию \"СофтМакс\"\n",
        "\n",
        "$$\n",
        "SM_i(\\vec{y})=\\frac{e^{y_i}}{\\sum^N_{j=1} e^{y_j}}\n",
        "$$\n",
        "\n",
        "Мы берём все выходы из сети и в эту степень возводим экспоненту. После этого для того, чтобы получить вероятность какого-то класса, мы берём экспоненту, которая соответствует этому классу, и делим на сумму всех экспонент(потому что вероятность не может быть больше 100%)"
      ],
      "metadata": {
        "id": "PjE87VZui3RA"
      }
    },
    {
      "cell_type": "markdown",
      "source": [
        "Свойства софтмакс функции:\n",
        "- $0<SM<1$\n",
        "- $\\sum_{i=1}^N SM_i = 1$\n",
        "\n",
        "Продифференцируем софтмакс функцию:\n",
        "$$\n",
        "\\frac{\\partial SM_i}{\\partial y_c} = \\frac{-e^{y_i}e^{y_c}}{(\\sum^N_{j=1}e^{y_j})^2}; y_c \\neq y_i\n",
        "$$\n",
        "$y_c$ - некоторый выход из нейронной сети"
      ],
      "metadata": {
        "id": "31GW9ij8nQcS"
      }
    },
    {
      "cell_type": "markdown",
      "source": [
        "Производная софтмакса по выходу:\n",
        "\n",
        "$$\n",
        "\\frac{\\partial SM_i}{\\partial y_i}=\\frac{e^{y_i}*\\sum^n_{j=1}e^{y_j} - e^{y_i}*e^{y_i}}{(\\sum_{j=1}^N e^{y_j})^2} = SM_i(1-SM_i)\n",
        "$$\n",
        "\n",
        "$$\n",
        "\\frac{\\partial}{\\partial y_i} \\sum^n_{j=1} e^{y_j} = \\frac{\\partial}{\\partial y_i} e^{y_i} = e^{y_i}\n",
        "$$\n"
      ],
      "metadata": {
        "id": "wpHkYhiTnXkN"
      }
    },
    {
      "cell_type": "markdown",
      "source": [
        "Кросс энтропия - минус сумма всех классов от 1 до N.\n",
        "\n",
        "$t_c$ - таргетное значение для класса\n",
        "\n",
        "$p_c$ - вероятность этого класса\n",
        "\n",
        "Верояность класса - софтмакс от выходов из нейронной сети.\n",
        "\n",
        "Таргетное значение для класса - ноль почти для всех классов кроме одного, который присутствует на этой картинке\n",
        "\n",
        "Когда у нас будет два класса, софтмакс будет выглядеть как сигмоида. Кросс энтропия на два класса выглядит как бинарная кросс энтропия"
      ],
      "metadata": {
        "id": "2hSVid6kmCXo"
      }
    },
    {
      "cell_type": "markdown",
      "source": [
        "Кросс энтропия - хорошая функция потерь для функции активации софтмакс\n",
        "\n",
        "$$\n",
        "\\frac{\\partial CE}{\\partial y_i} = -\\frac{t_i}{p_i} \\frac{\\partial SM_i}{\\partial y_i} - \\sum_{c \\neq i} \\frac{t_c}{p_c} \\frac{\\partial SM_c}{\\partial y_i} = - \\frac{t_i}{p_i} p_i(1-p_i)+ \\sum_{c \\neq i} t_c \\frac{1}{p_c} p_i p_c = -t_i(1-p_i) + \\sum_{c \\neq i} t_c p_i = -t_i + p_i\n",
        "$$\n",
        "\n",
        "Производная кросс энтропии по выходу из нейронной сети линейна"
      ],
      "metadata": {
        "id": "1dSjD_YEqFch"
      }
    },
    {
      "cell_type": "markdown",
      "source": [
        "## Локализация, детекция, сегментация и super-resolution\n"
      ],
      "metadata": {
        "id": "5hLOg8HNq30R"
      }
    },
    {
      "cell_type": "markdown",
      "source": [
        "### Задача локализации и детекции"
      ],
      "metadata": {
        "id": "eyTq8YvorU3q"
      }
    },
    {
      "cell_type": "markdown",
      "source": [
        "У нас есть картинка. На этой картинке где-то есть объект. Что нужно сделать для решения этой задачи?\n",
        "\n",
        "- Один из выходов нейронной сети должен говорить о вероятности нахождения на картинке объекта. (p)\n",
        "- Параметризация прямоугольника, включащего в себя объект $x_c, y_c$ - координаты центра\n",
        "- ширина (w) и высота (h)\n",
        "\n",
        "Эта задача будет решаться с некоторым количеством ограничений:\n",
        "- на картинке может быть либо один объект, либо ни одного\n",
        "- если центр объекта лежит в пределах картинки, то мы считаем, что объект на картинке есть, в ином случае, мы считаем, что его нет.\n",
        "- объект может выходить за пределы картинки\n",
        "\n"
      ],
      "metadata": {
        "id": "-u6jyH6QPGuL"
      }
    },
    {
      "cell_type": "markdown",
      "source": [
        "На выход вероятности можно использовать сигмоидную функцию активации.\n",
        "\n",
        "На выходы центра можно также использовать сигмоидную функции активации. Таким образом мы сможем задать центр объекта относительно картинки.\n",
        "\n",
        "Высота и ширина - экспоненты от соответствующих выходов\n",
        "\n",
        "На выходы вероятности, центра в качестве функции потерь можно использовать бинарную кросс энтропию\n",
        "\n",
        "В качестве функции потерь для высоты и ширины можно использовать средний квадрат ошибки от выхода сети до функции активации с логарифмом таргетного значения\n",
        "\n",
        "$$\n",
        "p = \\sigma(y_0);    BCE(\\sigma(y_0), \\widetilde{I})\\\\\n",
        "x_c = \\sigma(y_1);  BCE(\\sigma(y_1), \\widetilde{x_c})\\\\\n",
        "y_c = \\sigma(y_2);  BCE(\\sigma(y_2), \\widetilde{y_c})\\\\\n",
        "w = \\exp(y_3);      MSE(y_3, \\log{\\widetilde w})\\\\\n",
        "h = \\exp(y_4);      MSE(y_4, \\log{\\widetilde h})\n",
        "$$\n",
        "\n",
        "$$\n",
        "L = BCE(\\sigma(y_0), \\widetilde{w}) + \\widetilde I \\Bigg(BCE(\\sigma(y_1), \\widetilde{x_c})+BCE(\\sigma(y_2), \\widetilde{y_c})+MSE(y_3, \\log{\\widetilde w}))+MSE(y_4, \\log{\\widetilde h}\\Bigg)\n",
        "$$\n"
      ],
      "metadata": {
        "id": "u6eZwjGDQTLo"
      }
    },
    {
      "cell_type": "markdown",
      "source": [
        "### Сегментация"
      ],
      "metadata": {
        "id": "Z_B2K-cHQz9d"
      }
    },
    {
      "cell_type": "markdown",
      "source": [
        "На выходе из нейросети будет картинка, где каждый пиксель дифференцируется(есть кот или нет)\n",
        "\n",
        "Функция активации - сигмоида\n",
        "Функция потерь - бинарная кросс энтропия по каждому пикселю и сложения по всех картинке\n",
        "\n",
        "$$\n",
        "L = \\sum_j BCE(\\sigma(y_j), t_j)\n",
        "$$"
      ],
      "metadata": {
        "id": "TRXiYlbrTpE2"
      }
    },
    {
      "cell_type": "markdown",
      "source": [
        "### Задача сжатия размерности"
      ],
      "metadata": {
        "id": "Vca64-daUbOg"
      }
    },
    {
      "cell_type": "markdown",
      "source": [
        "Это задача попадает в разряд задач обучения без учителя.\n",
        "\n",
        "Сделать сеть, которую будем называть кодировщиком(инкодер). Она будет выдавать сжатое представление картинки(имбеддинг). Это изображение мы будем расшифровать при помощи сети, которая называется декодировщик(декодер). В результате мы должны получать такую же картинку, какая была на входе.\n",
        "\n",
        "В качестве лосс функции можно взять среднеквадратичную ошибку между тем, что было и что получилось.\n",
        "\n",
        "$$\n",
        "L = \\sum_j MSE(Img_j, \\widetilde{Img_j})\n",
        "$$"
      ],
      "metadata": {
        "id": "9XqMGp1rUlYY"
      }
    },
    {
      "cell_type": "markdown",
      "source": [
        "### Задача SuperResolution"
      ],
      "metadata": {
        "id": "XoyCo0WqVHAw"
      }
    },
    {
      "cell_type": "markdown",
      "source": [
        "Cуть: увеличени изображения\n",
        "\n",
        "Мы берём картинки, сжимаем их, отдаём нейросети и результат сравниваем с исходным"
      ],
      "metadata": {
        "id": "bGsdVlJyVVrO"
      }
    }
  ]
}