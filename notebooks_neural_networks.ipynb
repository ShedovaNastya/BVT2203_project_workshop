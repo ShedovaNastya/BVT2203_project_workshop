{
  "cells": [
    {
      "cell_type": "markdown",
      "metadata": {
        "id": "view-in-github",
        "colab_type": "text"
      },
      "source": [
        "<a href=\"https://colab.research.google.com/github/ShedovaNastya/BVT2203_project_workshop/blob/main/notebooks_neural_networks.ipynb\" target=\"_parent\"><img src=\"https://colab.research.google.com/assets/colab-badge.svg\" alt=\"Open In Colab\"/></a>"
      ]
    },
    {
      "cell_type": "markdown",
      "metadata": {
        "id": "5wJPIWyJWzJY"
      },
      "source": [
        "# Нейрон и нейронная сеть"
      ]
    },
    {
      "cell_type": "markdown",
      "metadata": {
        "id": "hhJojL8LYFmN"
      },
      "source": [
        "На вход нейрона подаются сигналы $ x_1, x_2 ... x_n $\n",
        "\n",
        "Эти параметры умножаются на веса $ w_1, w_2 ... w_n $\n",
        "\n",
        "Далее они передаются в нейрон, в котором также есть параметр смещения b и получается сумма: $$ z = x_1*w_1 + x_2*w_2 + ... + x_n*w_n + b$$ Результат попадает в функцию активации $$ y=f(z)=f(x_1*w_1 + x_2*w_2 + ... + x_n*w_n + b)$$\n",
        "\n",
        "Веса и смещения настриваемые параметры\n",
        "\n",
        "Также можно записать по-другому: $$ y = f(\\sum_{i=0}^{N-1} w_i*x_i + b)$$ Запись через скалярное произведение: $$y = f(<\\overrightarrow{w} \\overrightarrow{x}> + b)$$ Функция активации - пороговая. Нейрон дает сигнал, только когда накапливается заряд.\n",
        "\n",
        "\\begin{equation*}\n",
        "f(z) =\n",
        " \\begin{cases}\n",
        "   0 &\\text{if z $\\leq 0$}\\\\\n",
        "   1&\\text{if z $>0$}\n",
        " \\end{cases}\n",
        "\\end{equation*}\n",
        "Место, где функция будет менять своё значение с нуля на единицу - разделяющая поверхность.\n",
        "Разделяющая поверхность находится там, где аргумент функции равен нулю.\n",
        "\n",
        "Она задаётся вектором $\\overrightarrow{w}$ и смещением b, также она является подмножеством пространства векторов\n",
        "\n",
        "Пороговая функция активации всегда будет равна 1 с той стороны от разделяющей прямой, в которую указывает $\\overrightarrow{w}$\n",
        "\n",
        "\n",
        "Уравнение задает гиперплоскость (прямую, плоскость, N-мерную плоскость)\n",
        "\n",
        "$\\overrightarrow{w}$ является нормалью к гиперплоскости, которая задана этим уравнением\n",
        "\n",
        "Сигмоида $$\\sigma(x) = \\frac{1}{1+e^{-x}}$$\n",
        "\n",
        "\n",
        "Анализ функции:\n",
        "\n",
        "\\begin{equation*}\n",
        " \\begin{cases}\n",
        "   x \\rightarrow \\infty: \\sigma(x) \\rightarrow 1\\\\\n",
        "   x \\rightarrow -\\infty: \\sigma(x) \\rightarrow 0\\\\\n",
        "   0 < \\sigma(x) < 1\n",
        " \\end{cases}\n",
        "\\end{equation*}"
      ]
    },
    {
      "cell_type": "markdown",
      "metadata": {
        "id": "AG6LaHQmOCyH"
      },
      "source": [
        "# Базовая работа в PyTorch"
      ]
    },
    {
      "cell_type": "code",
      "execution_count": null,
      "metadata": {
        "colab": {
          "base_uri": "https://localhost:8080/"
        },
        "id": "JfLc1koL6ION",
        "outputId": "900d09d6-a448-47b2-f909-0966d31435a8"
      },
      "outputs": [
        {
          "output_type": "stream",
          "name": "stdout",
          "text": [
            "Requirement already satisfied: torch in /usr/local/lib/python3.10/dist-packages (2.0.1+cu118)\n",
            "Requirement already satisfied: filelock in /usr/local/lib/python3.10/dist-packages (from torch) (3.12.2)\n",
            "Requirement already satisfied: typing-extensions in /usr/local/lib/python3.10/dist-packages (from torch) (4.6.3)\n",
            "Requirement already satisfied: sympy in /usr/local/lib/python3.10/dist-packages (from torch) (1.11.1)\n",
            "Requirement already satisfied: networkx in /usr/local/lib/python3.10/dist-packages (from torch) (3.1)\n",
            "Requirement already satisfied: jinja2 in /usr/local/lib/python3.10/dist-packages (from torch) (3.1.2)\n",
            "Requirement already satisfied: triton==2.0.0 in /usr/local/lib/python3.10/dist-packages (from torch) (2.0.0)\n",
            "Requirement already satisfied: cmake in /usr/local/lib/python3.10/dist-packages (from triton==2.0.0->torch) (3.25.2)\n",
            "Requirement already satisfied: lit in /usr/local/lib/python3.10/dist-packages (from triton==2.0.0->torch) (16.0.6)\n",
            "Requirement already satisfied: MarkupSafe>=2.0 in /usr/local/lib/python3.10/dist-packages (from jinja2->torch) (2.1.3)\n",
            "Requirement already satisfied: mpmath>=0.19 in /usr/local/lib/python3.10/dist-packages (from sympy->torch) (1.3.0)\n"
          ]
        }
      ],
      "source": [
        "!pip install torch"
      ]
    },
    {
      "cell_type": "code",
      "execution_count": null,
      "metadata": {
        "id": "R4XnidQU6qlO"
      },
      "outputs": [],
      "source": [
        "import torch"
      ]
    },
    {
      "cell_type": "code",
      "execution_count": null,
      "metadata": {
        "colab": {
          "base_uri": "https://localhost:8080/"
        },
        "id": "lC3heNb47vaQ",
        "outputId": "d98b3bb7-4c5c-4f8a-c227-6b20a3393e2c"
      },
      "outputs": [
        {
          "output_type": "execute_result",
          "data": {
            "text/plain": [
              "tensor([[0., 0., 0., 0.],\n",
              "        [0., 0., 0., 0.],\n",
              "        [0., 0., 0., 0.]])"
            ]
          },
          "metadata": {},
          "execution_count": 110
        }
      ],
      "source": [
        "torch.zeros([3,4])"
      ]
    },
    {
      "cell_type": "code",
      "execution_count": null,
      "metadata": {
        "colab": {
          "base_uri": "https://localhost:8080/"
        },
        "id": "qyKntUTO77WI",
        "outputId": "621dc946-ebaf-4182-e92b-d01ed815b6b9"
      },
      "outputs": [
        {
          "output_type": "execute_result",
          "data": {
            "text/plain": [
              "tensor([[[1., 1., 1., 1., 1.],\n",
              "         [1., 1., 1., 1., 1.],\n",
              "         [1., 1., 1., 1., 1.],\n",
              "         [1., 1., 1., 1., 1.]],\n",
              "\n",
              "        [[1., 1., 1., 1., 1.],\n",
              "         [1., 1., 1., 1., 1.],\n",
              "         [1., 1., 1., 1., 1.],\n",
              "         [1., 1., 1., 1., 1.]],\n",
              "\n",
              "        [[1., 1., 1., 1., 1.],\n",
              "         [1., 1., 1., 1., 1.],\n",
              "         [1., 1., 1., 1., 1.],\n",
              "         [1., 1., 1., 1., 1.]]])"
            ]
          },
          "metadata": {},
          "execution_count": 111
        }
      ],
      "source": [
        "torch.ones([3,4,5])"
      ]
    },
    {
      "cell_type": "code",
      "execution_count": null,
      "metadata": {
        "colab": {
          "base_uri": "https://localhost:8080/"
        },
        "id": "_TjqQcE38Jxc",
        "outputId": "4ed39346-1986-4d30-a8b1-9cdb3c9c2888"
      },
      "outputs": [
        {
          "output_type": "execute_result",
          "data": {
            "text/plain": [
              "tensor([[ 1.,  2.,  3.,  4.],\n",
              "        [ 5.,  6.,  7.,  8.],\n",
              "        [ 9., 10., 11., 12.]])"
            ]
          },
          "metadata": {},
          "execution_count": 112
        }
      ],
      "source": [
        "torch.Tensor([[1, 2, 3, 4],\n",
        "             [5, 6, 7, 8],\n",
        "             [9, 10, 11, 12]])"
      ]
    },
    {
      "cell_type": "code",
      "execution_count": null,
      "metadata": {
        "colab": {
          "base_uri": "https://localhost:8080/"
        },
        "id": "O3p9ZrlH-adp",
        "outputId": "29522ebb-bc13-48b2-e8a8-0c03b071bf59"
      },
      "outputs": [
        {
          "output_type": "execute_result",
          "data": {
            "text/plain": [
              "tensor([[ 1.,  2.,  3.,  4.],\n",
              "        [ 5.,  6.,  7.,  8.],\n",
              "        [ 9., 10., 11., 12.]])"
            ]
          },
          "metadata": {},
          "execution_count": 113
        }
      ],
      "source": [
        "x = torch.Tensor([[1, 2, 3, 4],\n",
        "                  [5, 6, 7, 8],\n",
        "                  [9, 10, 11, 12]])\n",
        "x"
      ]
    },
    {
      "cell_type": "code",
      "execution_count": null,
      "metadata": {
        "colab": {
          "base_uri": "https://localhost:8080/"
        },
        "id": "OW9tv438-khD",
        "outputId": "d522a410-fb18-475e-a3b0-736542256b21"
      },
      "outputs": [
        {
          "output_type": "execute_result",
          "data": {
            "text/plain": [
              "torch.Size([3, 4])"
            ]
          },
          "metadata": {},
          "execution_count": 114
        }
      ],
      "source": [
        "x.size()#узнаем размер"
      ]
    },
    {
      "cell_type": "code",
      "execution_count": null,
      "metadata": {
        "colab": {
          "base_uri": "https://localhost:8080/"
        },
        "id": "_MT5RuVf_Bgb",
        "outputId": "e61b08f5-b58f-45e7-9c3c-31dd1a29cf05"
      },
      "outputs": [
        {
          "output_type": "execute_result",
          "data": {
            "text/plain": [
              "torch.Size([3, 4])"
            ]
          },
          "metadata": {},
          "execution_count": 115
        }
      ],
      "source": [
        "x.shape"
      ]
    },
    {
      "cell_type": "code",
      "execution_count": null,
      "metadata": {
        "colab": {
          "base_uri": "https://localhost:8080/"
        },
        "id": "9vltJ3YR_Bvk",
        "outputId": "8334f40e-4da9-4158-fd83-30191fcaf844"
      },
      "outputs": [
        {
          "output_type": "execute_result",
          "data": {
            "text/plain": [
              "tensor([1., 2., 3., 4.])"
            ]
          },
          "metadata": {},
          "execution_count": 116
        }
      ],
      "source": [
        "x[0]"
      ]
    },
    {
      "cell_type": "code",
      "execution_count": null,
      "metadata": {
        "colab": {
          "base_uri": "https://localhost:8080/"
        },
        "id": "NSpT3gA0_bYp",
        "outputId": "298429b4-40b4-455d-b3dc-544d6028fff7"
      },
      "outputs": [
        {
          "output_type": "execute_result",
          "data": {
            "text/plain": [
              "tensor([5., 6., 7., 8.])"
            ]
          },
          "metadata": {},
          "execution_count": 117
        }
      ],
      "source": [
        "x[1]"
      ]
    },
    {
      "cell_type": "code",
      "execution_count": null,
      "metadata": {
        "colab": {
          "base_uri": "https://localhost:8080/"
        },
        "id": "zmf0iqap_bbS",
        "outputId": "f455341b-478d-473b-d4fc-2c8bfa7aacd7"
      },
      "outputs": [
        {
          "output_type": "execute_result",
          "data": {
            "text/plain": [
              "tensor(1.)"
            ]
          },
          "metadata": {},
          "execution_count": 118
        }
      ],
      "source": [
        "x[0,0]"
      ]
    },
    {
      "cell_type": "code",
      "execution_count": null,
      "metadata": {
        "colab": {
          "base_uri": "https://localhost:8080/"
        },
        "id": "mfVyyO_Z_bd-",
        "outputId": "8e6b4612-9644-4310-abcd-37ebcb3fa6c7"
      },
      "outputs": [
        {
          "output_type": "execute_result",
          "data": {
            "text/plain": [
              "tensor([1., 5., 9.])"
            ]
          },
          "metadata": {},
          "execution_count": 119
        }
      ],
      "source": [
        "x[:,0]"
      ]
    },
    {
      "cell_type": "code",
      "execution_count": null,
      "metadata": {
        "colab": {
          "base_uri": "https://localhost:8080/"
        },
        "id": "xjb7HyHD_bhC",
        "outputId": "02b94ece-516a-4460-a96b-4f6117696e02"
      },
      "outputs": [
        {
          "output_type": "execute_result",
          "data": {
            "text/plain": [
              "tensor([[11., 12., 13., 14.],\n",
              "        [15., 16., 17., 18.],\n",
              "        [19., 20., 21., 22.]])"
            ]
          },
          "metadata": {},
          "execution_count": 120
        }
      ],
      "source": [
        "x + 10"
      ]
    },
    {
      "cell_type": "code",
      "execution_count": null,
      "metadata": {
        "colab": {
          "base_uri": "https://localhost:8080/"
        },
        "id": "63EVc4Fe_blh",
        "outputId": "197358b7-e9cc-47a3-cebb-0a268a0c50a6"
      },
      "outputs": [
        {
          "output_type": "execute_result",
          "data": {
            "text/plain": [
              "tensor([[  1.,   4.,   9.,  16.],\n",
              "        [ 25.,  36.,  49.,  64.],\n",
              "        [ 81., 100., 121., 144.]])"
            ]
          },
          "metadata": {},
          "execution_count": 121
        }
      ],
      "source": [
        "x ** 2"
      ]
    },
    {
      "cell_type": "code",
      "execution_count": null,
      "metadata": {
        "id": "jPE1MGhbATza"
      },
      "outputs": [],
      "source": [
        "y = torch.Tensor([[12, 11, 10, 9],\n",
        "                 [8, 7, 6, 5],\n",
        "                 [4, 3, 2, 1]])"
      ]
    },
    {
      "cell_type": "code",
      "execution_count": null,
      "metadata": {
        "colab": {
          "base_uri": "https://localhost:8080/"
        },
        "id": "_viARn1RAT_r",
        "outputId": "915ae2aa-c3ce-483c-fabb-79e90f60d810"
      },
      "outputs": [
        {
          "output_type": "execute_result",
          "data": {
            "text/plain": [
              "tensor([[13., 13., 13., 13.],\n",
              "        [13., 13., 13., 13.],\n",
              "        [13., 13., 13., 13.]])"
            ]
          },
          "metadata": {},
          "execution_count": 123
        }
      ],
      "source": [
        "x + y"
      ]
    },
    {
      "cell_type": "code",
      "execution_count": null,
      "metadata": {
        "colab": {
          "base_uri": "https://localhost:8080/"
        },
        "id": "vY_JSe6JAUDL",
        "outputId": "f1632da8-744a-4dd3-ea23-bab3662f25d2"
      },
      "outputs": [
        {
          "output_type": "execute_result",
          "data": {
            "text/plain": [
              "tensor([[12., 22., 30., 36.],\n",
              "        [40., 42., 42., 40.],\n",
              "        [36., 30., 22., 12.]])"
            ]
          },
          "metadata": {},
          "execution_count": 124
        }
      ],
      "source": [
        "x * y"
      ]
    },
    {
      "cell_type": "code",
      "execution_count": null,
      "metadata": {
        "colab": {
          "base_uri": "https://localhost:8080/"
        },
        "id": "nVuGeItwBD5o",
        "outputId": "1aab6dd3-38a6-4e79-cb8d-14303ed97022"
      },
      "outputs": [
        {
          "output_type": "execute_result",
          "data": {
            "text/plain": [
              "tensor([[1., 0., 1., 0.],\n",
              "        [1., 0., 1., 0.],\n",
              "        [1., 0., 1., 0.]])"
            ]
          },
          "metadata": {},
          "execution_count": 125
        }
      ],
      "source": [
        "x % 2"
      ]
    },
    {
      "cell_type": "code",
      "execution_count": null,
      "metadata": {
        "colab": {
          "base_uri": "https://localhost:8080/"
        },
        "id": "NM497ozGBEQZ",
        "outputId": "fd947499-0d6a-42a8-a9d4-23282e39a9f2"
      },
      "outputs": [
        {
          "output_type": "execute_result",
          "data": {
            "text/plain": [
              "tensor([[1., 2., 3., 4.],\n",
              "        [5., 6., 1., 3.],\n",
              "        [1., 1., 1., 0.]])"
            ]
          },
          "metadata": {},
          "execution_count": 126
        }
      ],
      "source": [
        "x % y"
      ]
    },
    {
      "cell_type": "code",
      "execution_count": null,
      "metadata": {
        "colab": {
          "base_uri": "https://localhost:8080/"
        },
        "id": "vAj8abDNBi9u",
        "outputId": "24bc676d-ee16-456f-e43d-4154f22b4af8"
      },
      "outputs": [
        {
          "output_type": "execute_result",
          "data": {
            "text/plain": [
              "tensor([[2.7183e+00, 7.3891e+00, 2.0086e+01, 5.4598e+01],\n",
              "        [1.4841e+02, 4.0343e+02, 1.0966e+03, 2.9810e+03],\n",
              "        [8.1031e+03, 2.2026e+04, 5.9874e+04, 1.6275e+05]])"
            ]
          },
          "metadata": {},
          "execution_count": 127
        }
      ],
      "source": [
        "torch.exp(x)#e в степени x"
      ]
    },
    {
      "cell_type": "code",
      "execution_count": null,
      "metadata": {
        "colab": {
          "base_uri": "https://localhost:8080/"
        },
        "id": "vkIL2HigBjJ7",
        "outputId": "afa600a0-ae11-404b-aa37-6c4e51462f1d"
      },
      "outputs": [
        {
          "output_type": "execute_result",
          "data": {
            "text/plain": [
              "tensor([[0.0000, 0.6931, 1.0986, 1.3863],\n",
              "        [1.6094, 1.7918, 1.9459, 2.0794],\n",
              "        [2.1972, 2.3026, 2.3979, 2.4849]])"
            ]
          },
          "metadata": {},
          "execution_count": 128
        }
      ],
      "source": [
        "torch.log(x)#десятичный логарифм"
      ]
    },
    {
      "cell_type": "markdown",
      "metadata": {
        "id": "TgYZM3YNMKl1"
      },
      "source": [
        "## Использование масок"
      ]
    },
    {
      "cell_type": "code",
      "execution_count": null,
      "metadata": {
        "id": "gksg5vtkBjMs"
      },
      "outputs": [],
      "source": [
        "mask = x > 3"
      ]
    },
    {
      "cell_type": "code",
      "execution_count": null,
      "metadata": {
        "colab": {
          "base_uri": "https://localhost:8080/"
        },
        "id": "_YTsY4GNBjQC",
        "outputId": "f2b0b4f7-3d8a-419a-f00e-8a62c914b9e0"
      },
      "outputs": [
        {
          "output_type": "execute_result",
          "data": {
            "text/plain": [
              "tensor([ 4.,  5.,  6.,  7.,  8.,  9., 10., 11., 12.])"
            ]
          },
          "metadata": {},
          "execution_count": 130
        }
      ],
      "source": [
        "x[mask]"
      ]
    },
    {
      "cell_type": "code",
      "execution_count": null,
      "metadata": {
        "colab": {
          "base_uri": "https://localhost:8080/"
        },
        "id": "ABSRIoPpCPFi",
        "outputId": "5c81f16b-68bf-41e9-9047-100df866b7ce"
      },
      "outputs": [
        {
          "output_type": "execute_result",
          "data": {
            "text/plain": [
              "tensor([ 4.,  5.,  6.,  7.,  8.,  9., 10., 11., 12.])"
            ]
          },
          "metadata": {},
          "execution_count": 131
        }
      ],
      "source": [
        "x[x > 3]"
      ]
    },
    {
      "cell_type": "code",
      "execution_count": null,
      "metadata": {
        "colab": {
          "base_uri": "https://localhost:8080/"
        },
        "id": "PeYhlmDuCPMz",
        "outputId": "f504c32c-4898-4042-fe56-3990f0c0921f"
      },
      "outputs": [
        {
          "output_type": "execute_result",
          "data": {
            "text/plain": [
              "<function Tensor.sum>"
            ]
          },
          "metadata": {},
          "execution_count": 132
        }
      ],
      "source": [
        "x.sum"
      ]
    },
    {
      "cell_type": "code",
      "execution_count": null,
      "metadata": {
        "colab": {
          "base_uri": "https://localhost:8080/"
        },
        "id": "8Ag7IvL0CPWg",
        "outputId": "aeba7e74-5b18-4b1e-a760-3738a8690775"
      },
      "outputs": [
        {
          "output_type": "stream",
          "name": "stdout",
          "text": [
            "tensor(39)\n"
          ]
        }
      ],
      "source": [
        "x = torch.tensor([[1, 2, 3], [4, 5, 6], [7, 8, 9]])\n",
        "limit = 3\n",
        "\n",
        "larger_than_limit_sum = x[x > limit].sum()\n",
        "\n",
        "print(larger_than_limit_sum)"
      ]
    },
    {
      "cell_type": "markdown",
      "metadata": {
        "id": "DMGXo9RaLBNX"
      },
      "source": [
        "## Копирование тензоров"
      ]
    },
    {
      "cell_type": "code",
      "execution_count": null,
      "metadata": {
        "colab": {
          "base_uri": "https://localhost:8080/"
        },
        "id": "BcHqAiIiEFh7",
        "outputId": "3b29a020-ece8-4f9f-89cb-0c6c3c724bb7"
      },
      "outputs": [
        {
          "output_type": "stream",
          "name": "stdout",
          "text": [
            "tensor([[999,   2,   3],\n",
            "        [  4,   5,   6],\n",
            "        [  7,   8,   9]])\n",
            "tensor([[999,   2,   3],\n",
            "        [  4,   5,   6],\n",
            "        [  7,   8,   9]])\n"
          ]
        }
      ],
      "source": [
        "y = x\n",
        "y[0, 0] = 999\n",
        "print(x)\n",
        "print(y)#происходит копирование по ссылке, все дублируется впоследствии"
      ]
    },
    {
      "cell_type": "code",
      "execution_count": null,
      "metadata": {
        "id": "tmvq_PxPEFlh"
      },
      "outputs": [],
      "source": [
        "x = torch.Tensor([[1, 2, 3, 4],\n",
        "                  [5, 6, 7, 8],\n",
        "                  [9, 10, 11, 12]])"
      ]
    },
    {
      "cell_type": "code",
      "execution_count": null,
      "metadata": {
        "colab": {
          "base_uri": "https://localhost:8080/"
        },
        "id": "a4qfzq7ZEFos",
        "outputId": "65392ee6-f1ef-4d95-f3d3-f489c33e629d"
      },
      "outputs": [
        {
          "output_type": "stream",
          "name": "stdout",
          "text": [
            "tensor([[ 1.,  2.,  3.,  4.],\n",
            "        [ 5.,  6.,  7.,  8.],\n",
            "        [ 9., 10., 11., 12.]])\n",
            "tensor([[999.,   2.,   3.,   4.],\n",
            "        [  5.,   6.,   7.,   8.],\n",
            "        [  9.,  10.,  11.,  12.]])\n"
          ]
        }
      ],
      "source": [
        "y = x.clone()#обычное копирование\n",
        "y[0,0] = 999\n",
        "print(x)\n",
        "print(y)"
      ]
    },
    {
      "cell_type": "markdown",
      "metadata": {
        "id": "gYs2PqowLtO-"
      },
      "source": []
    },
    {
      "cell_type": "markdown",
      "metadata": {
        "id": "x_QAjbv4Lthr"
      },
      "source": [
        "## Меняем тип данных и точность"
      ]
    },
    {
      "cell_type": "code",
      "execution_count": null,
      "metadata": {
        "colab": {
          "base_uri": "https://localhost:8080/"
        },
        "id": "KIZZzx70EFr_",
        "outputId": "8e5079ff-a443-488c-f9e3-414372bbb6b3"
      },
      "outputs": [
        {
          "output_type": "execute_result",
          "data": {
            "text/plain": [
              "torch.float32"
            ]
          },
          "metadata": {},
          "execution_count": 137
        }
      ],
      "source": [
        "x.dtype"
      ]
    },
    {
      "cell_type": "code",
      "execution_count": null,
      "metadata": {
        "colab": {
          "base_uri": "https://localhost:8080/"
        },
        "id": "_8KwJ3e3Im6l",
        "outputId": "efcad74e-93dd-4581-f4d6-eb57ce879899"
      },
      "outputs": [
        {
          "output_type": "stream",
          "name": "stdout",
          "text": [
            "tensor([[ 1.,  2.,  3.,  4.],\n",
            "        [ 5.,  6.,  7.,  8.],\n",
            "        [ 9., 10., 11., 12.]], dtype=torch.float64)\n",
            "tensor([[ 1,  2,  3,  4],\n",
            "        [ 5,  6,  7,  8],\n",
            "        [ 9, 10, 11, 12]], dtype=torch.int32)\n",
            "tensor([[ 1.,  2.,  3.,  4.],\n",
            "        [ 5.,  6.,  7.,  8.],\n",
            "        [ 9., 10., 11., 12.]])\n"
          ]
        }
      ],
      "source": [
        "x = x.double()\n",
        "print(x)\n",
        "x = x.int()\n",
        "print(x)\n",
        "x = x.float()\n",
        "print(x)"
      ]
    },
    {
      "cell_type": "markdown",
      "metadata": {
        "id": "qomsQfJnKttO"
      },
      "source": [
        "## Использование библиотеки numpy"
      ]
    },
    {
      "cell_type": "code",
      "execution_count": null,
      "metadata": {
        "colab": {
          "base_uri": "https://localhost:8080/"
        },
        "id": "o0mmlZLvIm98",
        "outputId": "cea393a7-5082-46af-9d7f-9eba46da822a"
      },
      "outputs": [
        {
          "output_type": "execute_result",
          "data": {
            "text/plain": [
              "array([[ 0,  1,  2,  3],\n",
              "       [ 4,  5,  6,  7],\n",
              "       [ 8,  9, 10, 11]])"
            ]
          },
          "metadata": {},
          "execution_count": 139
        }
      ],
      "source": [
        "import numpy as np\n",
        "x = np.arange(12).reshape((3,4))\n",
        "x"
      ]
    },
    {
      "cell_type": "code",
      "execution_count": null,
      "metadata": {
        "colab": {
          "base_uri": "https://localhost:8080/"
        },
        "id": "2R7x1tgYInA8",
        "outputId": "b6ea0561-b2dc-4f07-bb9d-c748c8c76a2a"
      },
      "outputs": [
        {
          "output_type": "execute_result",
          "data": {
            "text/plain": [
              "tensor([[ 0,  1,  2,  3],\n",
              "        [ 4,  5,  6,  7],\n",
              "        [ 8,  9, 10, 11]])"
            ]
          },
          "metadata": {},
          "execution_count": 140
        }
      ],
      "source": [
        "x = torch.from_numpy(x)\n",
        "x"
      ]
    },
    {
      "cell_type": "code",
      "execution_count": null,
      "metadata": {
        "colab": {
          "base_uri": "https://localhost:8080/"
        },
        "id": "-oClVUfmInEi",
        "outputId": "90ef47f5-6e3d-490a-c4e2-3e7630778771"
      },
      "outputs": [
        {
          "output_type": "execute_result",
          "data": {
            "text/plain": [
              "array([[ 0,  1,  2,  3],\n",
              "       [ 4,  5,  6,  7],\n",
              "       [ 8,  9, 10, 11]])"
            ]
          },
          "metadata": {},
          "execution_count": 141
        }
      ],
      "source": [
        "x = x.numpy()\n",
        "x"
      ]
    },
    {
      "cell_type": "markdown",
      "metadata": {
        "id": "xrIJO4RJKdIJ"
      },
      "source": [
        "## Вычисления на GPU\n"
      ]
    },
    {
      "cell_type": "code",
      "execution_count": null,
      "metadata": {
        "colab": {
          "base_uri": "https://localhost:8080/"
        },
        "id": "OVwOilWJInHo",
        "outputId": "6a6c8aaf-262c-4921-f041-8f5740142a3f"
      },
      "outputs": [
        {
          "output_type": "execute_result",
          "data": {
            "text/plain": [
              "tensor([[0.8456, 0.7473, 0.4400,  ..., 0.8938, 0.7949, 0.4046],\n",
              "        [0.9795, 0.1499, 0.5615,  ..., 0.6501, 0.8706, 0.1686],\n",
              "        [0.9428, 0.7867, 0.3876,  ..., 0.8535, 0.1077, 0.9293],\n",
              "        ...,\n",
              "        [0.2074, 0.5800, 0.3644,  ..., 0.4854, 0.5466, 0.9133],\n",
              "        [0.0745, 0.4766, 0.9109,  ..., 0.5221, 0.7476, 0.1755],\n",
              "        [0.8632, 0.8168, 0.7183,  ..., 0.2459, 0.7391, 0.0251]])"
            ]
          },
          "metadata": {},
          "execution_count": 142
        }
      ],
      "source": [
        "x = torch.rand([2000, 3000])#создаем массив с рандомными числами\n",
        "x"
      ]
    },
    {
      "cell_type": "code",
      "execution_count": null,
      "metadata": {
        "colab": {
          "base_uri": "https://localhost:8080/"
        },
        "id": "M15YxlISInLw",
        "outputId": "bc563d68-d6d9-4481-b140-a5e747114036"
      },
      "outputs": [
        {
          "output_type": "execute_result",
          "data": {
            "text/plain": [
              "True"
            ]
          },
          "metadata": {},
          "execution_count": 143
        }
      ],
      "source": [
        "torch.cuda.is_available()#проверка наличия куды на компьютере"
      ]
    },
    {
      "cell_type": "code",
      "execution_count": null,
      "metadata": {
        "colab": {
          "base_uri": "https://localhost:8080/"
        },
        "id": "49728MaRInRB",
        "outputId": "037d8802-1879-4683-ad93-12eef8aa171b"
      },
      "outputs": [
        {
          "output_type": "execute_result",
          "data": {
            "text/plain": [
              "device(type='cuda', index=0)"
            ]
          },
          "metadata": {},
          "execution_count": 144
        }
      ],
      "source": [
        "torch.device('cuda:0')#девайс, принадлежащий видеокарте(счет начинается с 0)"
      ]
    },
    {
      "cell_type": "code",
      "execution_count": null,
      "metadata": {
        "colab": {
          "base_uri": "https://localhost:8080/"
        },
        "id": "m5hDeGReOaWL",
        "outputId": "b435105e-3caf-46d8-f5d2-eb592670f5a3"
      },
      "outputs": [
        {
          "output_type": "execute_result",
          "data": {
            "text/plain": [
              "device(type='cpu')"
            ]
          },
          "metadata": {},
          "execution_count": 145
        }
      ],
      "source": [
        "torch.device('cpu')#девайс, принадлежащий процессору"
      ]
    },
    {
      "cell_type": "code",
      "execution_count": null,
      "metadata": {
        "colab": {
          "base_uri": "https://localhost:8080/"
        },
        "id": "P5gwHp2qOaoL",
        "outputId": "14048017-6606-4eec-83c6-0c80720ba0d2"
      },
      "outputs": [
        {
          "output_type": "execute_result",
          "data": {
            "text/plain": [
              "device(type='cuda', index=0)"
            ]
          },
          "metadata": {},
          "execution_count": 146
        }
      ],
      "source": [
        "device = torch.device('cuda:0' if torch.cuda.is_available() else 'cpu')#автоматически выбирает девайс\n",
        "device"
      ]
    },
    {
      "cell_type": "code",
      "execution_count": null,
      "metadata": {
        "colab": {
          "base_uri": "https://localhost:8080/"
        },
        "id": "oBr79Ju_PV0o",
        "outputId": "b0e7ce45-b9f9-4e87-e812-41d50e35212d"
      },
      "outputs": [
        {
          "output_type": "execute_result",
          "data": {
            "text/plain": [
              "tensor([[0.8456, 0.7473, 0.4400,  ..., 0.8938, 0.7949, 0.4046],\n",
              "        [0.9795, 0.1499, 0.5615,  ..., 0.6501, 0.8706, 0.1686],\n",
              "        [0.9428, 0.7867, 0.3876,  ..., 0.8535, 0.1077, 0.9293],\n",
              "        ...,\n",
              "        [0.2074, 0.5800, 0.3644,  ..., 0.4854, 0.5466, 0.9133],\n",
              "        [0.0745, 0.4766, 0.9109,  ..., 0.5221, 0.7476, 0.1755],\n",
              "        [0.8632, 0.8168, 0.7183,  ..., 0.2459, 0.7391, 0.0251]],\n",
              "       device='cuda:0')"
            ]
          },
          "metadata": {},
          "execution_count": 147
        }
      ],
      "source": [
        "x_cuda = x.to(device)#тензор на куде\n",
        "x_cuda"
      ]
    },
    {
      "cell_type": "code",
      "execution_count": null,
      "metadata": {
        "colab": {
          "base_uri": "https://localhost:8080/"
        },
        "id": "1nulBbMFPWDF",
        "outputId": "b7dead82-297f-46e4-83f2-1bee2c825480"
      },
      "outputs": [
        {
          "output_type": "stream",
          "name": "stdout",
          "text": [
            "CPU times: user 16.5 ms, sys: 15.1 ms, total: 31.6 ms\n",
            "Wall time: 31.6 ms\n"
          ]
        }
      ],
      "source": [
        "%time y = (x - x + x * 10.0)**2"
      ]
    },
    {
      "cell_type": "code",
      "execution_count": null,
      "metadata": {
        "colab": {
          "base_uri": "https://localhost:8080/"
        },
        "id": "Bekh6O73QXRM",
        "outputId": "f5ff83c0-7895-4ae5-8c3e-9a468bedc073"
      },
      "outputs": [
        {
          "output_type": "stream",
          "name": "stdout",
          "text": [
            "CPU times: user 813 µs, sys: 0 ns, total: 813 µs\n",
            "Wall time: 826 µs\n"
          ]
        }
      ],
      "source": [
        "%time y_cuda = (x_cuda - x_cuda + x_cuda * 10.0)**2"
      ]
    },
    {
      "cell_type": "markdown",
      "metadata": {
        "id": "L6J0OPWyt7uM"
      },
      "source": [
        "# Строим первую нейронную сеть\n"
      ]
    },
    {
      "cell_type": "markdown",
      "metadata": {
        "id": "1XmsE8xSuMvt"
      },
      "source": [
        "## Восстановление зависимости нейронной сетью\n"
      ]
    },
    {
      "cell_type": "markdown",
      "metadata": {
        "id": "M4TLKhNhuVnZ"
      },
      "source": [
        "Размеченная обучающая выборка состоит из некоторого количество объектов и для этих объектов мы знаем:\n",
        "признаки $ x_1, x_2, ... , x_n $ и метку объекта\n",
        "$ y_1, y_2, ... , y_n $\n",
        "\n",
        "Перед обучением выборку надо разделить на три датасета:\n",
        "\n",
        "* **Тренировочный** (используется для обучения нейронной сети)\n",
        "* **Валидационный** (используется для настройки параметров модели)\n",
        "* **Тестовый** (используется для проверки окончательного результата)"
      ]
    },
    {
      "cell_type": "markdown",
      "metadata": {
        "id": "A9pR6aE6vxGw"
      },
      "source": [
        "## Компоненты нейронной сети\n"
      ]
    },
    {
      "cell_type": "markdown",
      "metadata": {
        "id": "-AcjM5ITwkeP"
      },
      "source": [
        "\n",
        "\n",
        "### Этапы построения нейронной сети\n",
        "\n",
        "Представим что нейронная сеть, которую мы должны научить -- это пульт с ручками, а успешно себя вести он будет тогда, когда ручки этого пульта будут в правильном положении.\n",
        "* **Архитектура нейронной сети** (определиться со структорой взаимодействия нейронов, функцией активации и тд. Придумать, как между аргументом и результатом будут происходить вычисления)\n",
        "* **Функция потерь**(ее минимум будет соответствовать наилучшему распраспложению \"ручек на пульте\")\n",
        "* **Метод оптимизации**(на сколько и как нужно крутить наши \"ручки\")\n",
        "\n",
        "\n",
        "Последний нейрон **линейный**. Между этим нейроном и аргументом стоит много сигмоидных нейронов.\n",
        "\n",
        "Для того, чтобы обучить, необходимо подобрать параметры у выходного нейрона и у нейронов скрытого слоя таким образом, чтобы выходное значение нашей нейронной сети наилучшим образом подходило тому, что мы наблюдали.\n",
        "\n",
        "\n"
      ]
    },
    {
      "cell_type": "markdown",
      "metadata": {
        "id": "XMikZ0kr12x7"
      },
      "source": [
        "## Настройка параметров нашей нейронной сети\n",
        "\n",
        "веса $w_1^1, w_2^1, ... , w_n^1$ , которые \"взвешивают\" входных значения в первый и единственный в этой нейронной сети скрытый слой. Эти веса\n",
        "отвечают за то, насколько круто будет растить соответствующая сигмоида.\n",
        "\n",
        "Кроме весов скрытого слоя, мы можем настраивать смещеня скрытого слоя $b_1^1, b_2^1, ... , b_n^1$.\n",
        "\n",
        "Также мы можем настраивать веса второго слоя $w_1^2, w_2^2, ... , w_n^2$\n",
        "\n",
        "Веса второго слоя будут означать амплитуду соответствующей сигмоиды.\n",
        "\n",
        "Также мы можем настраивать смещеня второго слоя $b_1^2$"
      ]
    },
    {
      "cell_type": "markdown",
      "metadata": {
        "id": "HT9Lex_C3MbV"
      },
      "source": [
        "Для настройки параметров нейронной сети будем использовать градиентный спуск. Веса будем описывать вектором\n",
        "$$\n",
        "\\begin{equation*}\n",
        "w_0 = \\left(\n",
        "    \\begin{array}{c}\n",
        "    w_0\\\\\n",
        "    w_1\\\\\n",
        "    \\vdots\\\\\n",
        "    w_n\\\\\n",
        "    \\vdots\\\\\n",
        "    b_0\\\\\n",
        "    b_1\\\\\n",
        "    \\vdots\\\\\n",
        "    b_n\n",
        "    \\end{array}\n",
        "\\right)\n",
        "\\end{equation*}\n",
        "$$\n",
        "\n",
        "\n",
        "Далее берём функцию потерь и считаем её производную, а точнее градиент.\n",
        "\n",
        "Градиент - вектор, состоящий из производных по каждой из координат функции\n",
        "$$\n",
        "\\begin{equation*}\n",
        "    \\nabla f = \\left(\n",
        "        \\begin{array}{c}\n",
        "        \\frac{\\partial f}{\\partial w_0} \\\\\n",
        "        \\frac{\\partial f}{\\partial w_1} \\\\\n",
        "        \\vdots\\\\\n",
        "        \\frac{\\partial f}{\\partial w_n}\n",
        "        \\end{array}\n",
        "    \\right)\n",
        "\\end{equation*}\n",
        "$$\n",
        "\n",
        "Градиент функции потерь показывает в сторону наибольшего роста функции потерь.\n",
        "Поскольку нам надо уменьшение потери, поэтому мы будем двигаться в сторону, обратную градиенту.\n",
        "Мы получаем новый вектор весов:\n",
        "$$\n",
        "w_1 = w_0 - \\alpha \\nabla f{w_0}\n",
        "$$\n",
        "Если мы хотем ещё сильнее минимизировать функцию потерь, мы можем взять градиент от $w_1$\n",
        "Таким образом мы получим точку\n",
        "$$\n",
        "w_2 = w_1 - \\alpha \\nabla f{w_1}\n",
        "$$\n",
        "\n",
        "$\\alpha$ - скорость обучения сети, в нашем случае фиксированный коэффициент\n",
        "\n",
        "При помощи градиентного спуска мы можем делать достаточно большое количество шагов.\n",
        "\n",
        "Градиентный спуск может найти минимум функции, но не оптимальный!!!!"
      ]
    },
    {
      "cell_type": "markdown",
      "metadata": {
        "id": "rWEdOd6T3woi"
      },
      "source": [
        "Ограничения функции потерь:\n",
        "* функция потерь должна быть **дифференцируема**\n",
        "* производная **не должна** равняться нулю\n",
        "$$\n",
        " \\frac{\\partial}{\\partial \\overline{y_i}} MSE = -\\frac{2}{N} (y_i - \\overline{y_i})\n",
        "$$\n",
        "\n",
        "$\\overline{y_i}$ - функция должна была выдать\n",
        "\n",
        "$y_i$ - результат вывода функции"
      ]
    },
    {
      "cell_type": "markdown",
      "metadata": {
        "id": "Kit5Oqa75oDc"
      },
      "source": [
        "Мы знаем производную функции потерь. По этой производной нам необходимо вычислить производные всех параметров сети.\n",
        "$$\n",
        "L = \\bigg(f_4 \\Big(f_2 \\big(f_1(x)\\big)\\Big), f_3 \\big(f_1(x)\\big)\\bigg)\n",
        "$$\n",
        "$$\n",
        "\\frac{\\partial f(g(x))}{\\partial x} = \\frac{\\partial f}{\\partial g} \\frac{\\partial g}{\\partial x}\n",
        "$$\n",
        "\n"
      ]
    },
    {
      "cell_type": "markdown",
      "metadata": {
        "id": "UkQcep5v4shG"
      },
      "source": [
        "$$\n",
        "    \\frac{\\partial L}{\\partial w_1} =\n",
        "    \\frac{\\partial L}{\\partial y_4}[\n",
        "        \\frac{\\partial f_4}{\\partial y_2}\n",
        "        \\frac{\\partial f_2}{\\partial y_1}+\n",
        "        \\frac{\\partial f_4}{\\partial y_3}\n",
        "        \\frac{\\partial f_3}{\\partial y_1}\n",
        "    ]\n",
        "    \\frac{\\partial f_1}{\\partial w_1}\n",
        "$$\n",
        "\n",
        "Алгоритм обратного распрастранения ошибки\n",
        "\n",
        "Starter kit\n",
        "\n",
        "* архитектура нейронной сети(в каком порядке и как определены нейроны)\n",
        "* определиться с функцией потерь(дифференцируемая функция, показывающая насколько хорошо решается поставленная задача)\n",
        "* определиться с методом оптимизации(как настраивать параметры сети, зная производную функции потерь)\n",
        "* подбор метрик(насколько хорошо обучается нейронная сеть)"
      ]
    },
    {
      "cell_type": "markdown",
      "metadata": {
        "id": "vhZcwiMOvLic"
      },
      "source": [
        "## Реализация градиентного спуска в PytTorch"
      ]
    },
    {
      "cell_type": "markdown",
      "metadata": {
        "id": "2OaO-iTgveZi"
      },
      "source": [
        "$$f(x) \\longrightarrow  \\displaystyle \\min_{x} $$\n",
        "\n",
        "$$\n",
        "x^{t+1} = x^t - \\alpha  f'(x^t)\n",
        "$$\n",
        "$$\n",
        "    f(x^{t+1}) = f(x^t - \\alpha f'(x^t))\n",
        "$$"
      ]
    },
    {
      "cell_type": "markdown",
      "metadata": {
        "id": "odpKcuwQw1Dc"
      },
      "source": [
        "пример\n",
        "$$\n",
        "f(x) = 10 * \\sum_{ij} x_{ij}^2 \\\\\n",
        "f'(X)_X = ? \\\\\n",
        "$$\n",
        "Производная от тензора - градиент\n",
        "$$\n",
        "f'(\\textbf{X})_{x_{kl}} = \\Big( 10\\cdot\\sum\\limits_{i, j}x_{ij}^2\\Big)_{x_{kl}}' = 10 \\cdot\\Big(\\sum\\limits_{i, j}x_{ij}^2\\Big)_{x_{kl}}'\n",
        "$$\n",
        "\n",
        "$$ \\quad = 10 \\cdot\\sum\\limits_{i, j}\\Big(x_{ij}^2\\Big)_{x_{kl}}' $$\n",
        "\n",
        "$$ \\quad = 10 \\cdot\\sum\\limits_{i, j}2 x_{ij} \\big(x_{ij}\\big)_{x_{kl}}' $$\n",
        "\n",
        "$$ \\quad = 10 \\cdot 2 x_{kl} \\cdot 1 = 20 x_{kl} $$\n",
        "\n",
        "$$f(\\textbf{X}) = 10\\cdot\\sum\\limits_{i, j}x_{ij}^2$$\n",
        "\n",
        "$$f'(\\textbf{X})_{\\textbf{X}} = 20 \\textbf{X} $$"
      ]
    },
    {
      "cell_type": "code",
      "execution_count": null,
      "metadata": {
        "id": "sZ1_Cb58xf4Z"
      },
      "outputs": [],
      "source": [
        "import torch\n",
        "x = torch.tensor([[1, 2, 3, 4],\n",
        "                  [5, 6, 7, 8],\n",
        "                  [9, 10, 11, 12]], dtype=float, requires_grad=True)\n",
        "# requires_grad=True сообщает о том,\n",
        "#что данный тензор является переменной, по которой нужно будет считать градиенты и\n",
        "#превращает тензор-константу в тензор-переменную"
      ]
    },
    {
      "cell_type": "code",
      "execution_count": null,
      "metadata": {
        "colab": {
          "base_uri": "https://localhost:8080/"
        },
        "id": "zsNnF7TYzEnW",
        "outputId": "50902553-3b10-4eb5-bc9f-556fd678330e"
      },
      "outputs": [
        {
          "output_type": "execute_result",
          "data": {
            "text/plain": [
              "tensor([[ 1.,  2.,  3.,  4.],\n",
              "        [ 5.,  6.,  7.,  8.],\n",
              "        [ 9., 10., 11., 12.]], device='cuda:0', dtype=torch.float64,\n",
              "       grad_fn=<ToCopyBackward0>)"
            ]
          },
          "metadata": {},
          "execution_count": 151
        }
      ],
      "source": [
        "device = torch.device('cuda:0' if torch.cuda.is_available() else 'cpu')\n",
        "x = x.to(device) #подключение тензора к вычислительной мощности\n",
        "x"
      ]
    },
    {
      "cell_type": "code",
      "execution_count": null,
      "metadata": {
        "id": "e-1HhzEHzkVD"
      },
      "outputs": [],
      "source": [
        "function =  10 * (x ** 2).sum()\n",
        "#составление функции зависящую от тензора X, который является переменной\n",
        "function\n",
        "function.backward() #вычисление производной функции, метод применяется к функции, ничего не возвращает"
      ]
    },
    {
      "cell_type": "code",
      "execution_count": null,
      "metadata": {
        "colab": {
          "base_uri": "https://localhost:8080/"
        },
        "id": "silJcZYr0EG6",
        "outputId": "ad7f50ea-a480-40f2-b8fe-b6f3a797fdcc"
      },
      "outputs": [
        {
          "output_type": "stream",
          "name": "stderr",
          "text": [
            "<ipython-input-153-49d2ad63c578>:1: UserWarning: The .grad attribute of a Tensor that is not a leaf Tensor is being accessed. Its .grad attribute won't be populated during autograd.backward(). If you indeed want the .grad field to be populated for a non-leaf Tensor, use .retain_grad() on the non-leaf Tensor. If you access the non-leaf Tensor by mistake, make sure you access the leaf Tensor instead. See github.com/pytorch/pytorch/pull/30531 for more informations. (Triggered internally at aten/src/ATen/core/TensorBody.h:486.)\n",
            "  x.grad #метод, который возвращает результат нахождения градиента функции\n"
          ]
        }
      ],
      "source": [
        "x.grad #метод, который возвращает результат нахождения градиента функции"
      ]
    },
    {
      "cell_type": "code",
      "execution_count": null,
      "metadata": {
        "colab": {
          "base_uri": "https://localhost:8080/"
        },
        "id": "A-6Jaoks26lq",
        "outputId": "0cc530e3-2e65-4df9-a28c-82d05c7219e8"
      },
      "outputs": [
        {
          "output_type": "stream",
          "name": "stdout",
          "text": [
            "<MulBackward0 object at 0x7f2713f0dd20>\n",
            "<SumBackward0 object at 0x7f2713f0df60>\n",
            "<PowBackward0 object at 0x7f2713f0dd20>\n",
            "<ToCopyBackward0 object at 0x7f264d160f70>\n"
          ]
        }
      ],
      "source": [
        "print(function.grad_fn) #последняя операция дифференцирования\n",
        "print(function.grad_fn.next_functions[0][0])\n",
        "print(function.grad_fn.next_functions[0][0].next_functions[0][0])\n",
        "print(function.grad_fn.next_functions[0][0].next_functions[0][0].next_functions[0][0]) #первая операция дифференцирования"
      ]
    },
    {
      "cell_type": "code",
      "execution_count": null,
      "metadata": {
        "id": "IWqJv88b3KOe"
      },
      "outputs": [],
      "source": [
        "#РЕАЛИЗАЦИЯ ГРАДИЕНТНОГО СПУСКА ПО ФОРМУЛЕ\n",
        "x.data -= 0.001 * x.grad\n",
        "#атрибут .data позволяет обновить не сам тензор, а ТОЛЬКО ДАННЫЕ В НЕМ"
      ]
    },
    {
      "cell_type": "markdown",
      "metadata": {
        "id": "0ACvXt2UEarL"
      },
      "source": [
        "Если мы будем производить операции градиента многократно: в pytorch для удобства градиенты не обновляются после выполнения градиентных шагов. Они всё время накапливаются то есть суммируются. Результат - сумма прошлого градиента и текущего. Для того, чтобы такое не происходило необходимо обнулять градиент"
      ]
    },
    {
      "cell_type": "code",
      "execution_count": null,
      "metadata": {
        "colab": {
          "base_uri": "https://localhost:8080/"
        },
        "id": "Sv4rSSiREZny",
        "outputId": "a6af1095-a84f-414f-9072-0c57c47ca376"
      },
      "outputs": [
        {
          "output_type": "execute_result",
          "data": {
            "text/plain": [
              "tensor([[ 1.,  2.,  3.,  4.],\n",
              "        [ 5.,  6.,  7.,  8.],\n",
              "        [ 9., 10., 11., 12.]], device='cuda:0', dtype=torch.float64,\n",
              "       grad_fn=<ToCopyBackward0>)"
            ]
          },
          "metadata": {},
          "execution_count": 156
        }
      ],
      "source": [
        "x.grad.zero_() #метод обнулит весь градиент"
      ]
    },
    {
      "cell_type": "code",
      "execution_count": null,
      "metadata": {
        "colab": {
          "base_uri": "https://localhost:8080/"
        },
        "id": "68GYlEHE4BLt",
        "outputId": "3f95672d-965c-464f-97e8-65a35d53a6ae"
      },
      "outputs": [
        {
          "output_type": "stream",
          "name": "stdout",
          "text": [
            "None\n"
          ]
        },
        {
          "output_type": "stream",
          "name": "stderr",
          "text": [
            "<ipython-input-157-c3fe87c00201>:10: UserWarning: The .grad attribute of a Tensor that is not a leaf Tensor is being accessed. Its .grad attribute won't be populated during autograd.backward(). If you indeed want the .grad field to be populated for a non-leaf Tensor, use .retain_grad() on the non-leaf Tensor. If you access the non-leaf Tensor by mistake, make sure you access the leaf Tensor instead. See github.com/pytorch/pytorch/pull/30531 for more informations. (Triggered internally at aten/src/ATen/core/TensorBody.h:486.)\n",
            "  print(w.grad) # Код для самопроверки\n"
          ]
        }
      ],
      "source": [
        "import torch\n",
        "\n",
        "w =  torch.tensor([[5, 10],\n",
        "                   [1, 2]], dtype=float, requires_grad=True)\n",
        "device = torch.device('cuda:0' if torch.cuda.is_available() else 'cpu')\n",
        "w = w.to(device)\n",
        "function =  torch.log(torch.log(w + 7))\n",
        "function.backward(w)\n",
        "\n",
        "print(w.grad) # Код для самопроверки"
      ]
    },
    {
      "cell_type": "code",
      "execution_count": null,
      "metadata": {
        "colab": {
          "base_uri": "https://localhost:8080/"
        },
        "id": "Y81zz-Ox99MO",
        "outputId": "bb497d82-134b-455c-dfd2-ddccf31e1103"
      },
      "outputs": [
        {
          "output_type": "stream",
          "name": "stdout",
          "text": [
            "tensor([[4.9900, 9.9948],\n",
            "        [0.9775, 1.9825]], requires_grad=True)\n"
          ]
        }
      ],
      "source": [
        "import torch\n",
        "\n",
        "w =  torch.tensor([[5., 10.],\n",
        "                   [1., 2.]], requires_grad=True)\n",
        "alpha = 0.001\n",
        "\n",
        "for i in range(500):\n",
        "  function = (w + 7).log().log().prod()\n",
        "  function.backward()\n",
        "  w.data -= alpha * w.grad\n",
        "  w.grad.zero_()\n",
        "\n",
        "print(w)"
      ]
    },
    {
      "cell_type": "code",
      "execution_count": null,
      "metadata": {
        "id": "VLULmbcRFQ5J"
      },
      "outputs": [],
      "source": [
        "x = torch.tensor([8., 8.], requires_grad = True)\n",
        "\n",
        "def parabola(variable):\n",
        "    return 10 * (variable ** 2).sum()\n",
        "\n",
        "def make_gradient_step(function, variable):\n",
        "    function_result = function(variable) #вычисление значения по функции\n",
        "    function_result.backward() #нахождение производной\n",
        "    variable.data -= 0.001 * variable.grad #градиентный спуск\n",
        "    variable.grad.zero_() #обнуление градиента\n",
        "\n",
        "for i in range(500):\n",
        "    make_gradient_step(parabola, x)"
      ]
    },
    {
      "cell_type": "code",
      "execution_count": null,
      "metadata": {
        "id": "gm0daOKwDgDg"
      },
      "outputs": [],
      "source": [
        "x = torch.tensor([8.,8.], requires_grad = True)\n",
        "\n",
        "optimizer = torch.optim.SGD([x], lr=0.001)\n",
        "#оптимайзер - объект, котоорый знает как делать градиентные шаги\n",
        "#SGD - стохастический градиентный спуск из пакета optim\n",
        "#мы передаем переменную, с которой будем осуществлять градиентный спуск и learning rate\n",
        "\n",
        "def parabola(variable):\n",
        "  return 10 *(variable ** 2).sum()\n",
        "\n",
        "def make_gradient_step(function, variable):\n",
        "  function_result = function(variable)#вычисление значения по функции\n",
        "  function_result.backward()#нахождение производной\n",
        "  optimizer.step()#градиентный спуск\n",
        "  optimizer.zero_grad()#обнуление градиента\n",
        "\n",
        "for i in range(500):\n",
        "  make_gradient_step(parabola, x)\n"
      ]
    },
    {
      "cell_type": "markdown",
      "metadata": {
        "id": "A4IsxlnOINds"
      },
      "source": [
        "Если мы хотим визуализировать то, что у нас получается вследствие градиентного спуска, мы можем\n",
        "попробовать нарисовать график линий функции, которую мы оптимизируем.\n",
        "\n",
        " В нашем случае, это круги(линии, на которых\n",
        "функция имеет одно и то же значение) и красными точками отмечена некоторая траектория движения икса,\n",
        "то есть траектория переменной икс, которую она проходит в процессе градиентного спуска.\n",
        "\n",
        " Мы начинали с начального приближения\n",
        "с точки (8,8). Мы видим, что наш градиентный спуск действительно спускается в минимум функции, в точку (0.0)"
      ]
    },
    {
      "cell_type": "code",
      "execution_count": null,
      "metadata": {
        "id": "L2UBjC-iNDya"
      },
      "outputs": [],
      "source": [
        "import torch\n",
        "import numpy as np\n",
        "import matplotlib.pyplot as plt\n",
        "\n",
        "def show_contours(objective, #функция, которая будет вычислять значение переменной в каждой точке\n",
        "                  x_lims=[-10.0, 10.0], #границы по ОХ\n",
        "                  y_lims=[-10.0, 10.0], #границы по ОУ\n",
        "                  x_ticks=100, #количество точек по ОХ для вычисления значений функции\n",
        "                  y_ticks=100): #количество точек по ОУ для вычисления значений функции\n",
        "    x_step = (x_lims[1] - x_lims[0]) / x_ticks #вычисление шагов на основе границ и количества точек по OX\n",
        "    y_step = (y_lims[1] - y_lims[0]) / y_ticks #вычисление шагов на основе границ и количества точек по OY\n",
        "    X, Y = np.mgrid[x_lims[0]:x_lims[1]:x_step, y_lims[0]:y_lims[1]:y_step] #np.mgrid создание сетки значений Х и У, содержащие координаты каждой точки\n",
        "    res = [] #список, в котором будут содержаться значения каждой функции на сетке\n",
        "    for x_index in range(X.shape[0]): #проход через каждую точку на сетке\n",
        "        res.append([])\n",
        "        for y_index in range(X.shape[1]):\n",
        "            x_val = X[x_index, y_index]\n",
        "            y_val = Y[x_index, y_index]\n",
        "            res[-1].append(objective(np.array([[x_val, y_val]]).T)) #получение значение функции для текущей точки и добавление на соответствующую позицию\n",
        "    res = np.array(res)\n",
        "    plt.figure(figsize=(7,7)) #создание новой фигуры для установки размеров графика\n",
        "    plt.contour(X, Y, res, 10) #создание контуров на основе X,Y, res. 100 - количество контуров\n",
        "    plt.xlabel('$x_1$')#оси название\n",
        "    plt.ylabel('$x_2$')"
      ]
    },
    {
      "cell_type": "code",
      "execution_count": null,
      "metadata": {
        "colab": {
          "base_uri": "https://localhost:8080/",
          "height": 619
        },
        "id": "8d99LCykNwuU",
        "outputId": "e1057430-c868-47f2-8edc-a8c18328f42c"
      },
      "outputs": [
        {
          "output_type": "display_data",
          "data": {
            "text/plain": [
              "<Figure size 700x700 with 1 Axes>"
            ],
            "image/png": "[encoded data removed]"
          },
          "metadata": {}
        }
      ],
      "source": [
        "import torch\n",
        "\n",
        "x = torch.tensor(\n",
        "    [8., 8.], requires_grad=True)\n",
        "var_history = []\n",
        "fn_history = []\n",
        "\n",
        "optimizer = torch.optim.SGD([x], lr=0.001)\n",
        "\n",
        "def function_parabola(variable):\n",
        "    return 10 * (variable ** 2).sum()\n",
        "\n",
        "def make_gradient_step(function, variable):\n",
        "    function_result = function(variable)\n",
        "    function_result.backward()\n",
        "    optimizer.step()\n",
        "    optimizer.zero_grad()\n",
        "\n",
        "for i in range(500):\n",
        "    var_history.append(x.data.numpy().copy())\n",
        "    fn_history.append(function_parabola(x).data.cpu().numpy().copy())\n",
        "    make_gradient_step(function_parabola, x)\n",
        "\n",
        "show_contours(function_parabola)\n",
        "plt.scatter(np.array(var_history)[:,0], np.array(var_history)[:,1], s=10, c='r');\n",
        "#plt.scatter - добавление точек на график\n",
        "#первые два массива задают координаты точек Х и У, s - размер, с - цвет"
      ]
    },
    {
      "cell_type": "code",
      "execution_count": null,
      "metadata": {
        "colab": {
          "base_uri": "https://localhost:8080/",
          "height": 619
        },
        "id": "1NdW8gYeN1dW",
        "outputId": "a286dbca-96e0-42fd-e692-feffca86edf4"
      },
      "outputs": [
        {
          "output_type": "display_data",
          "data": {
            "text/plain": [
              "<Figure size 700x700 with 1 Axes>"
            ],
            "image/png": "[encoded data removed]"
          },
          "metadata": {}
        }
      ],
      "source": [
        "plt.figure(figsize=(7,7))\n",
        "plt.plot(fn_history);\n",
        "plt.xlabel('step')\n",
        "plt.ylabel('function value');"
      ]
    },
    {
      "cell_type": "markdown",
      "metadata": {
        "id": "19wbF9rWN4c6"
      },
      "source": [
        "# Задачи, решаемые при помощи нейронных сетей"
      ]
    },
    {
      "cell_type": "markdown",
      "metadata": {
        "id": "_VoYvofSOSlB"
      },
      "source": [
        "## Бинарная классификация, бинарная кросс-энтропия"
      ]
    },
    {
      "cell_type": "markdown",
      "metadata": {
        "id": "ltJ8ssqtOYE6"
      },
      "source": [
        "Выбор функции потерь не зависит от характеристик модели"
      ]
    },
    {
      "cell_type": "markdown",
      "metadata": {
        "id": "uagYeJJkVW9b"
      },
      "source": [
        "Сигмоида\n",
        "\n",
        "$$ \\sigma(y) = \\frac{1}{1 + e^{-y}}$$\n",
        "\n",
        "Производная сигмоиды\n",
        "\n",
        "$$ \\sigma'(y) = \\sigma(y)(1 - \\sigma(y))$$"
      ]
    },
    {
      "cell_type": "markdown",
      "metadata": {
        "id": "qTfzIGbNWayw"
      },
      "source": [
        "$$MSE = (\\sigma(y) - t)^2$$\n",
        "\n",
        "$$MSE' = 2*(\\sigma(y)-t)*\\sigma(y)*(1-\\sigma(y))$$\n",
        "\n",
        "Возникает паралич сигмоидной нейронной сети\n",
        "\n",
        "Даже при большом количестве ошибки может возникнуть производная, которая будет равна 0. Градиентный спуск плохо подходит для обучения такой нейронной сети.Потому что функция ошибки сосотоит из трех компонент, одна из которых отклнение, и остальные не зависят от нее.\n",
        "\n"
      ]
    },
    {
      "cell_type": "markdown",
      "metadata": {
        "id": "A8eG5b7mce6z"
      },
      "source": [
        "В качестве потерь с сигмоидной функцией активации можно использовать функцию \"Бинарная кросс-энтропия\"\n",
        "$$\n",
        " BCE(p, t) = -t \\log(p) - (1-t)\\log(1-p)\n",
        "$$\n",
        "\n",
        "\n",
        "\n",
        "\n",
        "$$\n",
        "p = \\sigma(y)\n",
        "$$\n",
        "\n",
        "$$\n",
        "\\frac{\\partial BCE}{\\partial y} = \\frac{\\partial BCE}{\\partial p} \\frac{\\partial p}{\\partial y} = -\\frac{t}{\\sigma} \\sigma' + \\frac{1-t}{1-\\sigma}\\sigma'= -t(1-\\sigma) + (1-t)\\sigma = \\sigma - t\n",
        "$$\n",
        "\n",
        "\n",
        "Бинарная кросс-энтропия - функция потерь, которая хорошо оценивает вероятности и любые значения, которые находятся в интервале от $[0,1]$\n",
        "\n",
        "\n",
        "**Функция активации - сигмоида**\n",
        "\n",
        "**Функция потерь - бинарная кросс-энтропия**"
      ]
    },
    {
      "cell_type": "markdown",
      "metadata": {
        "id": "mB-_OncChGwj"
      },
      "source": [
        "## Многоклассовая классификация. СОФТМАКС"
      ]
    },
    {
      "cell_type": "markdown",
      "metadata": {
        "id": "PjE87VZui3RA"
      },
      "source": [
        "Для решения многоклассовой классификации предлагается сделать по одному выходу на каждый класс. Для получения вероятности для каждого класса будем использовать другой подход\n",
        "\n",
        "Сумма всех вероятностей(выходов) должна равняться единице.\n",
        "\n",
        "В таком примере в **качестве функции активации** мы будем применять функцию \"СофтМакс\"\n",
        "\n",
        "$$\n",
        "SM_i(\\vec{y})=\\frac{e^{y_i}}{\\sum^N_{j=1} e^{y_j}}\n",
        "$$\n",
        "\n",
        "Мы берём все выходы из сети и в эту степень возводим экспоненту. После этого для того, чтобы получить вероятность какого-то класса, мы берём экспоненту, которая соответствует этому классу, и делим на сумму всех экспонент(потому что вероятность не может быть больше 100%)"
      ]
    },
    {
      "cell_type": "markdown",
      "metadata": {
        "id": "31GW9ij8nQcS"
      },
      "source": [
        "Свойства софтмакс функции:\n",
        "- $0<SM<1$\n",
        "- $\\sum_{i=1}^N SM_i = 1$\n",
        "\n",
        "Продифференцируем софтмакс функцию:\n",
        "$$\n",
        "\\frac{\\partial SM_i}{\\partial y_c} = \\frac{-e^{y_i}e^{y_c}}{(\\sum^N_{j=1}e^{y_j})^2}; y_c \\neq y_i\n",
        "$$\n",
        "$y_c$ - некоторый выход из нейронной сети"
      ]
    },
    {
      "cell_type": "markdown",
      "metadata": {
        "id": "wpHkYhiTnXkN"
      },
      "source": [
        "Производная софтмакса по выходу:\n",
        "\n",
        "$$\n",
        "\\frac{\\partial SM_i}{\\partial y_i}=\\frac{e^{y_i}*\\sum^n_{j=1}e^{y_j} - e^{y_i}*e^{y_i}}{(\\sum_{j=1}^N e^{y_j})^2} = SM_i(1-SM_i)\n",
        "$$\n",
        "\n",
        "$$\n",
        "\\frac{\\partial}{\\partial y_i} \\sum^n_{j=1} e^{y_j} = \\frac{\\partial}{\\partial y_i} e^{y_i} = e^{y_i}\n",
        "$$\n"
      ]
    },
    {
      "cell_type": "markdown",
      "metadata": {
        "id": "2hSVid6kmCXo"
      },
      "source": [
        "Кросс энтропия - минус сумма всех классов от 1 до N.\n",
        "\n",
        "$t_c$ - таргетное значение для класса\n",
        "\n",
        "$p_c$ - вероятность этого класса\n",
        "\n",
        "Верояность класса - софтмакс от выходов из нейронной сети.\n",
        "\n",
        "Таргетное значение для класса - ноль почти для всех классов кроме одного, который присутствует на этой картинке\n",
        "\n",
        "Когда у нас будет два класса, софтмакс будет выглядеть как сигмоида. Кросс энтропия на два класса выглядит как бинарная кросс энтропия"
      ]
    },
    {
      "cell_type": "markdown",
      "metadata": {
        "id": "1dSjD_YEqFch"
      },
      "source": [
        "Кросс энтропия - хорошая функция потерь для функции активации софтмакс\n",
        "\n",
        "$$\n",
        "\\frac{\\partial CE}{\\partial y_i} = -\\frac{t_i}{p_i} \\frac{\\partial SM_i}{\\partial y_i} - \\sum_{c \\neq i} \\frac{t_c}{p_c} \\frac{\\partial SM_c}{\\partial y_i}$$\n",
        "$$ = - \\frac{t_i}{p_i} p_i(1-p_i)+ \\sum_{c \\neq i} t_c \\frac{1}{p_c} p_i p_c = -t_i(1-p_i) + \\sum_{c \\neq i} t_c p_i = -t_i + p_i\n",
        "$$\n",
        "\n",
        "Производная кросс энтропии по выходу из нейронной сети линейна"
      ]
    },
    {
      "cell_type": "markdown",
      "metadata": {
        "id": "FuX702TtfMG-"
      },
      "source": [
        "**Функция активации - софтмакс**\n",
        "\n",
        "**Функция потерь - кросс-энтропия**"
      ]
    },
    {
      "cell_type": "markdown",
      "metadata": {
        "id": "5hLOg8HNq30R"
      },
      "source": [
        "## Локализация, детекция, сегментация и super-resolution\n"
      ]
    },
    {
      "cell_type": "markdown",
      "metadata": {
        "id": "eyTq8YvorU3q"
      },
      "source": [
        "### Задача локализации и детекции"
      ]
    },
    {
      "cell_type": "markdown",
      "metadata": {
        "id": "-u6jyH6QPGuL"
      },
      "source": [
        "У нас есть картинка. На этой картинке где-то есть объект. Что нужно сделать для решения этой задачи?\n",
        "\n",
        "- Один из выходов нейронной сети должен говорить о вероятности нахождения на картинке объекта. (p)\n",
        "- Параметризация прямоугольника, включащего в себя объект $x_c, y_c$ - координаты центра\n",
        "- ширина (w) и высота (h)\n",
        "\n",
        "Эта задача будет решаться с некоторым количеством ограничений:\n",
        "- на картинке может быть либо один объект, либо ни одного\n",
        "- если центр объекта лежит в пределах картинки, то мы считаем, что объект на картинке есть, в ином случае, мы считаем, что его нет.\n",
        "- объект может выходить за пределы картинки\n",
        "\n"
      ]
    },
    {
      "cell_type": "markdown",
      "metadata": {
        "id": "u6eZwjGDQTLo"
      },
      "source": [
        "На выход вероятности можно использовать сигмоидную функцию активации.\n",
        "\n",
        "На выходы центра можно также использовать сигмоидную функции активации. Таким образом мы сможем задать центр объекта относительно картинки.\n",
        "\n",
        "Высота и ширина - экспоненты от соответствующих выходов\n",
        "\n",
        "На выходы вероятности, центра в качестве функции потерь можно использовать бинарную кросс энтропию\n",
        "\n",
        "В качестве функции потерь для высоты и ширины можно использовать средний квадрат ошибки от выхода сети до функции активации с логарифмом таргетного значения\n",
        "\n",
        "$$\n",
        "p = \\sigma(y_0);    BCE(\\sigma(y_0), \\widetilde{I})\\\\\n",
        "x_c = \\sigma(y_1);  BCE(\\sigma(y_1), \\widetilde{x_c})\\\\\n",
        "y_c = \\sigma(y_2);  BCE(\\sigma(y_2), \\widetilde{y_c})\\\\\n",
        "w = \\exp(y_3);      MSE(y_3, \\log{\\widetilde w})\\\\\n",
        "h = \\exp(y_4);      MSE(y_4, \\log{\\widetilde h})\n",
        "$$\n",
        "\n",
        "$$\n",
        "L = BCE(\\sigma(y_0), \\widetilde{w}) + \\widetilde I \\Bigg(BCE(\\sigma(y_1), \\widetilde{x_c})+BCE(\\sigma(y_2), \\widetilde{y_c})+MSE(y_3, \\log{\\widetilde w}))+MSE(y_4, \\log{\\widetilde h}\\Bigg)\n",
        "$$\n"
      ]
    },
    {
      "cell_type": "markdown",
      "metadata": {
        "id": "Z_B2K-cHQz9d"
      },
      "source": [
        "### Сегментация"
      ]
    },
    {
      "cell_type": "markdown",
      "metadata": {
        "id": "TRXiYlbrTpE2"
      },
      "source": [
        "На выходе из нейросети будет картинка, где каждый пиксель дифференцируется(есть кот или нет)\n",
        "\n",
        "Функция активации - сигмоида\n",
        "Функция потерь - бинарная кросс энтропия по каждому пикселю и сложения по всех картинке\n",
        "\n",
        "$$\n",
        "L = \\sum_j BCE(\\sigma(y_j), t_j)\n",
        "$$"
      ]
    },
    {
      "cell_type": "markdown",
      "metadata": {
        "id": "Vca64-daUbOg"
      },
      "source": [
        "### Задача сжатия размерности"
      ]
    },
    {
      "cell_type": "markdown",
      "metadata": {
        "id": "9XqMGp1rUlYY"
      },
      "source": [
        "Это задача попадает в разряд задач обучения без учителя.\n",
        "\n",
        "Сделать сеть, которую будем называть кодировщиком(инкодер). Она будет выдавать сжатое представление картинки(имбеддинг). Это изображение мы будем расшифровать при помощи сети, которая называется декодировщик(декодер). В результате мы должны получать такую же картинку, какая была на входе.\n",
        "\n",
        "В качестве лосс функции можно взять среднеквадратичную ошибку между тем, что было и что получилось.\n",
        "\n",
        "$$\n",
        "L = \\sum_j MSE(Img_j, \\widetilde{Img_j})\n",
        "$$"
      ]
    },
    {
      "cell_type": "markdown",
      "metadata": {
        "id": "XoyCo0WqVHAw"
      },
      "source": [
        "### Задача SuperResolution"
      ]
    },
    {
      "cell_type": "markdown",
      "metadata": {
        "id": "bGsdVlJyVVrO"
      },
      "source": [
        "увеличение изображения\n",
        "сжимаем картинки, отдаём нейросети и результат сравниваем с исходным"
      ]
    },
    {
      "cell_type": "markdown",
      "metadata": {
        "id": "jZORpBVI9dRe"
      },
      "source": [
        "##Первое обучение нейронной сети"
      ]
    },
    {
      "cell_type": "code",
      "execution_count": null,
      "metadata": {
        "id": "BRupVwkUAmFa"
      },
      "outputs": [],
      "source": [
        "%matplotlib inline\n",
        "\n",
        "import matplotlib.pyplot as plt\n",
        "import matplotlib\n",
        "matplotlib.rcParams['figure.figsize'] = (13.0, 5.0)\n",
        "# .rcParams - словарь из глобальный настроек графиков\n",
        "# figure.figsize - размер графика"
      ]
    },
    {
      "cell_type": "code",
      "execution_count": null,
      "metadata": {
        "id": "a0BlnndzBNMQ"
      },
      "outputs": [],
      "source": [
        "import torch"
      ]
    },
    {
      "cell_type": "markdown",
      "metadata": {
        "id": "Fl8WGuWaB_UG"
      },
      "source": [
        "###Train dataset"
      ]
    },
    {
      "cell_type": "code",
      "execution_count": null,
      "metadata": {
        "colab": {
          "base_uri": "https://localhost:8080/",
          "height": 485
        },
        "id": "ErZvFUudCHSK",
        "outputId": "2dc1a425-7d57-45ba-a72b-d78acf980924"
      },
      "outputs": [
        {
          "output_type": "execute_result",
          "data": {
            "text/plain": [
              "Text(0.5, 1.0, 'y = sin(x)')"
            ]
          },
          "metadata": {},
          "execution_count": 188
        },
        {
          "output_type": "display_data",
          "data": {
            "text/plain": [
              "<Figure size 1300x500 with 1 Axes>"
            ],
            "image/png": "[encoded data removed]"
          },
          "metadata": {}
        }
      ],
      "source": [
        "x_train = torch.rand(100)#для равномерного распределения берем сто рандомных чисел из [0,1]\n",
        "x_train = x_train * 20.0 - 10.0#точки расставляем примерно по центру графика\n",
        "\n",
        "y_train = torch.sin(x_train)#задача регрессии для синуса. y = sin(x)\n",
        "\n",
        "plt.plot(x_train.numpy(),y_train.numpy(), 'o')#cоздаем график,координаты по x и y,'o' - стиль(здесь точка)\n",
        "plt.title('y = sin(x)')"
      ]
    },
    {
      "cell_type": "markdown",
      "metadata": {
        "id": "fKG46qT6FwEN"
      },
      "source": [
        "Обучающая выборка простая, добавляем шума"
      ]
    },
    {
      "cell_type": "code",
      "execution_count": null,
      "metadata": {
        "colab": {
          "base_uri": "https://localhost:8080/",
          "height": 485
        },
        "id": "Q8MwrDmhF8Yz",
        "outputId": "fb83dd85-e051-46ef-d6ca-9f9c89d4fc1b"
      },
      "outputs": [
        {
          "output_type": "execute_result",
          "data": {
            "text/plain": [
              "Text(0.5, 1.0, 'Gaussian noise')"
            ]
          },
          "metadata": {},
          "execution_count": 189
        },
        {
          "output_type": "display_data",
          "data": {
            "text/plain": [
              "<Figure size 1300x500 with 1 Axes>"
            ],
            "image/png": "[encoded data removed]"
          },
          "metadata": {}
        }
      ],
      "source": [
        "noise = torch.randn(y_train.shape) / 5#генерация из нормального распределения\n",
        "\n",
        "plt.plot(x_train.numpy(), noise.numpy(),'o')\n",
        "plt.axis([-10, 10, -1, 1])#задаем максимальные и минимальные значения осей по x и y\n",
        "plt.title('Gaussian noise')\n"
      ]
    },
    {
      "cell_type": "code",
      "execution_count": null,
      "metadata": {
        "colab": {
          "base_uri": "https://localhost:8080/",
          "height": 504
        },
        "id": "Qp2WB6yBH2RQ",
        "outputId": "23c8f9f3-a5f7-4373-9daf-ea2272947446"
      },
      "outputs": [
        {
          "output_type": "execute_result",
          "data": {
            "text/plain": [
              "Text(0, 0.5, 'y_train')"
            ]
          },
          "metadata": {},
          "execution_count": 190
        },
        {
          "output_type": "display_data",
          "data": {
            "text/plain": [
              "<Figure size 1300x500 with 1 Axes>"
            ],
            "image/png": "[encoded data removed]"
          },
          "metadata": {}
        }
      ],
      "source": [
        "y_train = y_train + noise\n",
        "plt.plot(x_train.numpy(),y_train.numpy(),'o')\n",
        "plt.title('noise sin(x)')\n",
        "plt.xlabel('x_train')#оси\n",
        "plt.ylabel('y_train')\n"
      ]
    },
    {
      "cell_type": "code",
      "execution_count": null,
      "metadata": {
        "id": "rPEExHUmKapU"
      },
      "outputs": [],
      "source": [
        "x_train.unsqueeze_(1) #трансплонирование одномерного вектора\n",
        "y_train.unsqueeze_(1);"
      ]
    },
    {
      "cell_type": "code",
      "execution_count": null,
      "metadata": {
        "colab": {
          "base_uri": "https://localhost:8080/"
        },
        "id": "M5b_LFROLGiD",
        "outputId": "5c32a118-7a55-4076-9461-a1b340693fed"
      },
      "outputs": [
        {
          "output_type": "stream",
          "name": "stdout",
          "text": [
            "tensor([1., 2., 3.])\n",
            "tensor([[1.],\n",
            "        [2.],\n",
            "        [3.]])\n"
          ]
        }
      ],
      "source": [
        "tmp = torch.Tensor([1, 2, 3])\n",
        "print(tmp)\n",
        "print(tmp.unsqueeze(1))"
      ]
    },
    {
      "cell_type": "markdown",
      "metadata": {
        "id": "40FoDge-LqFB"
      },
      "source": [
        "###Validation dataset"
      ]
    },
    {
      "cell_type": "code",
      "execution_count": null,
      "metadata": {
        "colab": {
          "base_uri": "https://localhost:8080/",
          "height": 504
        },
        "id": "3M2G7ST7MDYV",
        "outputId": "d04cbb11-dead-44a3-8780-56c0e23472fb"
      },
      "outputs": [
        {
          "output_type": "execute_result",
          "data": {
            "text/plain": [
              "Text(0, 0.5, 'y_validation')"
            ]
          },
          "metadata": {},
          "execution_count": 193
        },
        {
          "output_type": "display_data",
          "data": {
            "text/plain": [
              "<Figure size 1300x500 with 1 Axes>"
            ],
            "image/png": "[encoded data removed]"
          },
          "metadata": {}
        }
      ],
      "source": [
        "x_validation = torch.linspace(-10,10,100)#сто точек равномерно распределены [-10;10]\n",
        "y_validation = torch.sin(x_validation.data)\n",
        "plt.plot(x_validation.numpy(), y_validation.numpy(), 'o')\n",
        "plt.title('validation sin(x)')\n",
        "plt.xlabel('x_validation')\n",
        "plt.ylabel('y_validation')"
      ]
    },
    {
      "cell_type": "code",
      "execution_count": null,
      "metadata": {
        "id": "BcLR4BO5NljN"
      },
      "outputs": [],
      "source": [
        "x_validation.unsqueeze_(1)#_означает трансформацию объекта\n",
        "y_validation.unsqueeze_(1);#установка правильной размерности"
      ]
    },
    {
      "cell_type": "markdown",
      "metadata": {
        "id": "qZyqQvEgNY7h"
      },
      "source": [
        "### model construction"
      ]
    },
    {
      "cell_type": "code",
      "execution_count": null,
      "metadata": {
        "id": "jFcisKeBNux0"
      },
      "outputs": [],
      "source": [
        "class SineNet(torch.nn.Module): #создаем класс,наследуем от данного модуля, потому что в нём есть необходимые нам модули\n",
        "  def __init__(self, n_hidden_neurons): #функция инициализации. В неё передаются те аргументы, что используются в момент конструирования нейросети\n",
        "    #мы передаём количество нейронов скрытого слоя\n",
        "    #мы предполагаем, что все слои будут одинакового размера\n",
        "    #когда мы создаём слои, они инициализируются некоторыми случайными числами\n",
        "\n",
        "    super(SineNet, self).__init__() #инициализируем родительский объект\n",
        "\n",
        "    #тута слои создаются\n",
        "    #первый слой fc1\n",
        "    self.fc1 = torch.nn.Linear(1, n_hidden_neurons) #в пайторче полносвязные слой называется Linear\n",
        "    #мы передаём количество входных нейронов(1) и количество выходных нейронов (n_hidden_neurons)\n",
        "    #это по сути не сам нейрон, а вход в него, координата нашей точки, по которой мы будем что-то предсказывать\n",
        "    #функция активации\n",
        "    self.act1 = torch.nn.Sigmoid() # сигмоидная функция активации\n",
        "    #еще один полносвязнный слой. Один нейрон и есть ответ на вопрос\n",
        "    self.fc2 = torch.nn.Linear(n_hidden_neurons, 1)\n",
        "\n",
        "  #пишем функцию, в которой все слои будут последовательно применятся\n",
        "  def forward(self, x):\n",
        "    x = self.fc1(x)\n",
        "    x = self.act1(x)\n",
        "    x = self.fc2(x)\n",
        "    return x\n",
        "\n",
        "sine_net = SineNet(50) #создание нейросети\n",
        "\n",
        "\n"
      ]
    },
    {
      "cell_type": "markdown",
      "metadata": {
        "id": "AVHuRiPa7Sg6"
      },
      "source": [
        "### Зачем мы делим датасет на 3 части"
      ]
    },
    {
      "cell_type": "markdown",
      "metadata": {
        "id": "_JAl9zwK6kKs"
      },
      "source": [
        "* Validation нужна, чтобы подобрать гиперпараметры сети\n",
        "\n",
        "  В процессе экспериментов с сетью мы могли \"подогнать\" гиперпараметры под данные в validation. Значит, чтобы получить \"честное\" качество, нам нужен test\n",
        "\n",
        "  Если бы мы обучались на полном датасете и на нем же валидировались, то не заметили бы переобучения (когда сетка \"запомнила\" выборку)\n",
        "\n",
        "  Validation нужна, чтобы посмотреть качество работы сетки на данных, которых не было в обучении\n",
        "\n",
        "* Train нужен для обучения\n",
        "\n",
        "* Test нужен для финальной оценки качества работы сети"
      ]
    },
    {
      "cell_type": "code",
      "execution_count": null,
      "metadata": {
        "colab": {
          "base_uri": "https://localhost:8080/",
          "height": 465
        },
        "id": "c2Y6bGDf7LTe",
        "outputId": "14db74dc-10b0-42dd-ce5b-a4c482ea0549"
      },
      "outputs": [
        {
          "output_type": "display_data",
          "data": {
            "text/plain": [
              "<Figure size 1300x500 with 1 Axes>"
            ],
            "image/png": "[encoded data removed]"
          },
          "metadata": {}
        }
      ],
      "source": [
        "def predict(net, x, y):\n",
        "  y_pred = net.forward(x)\n",
        "# рисует сам Prediction\n",
        "  plt.plot(x.numpy(), y.numpy(), 'o', label='Ground truth')#то, что мы бы хотели на валидации увидеть\n",
        "  plt.plot(x.numpy(), y_pred.data.numpy(), 'o',\n",
        "           c = 'r', label='Prediction');#то, что сеть предсказала\n",
        "  plt.legend(loc = 'upper left')\n",
        "  plt.xlabel('$x$')\n",
        "  plt.ylabel('$y$')\n",
        "\n",
        "predict(sine_net, x_validation, y_validation)"
      ]
    },
    {
      "cell_type": "markdown",
      "metadata": {
        "id": "onsvLcE7ID0e"
      },
      "source": [
        "### Optimizer"
      ]
    },
    {
      "cell_type": "code",
      "execution_count": null,
      "metadata": {
        "id": "vzieo7S6LxoS"
      },
      "outputs": [],
      "source": [
        "optimizer = torch.optim.Adam(sine_net.parameters(), lr = 0.01)\n",
        "#оптимизатор - объект, который реализует шаги градиентного спуска\n",
        "#.parametrs - мы влияем именно на веса нейронной сети"
      ]
    },
    {
      "cell_type": "markdown",
      "metadata": {
        "id": "Z32QXfdGTfsf"
      },
      "source": [
        "### Loss function"
      ]
    },
    {
      "cell_type": "code",
      "execution_count": null,
      "metadata": {
        "id": "Q2A3okmWTesO"
      },
      "outputs": [],
      "source": [
        "def loss(pred, target):\n",
        "  squares = (pred - target)** 2 #MSE\n",
        "  return squares.mean()"
      ]
    },
    {
      "cell_type": "markdown",
      "metadata": {
        "id": "YPjzH1CzVwXb"
      },
      "source": [
        "### Training procedure"
      ]
    },
    {
      "cell_type": "code",
      "execution_count": null,
      "metadata": {
        "id": "ZADS_6HMV6iF",
        "colab": {
          "base_uri": "https://localhost:8080/",
          "height": 465
        },
        "outputId": "fa846aa0-0592-4475-ef08-7825e9c11863"
      },
      "outputs": [
        {
          "output_type": "display_data",
          "data": {
            "text/plain": [
              "<Figure size 1300x500 with 1 Axes>"
            ],
            "image/png": "[encoded data removed]"
          },
          "metadata": {}
        }
      ],
      "source": [
        "for epoch_index in range(2000):#у нас 2000 эпох\n",
        "    optimizer.zero_grad() #зануляем градиент\n",
        "\n",
        "    y_pred = sine_net.forward(x_train) #считываем наш датасет\n",
        "\n",
        "    loss_val = loss(y_pred, y_train) #значение потерь\n",
        "\n",
        "    loss_val.backward() #считаем градиенты\n",
        "\n",
        "    optimizer.step() #шаг градиента\n",
        "\n",
        "predict(sine_net, x_validation, y_validation)"
      ]
    },
    {
      "cell_type": "markdown",
      "metadata": {
        "id": "CKHyyOS15OUy"
      },
      "source": [
        "## Классификация в PyTorch"
      ]
    },
    {
      "cell_type": "code",
      "execution_count": 5,
      "metadata": {
        "id": "D0EwKYoE9WI1"
      },
      "outputs": [],
      "source": [
        "import torch\n",
        "import random\n",
        "import numpy as np\n",
        "#мы всегда будем использовать нулевую последовательность при вызове генератора random\n",
        "random.seed(0)#фиксируем сиды генератора случайных чисел python\n",
        "np.random.seed(0)#фиксируем сиды генератора случайных чисел  NumPy\n",
        "torch.manual_seed(0)#фиксируем сиды генератора случайных чисел PyTorch на cpu\n",
        "torch.cuda.manual_seed(0)#для gpu\n",
        "torch.backends.cudnn.deterministic = True#дает возможность воспроизведения при использовании библиотеки CuDNN для вычисления на gpu"
      ]
    },
    {
      "cell_type": "markdown",
      "metadata": {
        "id": "vd2NjNLIBinm"
      },
      "source": [
        "### Для задач классификации используем датасет Wine"
      ]
    },
    {
      "cell_type": "code",
      "execution_count": 3,
      "metadata": {
        "id": "dycIYM6xBgWD",
        "colab": {
          "base_uri": "https://localhost:8080/"
        },
        "outputId": "f7a5698c-267b-4682-9359-e167e9b2d1d5"
      },
      "outputs": [
        {
          "output_type": "execute_result",
          "data": {
            "text/plain": [
              "(178, 13)"
            ]
          },
          "metadata": {},
          "execution_count": 3
        }
      ],
      "source": [
        "import sklearn.datasets #модуль с датасетом wine\n",
        "wine = sklearn.datasets.load_wine()#импортируем\n",
        "wine.data.shape#есть 178 бутылок вин(каждая имеет 13 параметров), каждую можно классифицировать на три класса"
      ]
    },
    {
      "cell_type": "code",
      "execution_count": 6,
      "metadata": {
        "id": "rWodpULBNWt8"
      },
      "outputs": [],
      "source": [
        "from sklearn.model_selection import train_test_split\n",
        "\n",
        "X_train, X_test, Y_train, Y_test = train_test_split( #разбиваем на train и test датасеты\n",
        "    wine.data[:, :2], #берем две колонки из 13 (для удобства визуализации)\n",
        "    wine.target, #те классы, которые нам надо предсказать, их номера\n",
        "    test_size = 0.3, #отрежем 30% для test\n",
        "    shuffle = True #перемешиваем датасет(вдруг отсортированный)\n",
        ")\n",
        "X_train = torch.FloatTensor(X_train) #дробные\n",
        "X_test = torch.FloatTensor(X_test)\n",
        "Y_train = torch.LongTensor(Y_train) #целые\n",
        "Y_test = torch.LongTensor(Y_test)"
      ]
    },
    {
      "cell_type": "code",
      "execution_count": 29,
      "metadata": {
        "id": "aezmHjymOmrd"
      },
      "outputs": [],
      "source": [
        "class WineNet(torch.nn.Module):\n",
        "  def __init__(self, n_hidden_neurons):\n",
        "    super(WineNet, self).__init__()\n",
        "    self.fc1 = torch.nn.Linear(2, n_hidden_neurons)#на входе две колонки\n",
        "    self.act1 = torch.nn.Sigmoid()#можно что угодно\n",
        "    # self.fc2 = torch.nn.Linear(n_hidden_neurons, n_hidden_neurons)\n",
        "    # self.act2 = torch.nn.Sigmoid()\n",
        "    # self.fc4 = torch.nn.Linear(n_hidden_neurons, n_hidden_neurons)\n",
        "    # self.act4 = torch.nn.Sigmoid()\n",
        "    self.fc3 = torch.nn.Linear(n_hidden_neurons,3)#выдает 3 нейрона(отвеают за свои классы)\n",
        "    self.sm3 = torch.nn.Softmax(dim=1)#к каждой строке применяем\n",
        "\n",
        "  def forward(self, x):\n",
        "    x = self.fc1(x)\n",
        "    x = self.act1(x)\n",
        "    # x = self.fc2(x)\n",
        "    # x = self.act2(x)\n",
        "    # x = self.fc4(x)\n",
        "    # x = self.act4(x)\n",
        "    x = self.fc3(x)\n",
        "    return x\n",
        "    #экспаненты и логарифмы взаимоуничтожаются, поэтому можем вычислить кросс энтропию, не считая софтмакс\n",
        "    #софтмакс долгая для вычисления, её нужно стараться избегать\n",
        "  def inference(self, x):#софтмакс долгая, поэтому отдельно\n",
        "    x = self.forward(x)\n",
        "    x = self.sm(x)\n",
        "    return x\n",
        "\n",
        "wine_net = WineNet(15)\n"
      ]
    },
    {
      "cell_type": "code",
      "execution_count": 30,
      "metadata": {
        "id": "x6c_uM3-QTRV"
      },
      "outputs": [],
      "source": [
        "loss = torch.nn.CrossEntropyLoss()#использует не выходы после софтмакса, а выходы нейронной сети еще до прохода в софтмакс\n",
        "\n",
        "optimizer = torch.optim.Adam(wine_net.parameters(), lr=0.001)#0.001 -  cтандартное значение\n"
      ]
    },
    {
      "cell_type": "code",
      "execution_count": 9,
      "metadata": {
        "id": "zYfvQFcwSmmt",
        "colab": {
          "base_uri": "https://localhost:8080/"
        },
        "outputId": "ba845cb2-8922-4b22-8b13-374bb775374b"
      },
      "outputs": [
        {
          "output_type": "execute_result",
          "data": {
            "text/plain": [
              "array([2, 4, 1, 3, 8, 0, 7, 5, 6, 9])"
            ]
          },
          "metadata": {},
          "execution_count": 9
        }
      ],
      "source": [
        "np.random.permutation(10)"
      ]
    },
    {
      "cell_type": "code",
      "execution_count": 31,
      "metadata": {
        "id": "GqWzs-ABVf0y",
        "colab": {
          "base_uri": "https://localhost:8080/"
        },
        "outputId": "e3f4b787-497d-4cec-bd87-153adbefb3a3"
      },
      "outputs": [
        {
          "output_type": "stream",
          "name": "stdout",
          "text": [
            "tensor(0.2407)\n",
            "tensor(0.4074)\n",
            "tensor(0.3889)\n",
            "tensor(0.4815)\n",
            "tensor(0.4815)\n",
            "tensor(0.4630)\n",
            "tensor(0.5741)\n",
            "tensor(0.7037)\n",
            "tensor(0.7222)\n",
            "tensor(0.7593)\n",
            "tensor(0.7778)\n",
            "tensor(0.7778)\n",
            "tensor(0.7778)\n",
            "tensor(0.7778)\n",
            "tensor(0.8148)\n",
            "tensor(0.8148)\n",
            "tensor(0.8148)\n",
            "tensor(0.8148)\n",
            "tensor(0.8148)\n",
            "tensor(0.8148)\n",
            "tensor(0.7963)\n",
            "tensor(0.8148)\n",
            "tensor(0.8148)\n",
            "tensor(0.8148)\n",
            "tensor(0.8148)\n",
            "tensor(0.8148)\n",
            "tensor(0.8333)\n",
            "tensor(0.8519)\n",
            "tensor(0.8519)\n",
            "tensor(0.8519)\n",
            "tensor(0.8519)\n",
            "tensor(0.8704)\n",
            "tensor(0.8704)\n",
            "tensor(0.8704)\n",
            "tensor(0.8704)\n",
            "tensor(0.8704)\n",
            "tensor(0.8704)\n",
            "tensor(0.8704)\n",
            "tensor(0.8704)\n",
            "tensor(0.8704)\n",
            "tensor(0.8704)\n",
            "tensor(0.8704)\n",
            "tensor(0.8704)\n",
            "tensor(0.8889)\n",
            "tensor(0.8704)\n",
            "tensor(0.8704)\n",
            "tensor(0.8704)\n",
            "tensor(0.8704)\n",
            "tensor(0.8704)\n",
            "tensor(0.8704)\n",
            "tensor(0.8704)\n",
            "tensor(0.8704)\n",
            "tensor(0.8704)\n",
            "tensor(0.8704)\n",
            "tensor(0.8704)\n",
            "tensor(0.8519)\n",
            "tensor(0.8519)\n",
            "tensor(0.8519)\n",
            "tensor(0.8704)\n",
            "tensor(0.8704)\n",
            "tensor(0.8704)\n",
            "tensor(0.8704)\n",
            "tensor(0.8704)\n",
            "tensor(0.8704)\n",
            "tensor(0.8704)\n",
            "tensor(0.8704)\n",
            "tensor(0.8704)\n",
            "tensor(0.8704)\n",
            "tensor(0.8704)\n",
            "tensor(0.8704)\n",
            "tensor(0.8704)\n",
            "tensor(0.8704)\n",
            "tensor(0.8704)\n",
            "tensor(0.8704)\n",
            "tensor(0.8704)\n",
            "tensor(0.8704)\n",
            "tensor(0.8704)\n",
            "tensor(0.8704)\n",
            "tensor(0.8704)\n",
            "tensor(0.8704)\n",
            "tensor(0.8704)\n",
            "tensor(0.8704)\n",
            "tensor(0.8704)\n",
            "tensor(0.8704)\n",
            "tensor(0.8704)\n",
            "tensor(0.8519)\n",
            "tensor(0.8519)\n",
            "tensor(0.8519)\n",
            "tensor(0.8519)\n",
            "tensor(0.8519)\n",
            "tensor(0.8519)\n",
            "tensor(0.8519)\n",
            "tensor(0.8519)\n",
            "tensor(0.8519)\n",
            "tensor(0.8519)\n",
            "tensor(0.8519)\n",
            "tensor(0.8519)\n",
            "tensor(0.8519)\n",
            "tensor(0.8519)\n",
            "tensor(0.8704)\n"
          ]
        }
      ],
      "source": [
        "batch_size = len(X_train) #будем вырезать из нашего датасета участки длиной batch_size\n",
        "\n",
        "for epoch in range(10000):\n",
        "  order = np.random.permutation(len(X_train)) #перемешиваем индексы датасета\n",
        "  for start_index in range(0, len(X_train), batch_size):\n",
        "    optimizer.zero_grad()\n",
        "\n",
        "    batch_indexes = order[start_index:start_index + batch_size]#индексы, соответствующие конкретному batch\n",
        "\n",
        "    x_batch = X_train[batch_indexes]#получаем и данные и ответ\n",
        "    y_batch = Y_train[batch_indexes]\n",
        "\n",
        "    preds = wine_net.forward(x_batch)#пропускаем весь batch через сеть(выходы на последних трех нейронах)\n",
        "\n",
        "    loss_val = loss(preds, y_batch)\n",
        "    loss_val.backward()\n",
        "\n",
        "    optimizer.step()#шаг градиентного спуска\n",
        "\n",
        "#выисляем метрики на тест датасете, чтоб посмотреть обучаеется сеть или нет\n",
        "  if epoch % 100 == 0:#\n",
        "    test_preds = wine_net.forward(X_test)#каждые сто эпох\n",
        "    test_preds = test_preds.argmax(dim=1) #выисляем максимальный выход\n",
        "    # чтобы понять какой класс предсказывает нейросеть не обязательно вычислять через софтмакс вероятность\n",
        "    # макс выход и есть выход с макс вероятностью\n",
        "\n",
        "    print((test_preds == Y_test).float().mean())#совпадение нейрона с макс выходом с правильным классом"
      ]
    },
    {
      "cell_type": "code",
      "source": [
        "import numpy as np\n",
        "import matplotlib.pyplot as plt\n",
        "\n",
        "\n",
        "\n",
        "plt.rcParams['figure.figsize'] = (8, 8)# размеры графика\n",
        "\n",
        "\n",
        "n_classes = 3#классы\n",
        "plot_colors = ['g', 'orange', 'black']#цвета\n",
        "plot_step = 0.001#шаг\n",
        "\n",
        "\n",
        "x_min, x_max = X_train[:, 0].min() - 1, X_train[:, 0].max() + 1#диапазоны для x и y\n",
        "y_min, y_max = X_train[:, 1].min() - 1, X_train[:, 1].max() + 1\n",
        "\n",
        "\n",
        "xx, yy = torch.meshgrid(torch.arange(x_min, x_max, plot_step),# Создаем сетку точек для отображения\n",
        "                     torch.arange(y_min, y_max, plot_step))\n",
        "# Преобразуем входные данные в тензор PyTorch\n",
        "input_data = torch.tensor(np.c_[xx.ravel(), yy.ravel()], dtype=torch.float32)\n",
        "\n",
        "#красиво все вместе\n",
        "with torch.no_grad():\n",
        "    intermediate = wine_net.fc1(input_data)\n",
        "    intermediate = wine_net.act1(intermediate)\n",
        "    preds = wine_net.fc3(intermediate)\n",
        "    preds = wine_net.sm3(preds)  # Применяем софтмакс для получения вероятностей классов\n",
        "\n",
        "\n",
        "preds_class = preds.argmax(dim=1).detach().numpy()# Преобразуем предсказания в массив NumPy\n",
        "preds_class = preds_class.reshape(xx.shape)\n",
        "\n",
        "\n",
        "plt.contourf(xx, yy, preds_class, cmap='Accent')# Отображаем контурные линии предсказанных классов\n",
        "\n",
        "\n",
        "for i, color in zip(range(n_classes), plot_colors):# Отображаем обучающие точки\n",
        "    indexes = np.where(Y_train == i)\n",
        "    plt.scatter(X_train[indexes, 0],\n",
        "                X_train[indexes, 1],\n",
        "                c=color,\n",
        "                label=wine.target_names[i],\n",
        "                cmap='Accent')\n",
        "\n",
        "\n",
        "plt.xlabel(wine.feature_names[0])\n",
        "plt.ylabel(wine.feature_names[1])\n",
        "plt.legend()\n",
        "\n",
        "\n",
        "plt.show()\n"
      ],
      "metadata": {
        "id": "bwQ1z39aXp8U",
        "colab": {
          "base_uri": "https://localhost:8080/",
          "height": 751
        },
        "outputId": "48be90d4-6a99-4147-f884-925e520bf6de"
      },
      "execution_count": 32,
      "outputs": [
        {
          "output_type": "stream",
          "name": "stderr",
          "text": [
            "<ipython-input-32-9f3176a817ca>:40: UserWarning: No data for colormapping provided via 'c'. Parameters 'cmap' will be ignored\n",
            "  plt.scatter(X_train[indexes, 0],\n"
          ]
        },
        {
          "output_type": "display_data",
          "data": {
            "text/plain": [
              "<Figure size 800x800 with 1 Axes>"
            ],
            "image/png": "[encoded data removed]"
          },
          "metadata": {}
        }
      ]
    },
    {
      "cell_type": "markdown",
      "metadata": {
        "id": "N92cxYrO9ZV8"
      },
      "source": [
        "# Методы оптимизации"
      ]
    },
    {
      "cell_type": "markdown",
      "metadata": {
        "id": "JfQ19oQ5DHwN"
      },
      "source": [
        "## Самый обычный градиентный спуск"
      ]
    },
    {
      "cell_type": "markdown",
      "metadata": {
        "id": "ZUpbp9nJer-m"
      },
      "source": [
        "**loss функция** нужна, чтобы нейронная сеть понимала,в какую сторону нужно двигаться, чтоб улучшать свои результаты\n",
        "\n",
        "**optimizer** существует для воспроизводства этих движений"
      ]
    },
    {
      "cell_type": "markdown",
      "metadata": {
        "id": "R6GUBi2kfcnp"
      },
      "source": [
        "Наиболее распространнёным и наиболее простым  оптимизатором является градиентный спуск.\n",
        "\n",
        "$$\n",
        "\\nabla f = \\left(\n",
        "  \\begin{array}{c}\n",
        "  \\frac{\\partial f}{\\partial w_0}\\\\\n",
        "  \\frac{\\partial f}{\\partial w_1}\\\\\n",
        "  \\vdots\\\\\n",
        "  \\frac{\\partial f}{\\partial w_n}\n",
        "  \\end{array}\n",
        "  \\right)\n",
        "$$"
      ]
    },
    {
      "cell_type": "markdown",
      "metadata": {
        "id": "uQA9BPd8iBtP"
      },
      "source": [
        "Если мы начали в точке $w_0$, то после градиентного шага мы оказываемся в новой точке:\n",
        "\n",
        "$ \\alpha - \\text{скорость обучения} $\n",
        "\n",
        "$$\n",
        "w_1 = w_0 - \\alpha \\nabla f(w_0)\n",
        "$$\n",
        "\n",
        "Следующий шаг:\n",
        "\n",
        "$$\n",
        "w_2 = w_1 - \\alpha \\nabla f(w_1)\n",
        "$$\n",
        "\n",
        "Параметры с каждым разом улучшаются\n",
        "\n",
        "И делаем так пока не дойдем до локального минимума:\n",
        "\n",
        "$$\n",
        "w_n = w_{n-1} - \\alpha \\nabla f(w_{n-1})\n",
        "$$\n",
        "\n"
      ]
    },
    {
      "cell_type": "markdown",
      "metadata": {
        "id": "B2qPO-IvwVuF"
      },
      "source": [
        "Недостаток градиентного спуска - нужно посчитать функцию потерь по всем параметрам обучающей выборки(слишком много времени занимает)\n",
        "\n",
        "**Cтохастический градиентный спуск** - градиент функции по одному примеру.\n",
        "\n",
        "**Побатчевый градиентый спуск** - можно вычислить функцию потерь на нескольких примерах(сам выбираешь):\n",
        "\n",
        "$$\n",
        "  f = f_1 + f_2 + f_3 + ... + f_n\n",
        "$$\n",
        "\n",
        "Мы можем взять три примера и посчитать градиент loss function, усредняем или складываем (зависит от loss function), дальше мы посчитали градиент, домножаем на learning rate и теперь делаем шаг.\n",
        "\n",
        "\n",
        "ноооо!!!!!\n",
        "\n",
        "$$\n",
        "1 << |b| << N\n",
        "$$\n",
        "\n",
        "\n",
        "$$\n",
        "w_1 = w_0 - \\alpha \\nabla f_{b_1}(w_0)\n",
        "$$\n",
        "$$\n",
        "w_2 = w_1 - \\alpha \\nabla f_{b_2}(w_1)\n",
        "$$\n",
        "$$\n",
        "w_3 = w_2 - \\alpha \\nabla f_{b_3}(w_2)\n",
        "$$\n",
        "$$\n",
        "\\vdots\\\\\n",
        "w_{t+1} = w_t - \\alpha \\nabla f_{b_n}(w_t)\\\\\n",
        "$$\n",
        "\n"
      ]
    },
    {
      "cell_type": "markdown",
      "metadata": {
        "id": "LdQ-1WpU4dFY"
      },
      "source": [
        "## Модификации градиентного спуска\n"
      ]
    },
    {
      "cell_type": "markdown",
      "metadata": {
        "id": "pAsMQo-A4p1w"
      },
      "source": [
        "Побатчевый градиентный спуск-стохастический градиетный спуск в пакетах для обучения нейронных сетей.\n",
        "\n",
        "Плюс:\n",
        "\n",
        " он достаточно быстро вычисляет, насколько нужно обновить текущие веса модели для того, чтобы улучшить её производительность для того, чтобы уменьшить функцию потерь.\n",
        "\n",
        "Минус:\n",
        "\n",
        "  в вытянутный линиях уровня нужно сделать много шагов, чтобы приблизиться к локальному минимому.\n",
        "\n",
        "удобно представить его поведение в виде катящегося шара.\n",
        "\n",
        "Модель:\n",
        "$$\n",
        "\\begin{equation*}\n",
        "  \\begin{cases}\n",
        "  \\frac{\\partial v}{\\partial t} = \\frac{1}{m}(F + F_{тр})\n",
        "  \\text{ - второй закон Ньютона}\\\\\n",
        "  \\frac{\\partial x}{\\partial t} = v\n",
        "  \\text{ - определение понятния скорости}\n",
        "  \\end{cases}\n",
        "\\end{equation*}\n",
        "$$\n",
        "\n",
        "\n",
        "В нашем случае модель будет выглядеть следующим образом:\n",
        "\n",
        "$$\n",
        "\\begin{cases}\n",
        "  \\frac{\\partial v}{\\partial t} = - \\frac{1}{m} \\nabla f - \\frac{1}{m} \\eta  v\\\\\n",
        "  \\frac{\\partial x}{\\partial t} = v\n",
        "\\end{cases}\n",
        "$$\n",
        "\n",
        "Для решения данной системы уравнений мы будем использовать метод конечных разностей. Это метод используется для численного решения дифференциальных уровней.\n",
        "\n",
        "Что такое метод конечных разностей?\n",
        "\n",
        "Определение производной:\n",
        "\n",
        "$$\n",
        "\\frac{\\partial f}{\\partial x} = \\lim_{\\Delta x \\to 0} \\frac{f(x + \\Delta x) - f(x)}{\\Delta x}\n",
        "$$\n",
        "\n",
        "Из этого определения мы уберём предел и получим конечную разность:\n",
        "\n",
        "$$\n",
        "\\frac{\\partial f}{\\partial x} \\approx \\frac{f(x + \\Delta x) - f(x)}{\\Delta x}\n",
        "$$"
      ]
    },
    {
      "cell_type": "markdown",
      "metadata": {
        "id": "Jcbtngvl9i3m"
      },
      "source": [
        "При помощи конечной разности приблизим производную скорости по времени и производную параметров по времени\n",
        "\n",
        "$$\n",
        "  \\frac{\\partial v}{\\partial t} = \\frac{v^{t+1} - v^t}{\\Delta t}\\\\\n",
        "  \\frac{\\partial x}{\\partial t} = \\frac{x^{t+1} - x^t}{\\Delta t}\n",
        "$$\n",
        "\n",
        "Подставим эти приблизительный равенства в исходную систему уравнений, и выразим скорость и координату в следующий момент времени через скорости и координаты в текущий момент времени:\n",
        "\n",
        "$$\n",
        "\\begin{cases}\n",
        "  v^{t+1} = v^t - \\frac{\\Delta t}{m} \\nabla f - \\frac{\\Delta t}{m}\\eta v^t\\\\\n",
        "  w^{t+1} = w^t + v^t \\Delta t\n",
        "\\end{cases}\n",
        "$$\n",
        "\n",
        "При условии, что $[\\Delta t = \\alpha]$, $[\\frac{\\Delta t}{m} = 1]$, $[(1 - \\eta \\frac{\\Delta t}{m}) = \\beta]$:\n",
        "\n",
        "\\begin{cases}\n",
        "  w^{t+1} = w^t + \\alpha v^t\\\\\n",
        "  v^{t+1} = v^t \\beta - \\nabla f\n",
        "\\end{cases}\n",
        "\n",
        "Эта формула градиентно спуска описывает алгоритм стохастического градиентного спуска с импульсом.\n",
        "\n",
        "есть два параметра:\n",
        "\n",
        "$\\alpha$ - скорость обучения\n",
        "\n",
        "$\\beta$ - коэффициент импульса"
      ]
    },
    {
      "cell_type": "markdown",
      "metadata": {
        "id": "isnbxZ-kBZzI"
      },
      "source": [
        "### Стохастический градиентный спуск с заглядыванием вперёд"
      ]
    },
    {
      "cell_type": "markdown",
      "metadata": {
        "id": "vdgaZaudDQ7H"
      },
      "source": [
        "Есть ещё один алгоритм, который похож на стохастический градиентный спуск с моментом.\n",
        "\n",
        "$$\n",
        "w^{t+1} = w^t - \\alpha EMA(\\nabla f)^t\n",
        "$$\n",
        "\n",
        "EMA - экспоненциальное скользящее среднее.\n",
        "\n",
        "$$\n",
        "EMA_{\\beta}(f)^t = (1 - \\beta) f^t + \\beta * EMA_{\\beta}(f)^{t-1}\n",
        "$$\n",
        "\n",
        " Раньше усреднение происходило в параметре скорости, а теперь усреднение происходит в экспоненциальном скользящем среднем.Схожи с стохастическим градиентным спуском с импульсом"
      ]
    },
    {
      "cell_type": "markdown",
      "metadata": {
        "id": "rx3Dt-zsFDut"
      },
      "source": [
        "### RPROP Resilent Propogation – упругое распространение"
      ]
    },
    {
      "cell_type": "markdown",
      "metadata": {
        "id": "f3VZ4DDNFfFu"
      },
      "source": [
        "\n",
        "\n",
        "\n",
        "\n",
        "$$\n",
        "w_i^{t+1} = w_i^t - \\alpha_i^t sign(\\nabla f_i(w_t))\n",
        "$$\n",
        "\n",
        "Скорости обучения для каждого из параметров тоже изменяются.\n",
        "\n",
        "$$\n",
        "\\begin{equation*}\n",
        "  \\alpha_i^{t+1} =\n",
        "  \\begin{cases}\n",
        "    \\alpha^t * 1.2, & \\text{if } sign(\\nabla f_i(w_t) * \\nabla f_i (w_      {t-1})) > 0 \\\\\n",
        "    \\alpha^t * 0.6, & \\text{if } sign(\\nabla f_i(w_t) * \\nabla f_i (w_{t-1})) \\leq 0\n",
        "  \\end{cases}\n",
        "\\end{equation*}\n",
        "$$\n",
        "\n",
        "rprop - метод, учитывающий не градиент, а знак градиента\n",
        "\n",
        "Минус:\n",
        "\n",
        " этот метод плохо работает с батчами. Оптимизацию приходится проводить для каждого отдельного элемента."
      ]
    },
    {
      "cell_type": "markdown",
      "metadata": {
        "id": "buCyM90MJRrN"
      },
      "source": [
        "### RMSprop"
      ]
    },
    {
      "cell_type": "markdown",
      "metadata": {
        "id": "1H5Qn3QEJl7m"
      },
      "source": [
        "$$\n",
        "w^{t+1} = w_t - alpha \\frac{\\nabla f(w^t}{\\sqrt{EMA_i(\\nabla f^2)^t}}\n",
        "$$\n",
        "\n",
        "$$\n",
        "\\begin{equation*}\n",
        "  \\nabla f^2 =\n",
        "  \\begin{bmatrix}\n",
        "    \\frac{\\partial f^2}{\\partial w_0}\\\\\n",
        "    \\frac{\\partial f^2}{\\partial w_1}\\\\\n",
        "    \\vdots\\\\\n",
        "    \\frac{\\partial f^2}{\\partial w_n}\n",
        "  \\end{bmatrix}\n",
        "\\end{equation*}\n",
        "$$\n",
        "\n",
        "Подстраивается функция обучения под каждый из параметров.\n",
        "\n",
        "Преимущества алгоритма RMSprop заключаются в том, что если вдоль некоторого параметра у нас производная слишком большая, это означает что функция потерь слишком быстро изменяется, и это означает, что нужно делать шаги поменьше.\n",
        "\n",
        "Обычно наши шаги вдоль любого параметра должны быть размера $\\alpha$\n",
        "\n",
        " RMSprop берёт некоторый параметр и изменяет на значение $\\alpha$ в направлении обратно направлению производной функции потерь по этому параметру."
      ]
    },
    {
      "cell_type": "markdown",
      "metadata": {
        "id": "xkmfRqD_LjfY"
      },
      "source": [
        "### Adam"
      ]
    },
    {
      "cell_type": "markdown",
      "metadata": {
        "id": "bnL5pI09L3oX"
      },
      "source": [
        "$$\n",
        "w^{t+1} = w^t - \\alpha \\frac{EMA_{\\beta_1}(\\nabla f)^t}{\\sqrt{EMA_{\\beta_2}(\\nabla f^2)^t} + \\epsilon}\n",
        "$$\n",
        "\n",
        "Этот метод оптимизации объединяет положительные качества как стохастического градиентного спуска с импульсом, так и метода RMSprop.\n",
        "\n",
        "Это очень распространённый на сегодняшний день метод оптимизации нейронных сетей.\n",
        "\n",
        "не нужно подбирать параметры\n",
        "\n",
        "Оптимальные параметры:\n",
        "\n",
        "$$\n",
        "\\alpha = 3*10^{-4}\\\\\n",
        "\\beta_1 = 0.9\\\\\n",
        "\\beta_2 = 0.999\n",
        "$$\n",
        "\n",
        "Если нужна очень-очень круто оптимизированная сеть, то берут стохастический градиентный спуск, и уже для него следует подбирать lerning rate для того, чтобы он хорошо все решал."
      ]
    },
    {
      "cell_type": "markdown",
      "source": [
        "## Классификация рукописных чисел полносвязанной сетью"
      ],
      "metadata": {
        "id": "vNQJTB9mgjfW"
      }
    },
    {
      "cell_type": "code",
      "source": [
        "import torch\n",
        "import random\n",
        "import numpy as np\n",
        "\n",
        "random.seed(0)\n",
        "np.random.seed(0)\n",
        "torch.manual_seed(0)\n",
        "torch.cuda.manual_seed(0)\n",
        "torch.backends.cudnn.deterministic = True"
      ],
      "metadata": {
        "id": "mKRtvn2dms7s"
      },
      "execution_count": 35,
      "outputs": []
    },
    {
      "cell_type": "code",
      "source": [
        "import torchvision.datasets\n",
        "MNIST_train = torchvision.datasets.MNIST('./', download=True, train=True)\n",
        "MNIST_test = torchvision.datasets.MNIST('./', download=True, train=False)"
      ],
      "metadata": {
        "id": "pvYz5-DsnkJn",
        "colab": {
          "base_uri": "https://localhost:8080/"
        },
        "outputId": "2d4f26ca-710e-408c-af4a-5680f02dbb04"
      },
      "execution_count": 36,
      "outputs": [
        {
          "output_type": "stream",
          "name": "stdout",
          "text": [
            "Downloading http://yann.lecun.com/exdb/mnist/train-images-idx3-ubyte.gz\n",
            "Downloading http://yann.lecun.com/exdb/mnist/train-images-idx3-ubyte.gz to ./MNIST/raw/train-images-idx3-ubyte.gz\n"
          ]
        },
        {
          "output_type": "stream",
          "name": "stderr",
          "text": [
            "100%|██████████| 9912422/9912422 [00:00<00:00, 104768256.94it/s]\n"
          ]
        },
        {
          "output_type": "stream",
          "name": "stdout",
          "text": [
            "Extracting ./MNIST/raw/train-images-idx3-ubyte.gz to ./MNIST/raw\n",
            "\n",
            "Downloading http://yann.lecun.com/exdb/mnist/train-labels-idx1-ubyte.gz\n",
            "Downloading http://yann.lecun.com/exdb/mnist/train-labels-idx1-ubyte.gz to ./MNIST/raw/train-labels-idx1-ubyte.gz\n"
          ]
        },
        {
          "output_type": "stream",
          "name": "stderr",
          "text": [
            "100%|██████████| 28881/28881 [00:00<00:00, 23069071.38it/s]\n"
          ]
        },
        {
          "output_type": "stream",
          "name": "stdout",
          "text": [
            "Extracting ./MNIST/raw/train-labels-idx1-ubyte.gz to ./MNIST/raw\n",
            "\n",
            "Downloading http://yann.lecun.com/exdb/mnist/t10k-images-idx3-ubyte.gz\n",
            "Downloading http://yann.lecun.com/exdb/mnist/t10k-images-idx3-ubyte.gz to ./MNIST/raw/t10k-images-idx3-ubyte.gz\n"
          ]
        },
        {
          "output_type": "stream",
          "name": "stderr",
          "text": [
            "100%|██████████| 1648877/1648877 [00:00<00:00, 27893182.26it/s]\n"
          ]
        },
        {
          "output_type": "stream",
          "name": "stdout",
          "text": [
            "Extracting ./MNIST/raw/t10k-images-idx3-ubyte.gz to ./MNIST/raw\n",
            "\n",
            "Downloading http://yann.lecun.com/exdb/mnist/t10k-labels-idx1-ubyte.gz\n",
            "Downloading http://yann.lecun.com/exdb/mnist/t10k-labels-idx1-ubyte.gz to ./MNIST/raw/t10k-labels-idx1-ubyte.gz\n"
          ]
        },
        {
          "output_type": "stream",
          "name": "stderr",
          "text": [
            "100%|██████████| 4542/4542 [00:00<00:00, 4827807.59it/s]\n"
          ]
        },
        {
          "output_type": "stream",
          "name": "stdout",
          "text": [
            "Extracting ./MNIST/raw/t10k-labels-idx1-ubyte.gz to ./MNIST/raw\n",
            "\n"
          ]
        }
      ]
    },
    {
      "cell_type": "code",
      "source": [
        "X_train = MNIST_train.train_data\n",
        "y_train = MNIST_train.train_labels\n",
        "X_test = MNIST_test.test_data\n",
        "y_test = MNIST_test.test_labels"
      ],
      "metadata": {
        "id": "OL3pWr5xppGI",
        "colab": {
          "base_uri": "https://localhost:8080/"
        },
        "outputId": "f3ec83be-77d3-4a81-f177-b0c2c35d357f"
      },
      "execution_count": 37,
      "outputs": [
        {
          "output_type": "stream",
          "name": "stderr",
          "text": [
            "/usr/local/lib/python3.10/dist-packages/torchvision/datasets/mnist.py:75: UserWarning: train_data has been renamed data\n",
            "  warnings.warn(\"train_data has been renamed data\")\n",
            "/usr/local/lib/python3.10/dist-packages/torchvision/datasets/mnist.py:65: UserWarning: train_labels has been renamed targets\n",
            "  warnings.warn(\"train_labels has been renamed targets\")\n",
            "/usr/local/lib/python3.10/dist-packages/torchvision/datasets/mnist.py:80: UserWarning: test_data has been renamed data\n",
            "  warnings.warn(\"test_data has been renamed data\")\n",
            "/usr/local/lib/python3.10/dist-packages/torchvision/datasets/mnist.py:70: UserWarning: test_labels has been renamed targets\n",
            "  warnings.warn(\"test_labels has been renamed targets\")\n"
          ]
        }
      ]
    },
    {
      "cell_type": "code",
      "source": [
        "X_train.dtype, y_train.dtype"
      ],
      "metadata": {
        "id": "BwHRHZaZq9ny",
        "colab": {
          "base_uri": "https://localhost:8080/"
        },
        "outputId": "a5ecc804-b07f-448f-9388-b817109cc403"
      },
      "execution_count": 38,
      "outputs": [
        {
          "output_type": "execute_result",
          "data": {
            "text/plain": [
              "(torch.uint8, torch.int64)"
            ]
          },
          "metadata": {},
          "execution_count": 38
        }
      ]
    },
    {
      "cell_type": "code",
      "source": [
        "X_train = X_train.float()\n",
        "X_test = X_test.float()"
      ],
      "metadata": {
        "id": "c_yx5-U3rHkk"
      },
      "execution_count": 39,
      "outputs": []
    },
    {
      "cell_type": "code",
      "source": [
        "X_train.shape, X_test.shape#многомерный тензор"
      ],
      "metadata": {
        "id": "4mX-MKh73_1d",
        "colab": {
          "base_uri": "https://localhost:8080/"
        },
        "outputId": "423d2087-e1eb-4ded-869f-ae7f8476a17b"
      },
      "execution_count": 40,
      "outputs": [
        {
          "output_type": "execute_result",
          "data": {
            "text/plain": [
              "(torch.Size([60000, 28, 28]), torch.Size([10000, 28, 28]))"
            ]
          },
          "metadata": {},
          "execution_count": 40
        }
      ]
    },
    {
      "cell_type": "code",
      "source": [
        "y_train.shape, y_test.shape#одномерный тензор"
      ],
      "metadata": {
        "id": "Ikyufwm54ZuV",
        "colab": {
          "base_uri": "https://localhost:8080/"
        },
        "outputId": "6532b002-c03d-4525-c8c6-c33dff99f819"
      },
      "execution_count": 41,
      "outputs": [
        {
          "output_type": "execute_result",
          "data": {
            "text/plain": [
              "(torch.Size([60000]), torch.Size([10000]))"
            ]
          },
          "metadata": {},
          "execution_count": 41
        }
      ]
    },
    {
      "cell_type": "code",
      "source": [
        "import matplotlib.pyplot as plt\n",
        "plt.imshow(X_train[6, :, :])\n",
        "print(y_train[6])"
      ],
      "metadata": {
        "id": "0-Y9wMFz48At",
        "colab": {
          "base_uri": "https://localhost:8080/",
          "height": 693
        },
        "outputId": "516a1882-50a1-4727-d19e-6044d4525420"
      },
      "execution_count": 42,
      "outputs": [
        {
          "output_type": "stream",
          "name": "stdout",
          "text": [
            "tensor(1)\n"
          ]
        },
        {
          "output_type": "display_data",
          "data": {
            "text/plain": [
              "<Figure size 800x800 with 1 Axes>"
            ],
            "image/png": "[encoded data removed]"
          },
          "metadata": {}
        }
      ]
    },
    {
      "cell_type": "code",
      "source": [
        "#каждая картинка описывается двумерным тензором\n",
        "#мы раятягиваем в один вектор\n",
        "X_train = X_train.reshape([-1, 28*28])# -1 - число элементов неизменно\n",
        "X_test = X_test.reshape([-1, 28*28])#28*28 размерность по второму измерению"
      ],
      "metadata": {
        "id": "ludRJXjm55Jf"
      },
      "execution_count": 43,
      "outputs": []
    },
    {
      "cell_type": "code",
      "source": [
        "class MNISTNet(torch.nn.Module):\n",
        "  def __init__(self, n_hidden_neurons):\n",
        "    super(MNISTNet, self).__init__()\n",
        "    self.fc1 = torch.nn.Linear(28*28, n_hidden_neurons)\n",
        "    self.act1 = torch.nn.Sigmoid()\n",
        "    self.fc2 = torch.nn.Linear(n_hidden_neurons, 10)#у нас 10 клаасов\n",
        "\n",
        "  def forward(self, x):\n",
        "    x = self.fc1(x)\n",
        "    x = self.act1(x)\n",
        "    x = self.fc2(x)\n",
        "    return x\n",
        "\n",
        "\n",
        "mnist_net = MNISTNet(100)"
      ],
      "metadata": {
        "id": "s7kYHciN6mzm"
      },
      "execution_count": 44,
      "outputs": []
    },
    {
      "cell_type": "code",
      "source": [
        "torch.cuda.is_available()"
      ],
      "metadata": {
        "id": "HWKw_zEbUYKv",
        "colab": {
          "base_uri": "https://localhost:8080/"
        },
        "outputId": "d799ad82-c487-4e0f-878e-230b14c629c9"
      },
      "execution_count": 45,
      "outputs": [
        {
          "output_type": "execute_result",
          "data": {
            "text/plain": [
              "True"
            ]
          },
          "metadata": {},
          "execution_count": 45
        }
      ]
    },
    {
      "cell_type": "code",
      "source": [
        "!nvidia- #нагрузка видеокарты сейчас"
      ],
      "metadata": {
        "id": "07Fkg5mQVNTy",
        "colab": {
          "base_uri": "https://localhost:8080/"
        },
        "outputId": "d89fe331-d00a-484b-c25f-1e4b74efce7c"
      },
      "execution_count": 46,
      "outputs": [
        {
          "output_type": "stream",
          "name": "stdout",
          "text": [
            "/bin/bash: nvidia-: command not found\n"
          ]
        }
      ]
    },
    {
      "cell_type": "code",
      "source": [
        "device = torch.device('cuda:0' if torch.cuda.is_available()else 'cpu')\n",
        "mnist_net = mnist_net.to(device)\n",
        "list(mnist_net.parameters());"
      ],
      "metadata": {
        "id": "nWQnvsuzVxrf"
      },
      "execution_count": 47,
      "outputs": []
    },
    {
      "cell_type": "code",
      "source": [
        "loss = torch.nn.CrossEntropyLoss()\n",
        "optimizer = torch.optim.Adam(mnist_net.parameters(), lr=0.002)"
      ],
      "metadata": {
        "id": "F-5ULJYnEzN6"
      },
      "execution_count": 48,
      "outputs": []
    },
    {
      "cell_type": "code",
      "source": [
        "batch_size = 100\n",
        "\n",
        "test_accuracy_history = []\n",
        "test_loss_history = []\n",
        "\n",
        "X_test = X_test.to(device)\n",
        "y_test = y_test.to(device)\n",
        "for epoch in range(100):\n",
        "  order = np.random.permutation(len(X_train))\n",
        "\n",
        "  for start_index in range(0, len(X_train), batch_size):\n",
        "    optimizer.zero_grad()\n",
        "\n",
        "    batch_indexes = order[start_index:start_index + batch_size]\n",
        "\n",
        "    X_batch = X_train[batch_indexes].to(device)\n",
        "    y_batch = y_train[batch_indexes].to(device)\n",
        "\n",
        "    preds = mnist_net.forward(X_batch)\n",
        "\n",
        "    loss_value = loss(preds, y_batch)\n",
        "    loss_value.backward()\n",
        "\n",
        "    optimizer.step()\n",
        "\n",
        "  test_preds = mnist_net.forward(X_test)\n",
        "  test_loss_history.append(loss(test_preds, y_test).cpu())\n",
        "\n",
        "  accuracy = (test_preds.argmax(dim=1) == y_test).float().mean().cpu()\n",
        "  test_accuracy_history.append(accuracy.data)\n",
        "\n",
        "  print(epoch, 'epoch',accuracy)\n"
      ],
      "metadata": {
        "id": "YZiuLBNaJrDa",
        "colab": {
          "base_uri": "https://localhost:8080/"
        },
        "outputId": "95ef722f-ce5f-4704-c9ed-7b22503b1aa5"
      },
      "execution_count": 49,
      "outputs": [
        {
          "output_type": "stream",
          "name": "stdout",
          "text": [
            "0 epoch tensor(0.8954)\n",
            "1 epoch tensor(0.8986)\n",
            "2 epoch tensor(0.9031)\n",
            "3 epoch tensor(0.9016)\n",
            "4 epoch tensor(0.9036)\n",
            "5 epoch tensor(0.9026)\n",
            "6 epoch tensor(0.9086)\n",
            "7 epoch tensor(0.9126)\n",
            "8 epoch tensor(0.9091)\n",
            "9 epoch tensor(0.9114)\n",
            "10 epoch tensor(0.9115)\n",
            "11 epoch tensor(0.9192)\n",
            "12 epoch tensor(0.9234)\n",
            "13 epoch tensor(0.9209)\n",
            "14 epoch tensor(0.9201)\n",
            "15 epoch tensor(0.9174)\n",
            "16 epoch tensor(0.9164)\n",
            "17 epoch tensor(0.9219)\n",
            "18 epoch tensor(0.9323)\n",
            "19 epoch tensor(0.9304)\n",
            "20 epoch tensor(0.9300)\n",
            "21 epoch tensor(0.9287)\n",
            "22 epoch tensor(0.9264)\n",
            "23 epoch tensor(0.9288)\n",
            "24 epoch tensor(0.9277)\n",
            "25 epoch tensor(0.9268)\n",
            "26 epoch tensor(0.9303)\n",
            "27 epoch tensor(0.9310)\n",
            "28 epoch tensor(0.9357)\n",
            "29 epoch tensor(0.9337)\n",
            "30 epoch tensor(0.9305)\n",
            "31 epoch tensor(0.9317)\n",
            "32 epoch tensor(0.9311)\n",
            "33 epoch tensor(0.9330)\n",
            "34 epoch tensor(0.9356)\n",
            "35 epoch tensor(0.9278)\n",
            "36 epoch tensor(0.9307)\n",
            "37 epoch tensor(0.9323)\n",
            "38 epoch tensor(0.9328)\n",
            "39 epoch tensor(0.9358)\n",
            "40 epoch tensor(0.9343)\n",
            "41 epoch tensor(0.9343)\n",
            "42 epoch tensor(0.9370)\n",
            "43 epoch tensor(0.9329)\n",
            "44 epoch tensor(0.9407)\n",
            "45 epoch tensor(0.9386)\n",
            "46 epoch tensor(0.9409)\n",
            "47 epoch tensor(0.9407)\n",
            "48 epoch tensor(0.9398)\n",
            "49 epoch tensor(0.9353)\n",
            "50 epoch tensor(0.9411)\n",
            "51 epoch tensor(0.9415)\n",
            "52 epoch tensor(0.9423)\n",
            "53 epoch tensor(0.9416)\n",
            "54 epoch tensor(0.9409)\n",
            "55 epoch tensor(0.9371)\n",
            "56 epoch tensor(0.9432)\n",
            "57 epoch tensor(0.9421)\n",
            "58 epoch tensor(0.9427)\n",
            "59 epoch tensor(0.9375)\n",
            "60 epoch tensor(0.9440)\n",
            "61 epoch tensor(0.9410)\n",
            "62 epoch tensor(0.9439)\n",
            "63 epoch tensor(0.9440)\n",
            "64 epoch tensor(0.9468)\n",
            "65 epoch tensor(0.9457)\n",
            "66 epoch tensor(0.9443)\n",
            "67 epoch tensor(0.9454)\n",
            "68 epoch tensor(0.9423)\n",
            "69 epoch tensor(0.9445)\n",
            "70 epoch tensor(0.9427)\n",
            "71 epoch tensor(0.9448)\n",
            "72 epoch tensor(0.9434)\n",
            "73 epoch tensor(0.9432)\n",
            "74 epoch tensor(0.9450)\n",
            "75 epoch tensor(0.9471)\n",
            "76 epoch tensor(0.9433)\n",
            "77 epoch tensor(0.9453)\n",
            "78 epoch tensor(0.9438)\n",
            "79 epoch tensor(0.9454)\n",
            "80 epoch tensor(0.9493)\n",
            "81 epoch tensor(0.9471)\n",
            "82 epoch tensor(0.9474)\n",
            "83 epoch tensor(0.9478)\n",
            "84 epoch tensor(0.9471)\n",
            "85 epoch tensor(0.9497)\n",
            "86 epoch tensor(0.9479)\n",
            "87 epoch tensor(0.9436)\n",
            "88 epoch tensor(0.9482)\n",
            "89 epoch tensor(0.9474)\n",
            "90 epoch tensor(0.9501)\n",
            "91 epoch tensor(0.9446)\n",
            "92 epoch tensor(0.9415)\n",
            "93 epoch tensor(0.9452)\n",
            "94 epoch tensor(0.9439)\n",
            "95 epoch tensor(0.9514)\n",
            "96 epoch tensor(0.9493)\n",
            "97 epoch tensor(0.9497)\n",
            "98 epoch tensor(0.9457)\n",
            "99 epoch tensor(0.9505)\n"
          ]
        }
      ]
    },
    {
      "cell_type": "code",
      "source": [
        "import matplotlib\n",
        "plt.plot(test_accuracy_history, c='red', label = 'accuracy')\n",
        "test_loss_history = [i.data for i in test_loss_history]\n",
        "\n",
        "plt.xlabel('Epoch')\n",
        "plt.ylabel('Value')\n",
        "plt.title('Accuracy')\n"
      ],
      "metadata": {
        "id": "t568eUaparkw",
        "colab": {
          "base_uri": "https://localhost:8080/",
          "height": 726
        },
        "outputId": "a455efaa-7ba7-4c9c-bc99-3047f44c2b8b"
      },
      "execution_count": 50,
      "outputs": [
        {
          "output_type": "execute_result",
          "data": {
            "text/plain": [
              "Text(0.5, 1.0, 'Accuracy')"
            ]
          },
          "metadata": {},
          "execution_count": 50
        },
        {
          "output_type": "display_data",
          "data": {
            "text/plain": [
              "<Figure size 800x800 with 1 Axes>"
            ],
            "image/png": "[encoded data removed]"
          },
          "metadata": {}
        }
      ]
    },
    {
      "cell_type": "code",
      "source": [
        "plt.plot(test_loss_history, c = 'green', label = 'loss')\n",
        "plt.legend(loc = 'lower right')\n",
        "plt.xlabel('Epoch')\n",
        "plt.ylabel('Value')\n",
        "plt.title('Loss')"
      ],
      "metadata": {
        "id": "oRfjS-r8HKW5",
        "colab": {
          "base_uri": "https://localhost:8080/",
          "height": 727
        },
        "outputId": "96617630-70e8-4737-d829-c2081c846bf7"
      },
      "execution_count": 51,
      "outputs": [
        {
          "output_type": "execute_result",
          "data": {
            "text/plain": [
              "Text(0.5, 1.0, 'Loss')"
            ]
          },
          "metadata": {},
          "execution_count": 51
        },
        {
          "output_type": "display_data",
          "data": {
            "text/plain": [
              "<Figure size 800x800 with 1 Axes>"
            ],
            "image/png": "[encoded data removed]"
          },
          "metadata": {}
        }
      ]
    },
    {
      "cell_type": "code",
      "source": [
        "import torch\n",
        "\n",
        "from torch import nn\n",
        "\n",
        "conv = nn.Conv2d(1,1,kernel_size=3, padding=1, stride=2, bias=False)\n",
        "\n",
        "X = torch.FloatTensor([[[\n",
        "\n",
        "    [4, 2, -1],\n",
        "\n",
        "    [-6, 0, 5],\n",
        "\n",
        "    [3, 2, 2]]]])\n",
        "\n",
        "conv.weight.data = torch.FloatTensor([[[\n",
        "\n",
        "    [0, 1, 2],\n",
        "\n",
        "    [1, -1, 0],\n",
        "\n",
        "    [1, 0, -2]]]])\n",
        "\n",
        "res = conv(X).data[0,0]\n",
        "\n",
        "print(res)"
      ],
      "metadata": {
        "id": "rCEHJLZKSUPF",
        "colab": {
          "base_uri": "https://localhost:8080/"
        },
        "outputId": "8e413154-8d38-4289-cad3-1a4289196067"
      },
      "execution_count": 52,
      "outputs": [
        {
          "output_type": "stream",
          "name": "stdout",
          "text": [
            "tensor([[-4.,  3.],\n",
            "        [-9.,  5.]])\n"
          ]
        }
      ]
    }
  ],
  "metadata": {
    "colab": {
      "collapsed_sections": [
        "DMGXo9RaLBNX"
      ],
      "provenance": [],
      "gpuType": "T4",
      "authorship_tag": "ABX9TyNL2rXiQyyiqr6JwScR6fKI",
      "include_colab_link": true
    },
    "kernelspec": {
      "display_name": "Python 3",
      "name": "python3"
    },
    "language_info": {
      "name": "python"
    },
    "accelerator": "GPU"
  },
  "nbformat": 4,
  "nbformat_minor": 0
}