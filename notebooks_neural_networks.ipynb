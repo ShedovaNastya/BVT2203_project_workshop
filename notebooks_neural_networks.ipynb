{
  "nbformat": 4,
  "nbformat_minor": 0,
  "metadata": {
    "colab": {
      "provenance": [],
      "gpuType": "T4",
      "collapsed_sections": [
        "DMGXo9RaLBNX"
      ],
      "authorship_tag": "ABX9TyOXU4wOI3t7xxVLjVsHI4pl",
      "include_colab_link": true
    },
    "kernelspec": {
      "name": "python3",
      "display_name": "Python 3"
    },
    "language_info": {
      "name": "python"
    }
  },
  "cells": [
    {
      "cell_type": "markdown",
      "metadata": {
        "id": "view-in-github",
        "colab_type": "text"
      },
      "source": [
        "<a href=\"https://colab.research.google.com/github/ShedovaNastya/BVT2203_project_workshop/blob/main/notebooks_neural_networks.ipynb\" target=\"_parent\"><img src=\"https://colab.research.google.com/assets/colab-badge.svg\" alt=\"Open In Colab\"/></a>"
      ]
    },
    {
      "cell_type": "markdown",
      "source": [
        "# Нейрон и нейронная сеть"
      ],
      "metadata": {
        "id": "5wJPIWyJWzJY"
      }
    },
    {
      "cell_type": "markdown",
      "source": [
        "На вход нейрона подаются сигналы $ x_1, x_2 ... x_n $\n",
        "\n",
        "Эти параметры умножаются на веса $ w_1, w_2 ... w_n $\n",
        "\n",
        "Далее они передаются в нейрон, в котором также есть параметр смещения b и получается сумма: $$ z = x_1*w_1 + x_2*w_2 + ... + x_n*w_n + b$$ Результат попадает в функцию активации $$ y=f(z)=f(x_1*w_1 + x_2*w_2 + ... + x_n*w_n + b)$$\n",
        "\n",
        "Веса и смещения настриваемые параметры\n",
        "\n",
        "Также можно записать по-другому: $$ y = f(\\sum_{i=0}^{N-1} w_i*x_i + b)$$ Запись через скалярное произведение: $$y = f(<\\overrightarrow{w} \\overrightarrow{x}> + b)$$ Функция активации - пороговая. Нейрон дает сигнал, только когда накапливается заряд.\n",
        "\n",
        "\\begin{equation*}\n",
        "f(z) =\n",
        " \\begin{cases}\n",
        "   0 &\\text{if z $\\leq 0$}\\\\\n",
        "   1&\\text{if z $>0$}\n",
        " \\end{cases}\n",
        "\\end{equation*}\n",
        "Место, где функция будет менять своё значение с нуля на единицу - разделяющая поверхность.\n",
        "Разделяющая поверхность находится там, где аргумент функции равен нулю.\n",
        "\n",
        "Она задаётся вектором $\\overrightarrow{w}$ и смещением b, также она является подмножеством пространства векторов\n",
        "\n",
        "Пороговая функция активации всегда будет равна 1 с той стороны от разделяющей прямой, в которую указывает $\\overrightarrow{w}$\n",
        "\n",
        "\n",
        "Уравнение задает гиперплоскость (прямую, плоскость, N-мерную плоскость)\n",
        "\n",
        "$\\overrightarrow{w}$ является нормалью к гиперплоскости, которая задана этим уравнением\n",
        "\n",
        "Сигмоида $$\\sigma(x) = \\frac{1}{1+e^{-x}}$$\n",
        "\n",
        "\n",
        "Анализ функции:\n",
        "\n",
        "\\begin{equation*}\n",
        " \\begin{cases}\n",
        "   x \\rightarrow \\infty: \\sigma(x) \\rightarrow 1\\\\\n",
        "   x \\rightarrow -\\infty: \\sigma(x) \\rightarrow 0\\\\\n",
        "   0 < \\sigma(x) < 1\n",
        " \\end{cases}\n",
        "\\end{equation*}"
      ],
      "metadata": {
        "id": "hhJojL8LYFmN"
      }
    },
    {
      "cell_type": "markdown",
      "source": [
        "# Базовая работа в PyTorch"
      ],
      "metadata": {
        "id": "AG6LaHQmOCyH"
      }
    },
    {
      "cell_type": "code",
      "execution_count": 2,
      "metadata": {
        "colab": {
          "base_uri": "https://localhost:8080/"
        },
        "id": "JfLc1koL6ION",
        "outputId": "a677f491-694f-4988-d769-92490b00ca44"
      },
      "outputs": [
        {
          "output_type": "stream",
          "name": "stdout",
          "text": [
            "Requirement already satisfied: torch in /usr/local/lib/python3.10/dist-packages (2.0.1+cu118)\n",
            "Requirement already satisfied: filelock in /usr/local/lib/python3.10/dist-packages (from torch) (3.12.2)\n",
            "Requirement already satisfied: typing-extensions in /usr/local/lib/python3.10/dist-packages (from torch) (4.6.3)\n",
            "Requirement already satisfied: sympy in /usr/local/lib/python3.10/dist-packages (from torch) (1.11.1)\n",
            "Requirement already satisfied: networkx in /usr/local/lib/python3.10/dist-packages (from torch) (3.1)\n",
            "Requirement already satisfied: jinja2 in /usr/local/lib/python3.10/dist-packages (from torch) (3.1.2)\n",
            "Requirement already satisfied: triton==2.0.0 in /usr/local/lib/python3.10/dist-packages (from torch) (2.0.0)\n",
            "Requirement already satisfied: cmake in /usr/local/lib/python3.10/dist-packages (from triton==2.0.0->torch) (3.25.2)\n",
            "Requirement already satisfied: lit in /usr/local/lib/python3.10/dist-packages (from triton==2.0.0->torch) (16.0.6)\n",
            "Requirement already satisfied: MarkupSafe>=2.0 in /usr/local/lib/python3.10/dist-packages (from jinja2->torch) (2.1.3)\n",
            "Requirement already satisfied: mpmath>=0.19 in /usr/local/lib/python3.10/dist-packages (from sympy->torch) (1.3.0)\n"
          ]
        }
      ],
      "source": [
        "!pip install torch"
      ]
    },
    {
      "cell_type": "code",
      "source": [
        "import torch"
      ],
      "metadata": {
        "id": "R4XnidQU6qlO"
      },
      "execution_count": 3,
      "outputs": []
    },
    {
      "cell_type": "code",
      "source": [
        "torch.zeros([3,4])"
      ],
      "metadata": {
        "colab": {
          "base_uri": "https://localhost:8080/"
        },
        "id": "lC3heNb47vaQ",
        "outputId": "dbfaec3f-4032-4fc8-db35-4da9bd587c73"
      },
      "execution_count": 4,
      "outputs": [
        {
          "output_type": "execute_result",
          "data": {
            "text/plain": [
              "tensor([[0., 0., 0., 0.],\n",
              "        [0., 0., 0., 0.],\n",
              "        [0., 0., 0., 0.]])"
            ]
          },
          "metadata": {},
          "execution_count": 4
        }
      ]
    },
    {
      "cell_type": "code",
      "source": [
        "torch.ones([3,4,5])"
      ],
      "metadata": {
        "colab": {
          "base_uri": "https://localhost:8080/"
        },
        "id": "qyKntUTO77WI",
        "outputId": "0baccfb6-644e-4681-f8ff-df0c805d690a"
      },
      "execution_count": 5,
      "outputs": [
        {
          "output_type": "execute_result",
          "data": {
            "text/plain": [
              "tensor([[[1., 1., 1., 1., 1.],\n",
              "         [1., 1., 1., 1., 1.],\n",
              "         [1., 1., 1., 1., 1.],\n",
              "         [1., 1., 1., 1., 1.]],\n",
              "\n",
              "        [[1., 1., 1., 1., 1.],\n",
              "         [1., 1., 1., 1., 1.],\n",
              "         [1., 1., 1., 1., 1.],\n",
              "         [1., 1., 1., 1., 1.]],\n",
              "\n",
              "        [[1., 1., 1., 1., 1.],\n",
              "         [1., 1., 1., 1., 1.],\n",
              "         [1., 1., 1., 1., 1.],\n",
              "         [1., 1., 1., 1., 1.]]])"
            ]
          },
          "metadata": {},
          "execution_count": 5
        }
      ]
    },
    {
      "cell_type": "code",
      "source": [
        "torch.Tensor([[1, 2, 3, 4],\n",
        "             [5, 6, 7, 8],\n",
        "             [9, 10, 11, 12]])"
      ],
      "metadata": {
        "colab": {
          "base_uri": "https://localhost:8080/"
        },
        "id": "_TjqQcE38Jxc",
        "outputId": "ac71351f-c934-41f3-f2ef-5391944e5540"
      },
      "execution_count": 6,
      "outputs": [
        {
          "output_type": "execute_result",
          "data": {
            "text/plain": [
              "tensor([[ 1.,  2.,  3.,  4.],\n",
              "        [ 5.,  6.,  7.,  8.],\n",
              "        [ 9., 10., 11., 12.]])"
            ]
          },
          "metadata": {},
          "execution_count": 6
        }
      ]
    },
    {
      "cell_type": "code",
      "source": [
        "x = torch.Tensor([[1, 2, 3, 4],\n",
        "                  [5, 6, 7, 8],\n",
        "                  [9, 10, 11, 12]])\n",
        "x"
      ],
      "metadata": {
        "colab": {
          "base_uri": "https://localhost:8080/"
        },
        "id": "O3p9ZrlH-adp",
        "outputId": "f77139bd-3a88-4157-c645-333021383a7c"
      },
      "execution_count": 7,
      "outputs": [
        {
          "output_type": "execute_result",
          "data": {
            "text/plain": [
              "tensor([[ 1.,  2.,  3.,  4.],\n",
              "        [ 5.,  6.,  7.,  8.],\n",
              "        [ 9., 10., 11., 12.]])"
            ]
          },
          "metadata": {},
          "execution_count": 7
        }
      ]
    },
    {
      "cell_type": "code",
      "source": [
        "x.size()#узнаем размер"
      ],
      "metadata": {
        "colab": {
          "base_uri": "https://localhost:8080/"
        },
        "id": "OW9tv438-khD",
        "outputId": "9411939d-28d8-4e01-cc73-380d5a689c39"
      },
      "execution_count": 8,
      "outputs": [
        {
          "output_type": "execute_result",
          "data": {
            "text/plain": [
              "torch.Size([3, 4])"
            ]
          },
          "metadata": {},
          "execution_count": 8
        }
      ]
    },
    {
      "cell_type": "code",
      "source": [
        "x.shape"
      ],
      "metadata": {
        "colab": {
          "base_uri": "https://localhost:8080/"
        },
        "id": "_MT5RuVf_Bgb",
        "outputId": "78b3c9cf-e620-455e-91d6-dba91c936348"
      },
      "execution_count": 9,
      "outputs": [
        {
          "output_type": "execute_result",
          "data": {
            "text/plain": [
              "torch.Size([3, 4])"
            ]
          },
          "metadata": {},
          "execution_count": 9
        }
      ]
    },
    {
      "cell_type": "code",
      "source": [
        "x[0]"
      ],
      "metadata": {
        "colab": {
          "base_uri": "https://localhost:8080/"
        },
        "id": "9vltJ3YR_Bvk",
        "outputId": "754e97cd-3f53-4c27-f8bd-2fe26bc224bc"
      },
      "execution_count": 10,
      "outputs": [
        {
          "output_type": "execute_result",
          "data": {
            "text/plain": [
              "tensor([1., 2., 3., 4.])"
            ]
          },
          "metadata": {},
          "execution_count": 10
        }
      ]
    },
    {
      "cell_type": "code",
      "source": [
        "x[1]"
      ],
      "metadata": {
        "colab": {
          "base_uri": "https://localhost:8080/"
        },
        "id": "NSpT3gA0_bYp",
        "outputId": "36fd76f7-c336-421d-b69d-8acba9367f89"
      },
      "execution_count": 11,
      "outputs": [
        {
          "output_type": "execute_result",
          "data": {
            "text/plain": [
              "tensor([5., 6., 7., 8.])"
            ]
          },
          "metadata": {},
          "execution_count": 11
        }
      ]
    },
    {
      "cell_type": "code",
      "source": [
        "x[0,0]"
      ],
      "metadata": {
        "colab": {
          "base_uri": "https://localhost:8080/"
        },
        "id": "zmf0iqap_bbS",
        "outputId": "6f9dc25d-186b-43ba-c9be-da8ab7b65dc1"
      },
      "execution_count": 12,
      "outputs": [
        {
          "output_type": "execute_result",
          "data": {
            "text/plain": [
              "tensor(1.)"
            ]
          },
          "metadata": {},
          "execution_count": 12
        }
      ]
    },
    {
      "cell_type": "code",
      "source": [
        "x[:,0]"
      ],
      "metadata": {
        "colab": {
          "base_uri": "https://localhost:8080/"
        },
        "id": "mfVyyO_Z_bd-",
        "outputId": "9f52fc34-6188-44f8-d390-600342cca943"
      },
      "execution_count": 13,
      "outputs": [
        {
          "output_type": "execute_result",
          "data": {
            "text/plain": [
              "tensor([1., 5., 9.])"
            ]
          },
          "metadata": {},
          "execution_count": 13
        }
      ]
    },
    {
      "cell_type": "code",
      "source": [
        "x + 10"
      ],
      "metadata": {
        "colab": {
          "base_uri": "https://localhost:8080/"
        },
        "id": "xjb7HyHD_bhC",
        "outputId": "a6fb788c-182e-4a6d-8a1b-87d9f51d9d3b"
      },
      "execution_count": 14,
      "outputs": [
        {
          "output_type": "execute_result",
          "data": {
            "text/plain": [
              "tensor([[11., 12., 13., 14.],\n",
              "        [15., 16., 17., 18.],\n",
              "        [19., 20., 21., 22.]])"
            ]
          },
          "metadata": {},
          "execution_count": 14
        }
      ]
    },
    {
      "cell_type": "code",
      "source": [
        "x ** 2"
      ],
      "metadata": {
        "colab": {
          "base_uri": "https://localhost:8080/"
        },
        "id": "63EVc4Fe_blh",
        "outputId": "f36bb911-1993-442f-f19f-73c4ccef1f2a"
      },
      "execution_count": 15,
      "outputs": [
        {
          "output_type": "execute_result",
          "data": {
            "text/plain": [
              "tensor([[  1.,   4.,   9.,  16.],\n",
              "        [ 25.,  36.,  49.,  64.],\n",
              "        [ 81., 100., 121., 144.]])"
            ]
          },
          "metadata": {},
          "execution_count": 15
        }
      ]
    },
    {
      "cell_type": "code",
      "source": [
        "y = torch.Tensor([[12, 11, 10, 9],\n",
        "                 [8, 7, 6, 5],\n",
        "                 [4, 3, 2, 1]])"
      ],
      "metadata": {
        "id": "jPE1MGhbATza"
      },
      "execution_count": 16,
      "outputs": []
    },
    {
      "cell_type": "code",
      "source": [
        "x + y"
      ],
      "metadata": {
        "colab": {
          "base_uri": "https://localhost:8080/"
        },
        "id": "_viARn1RAT_r",
        "outputId": "c16b8330-e095-4cfb-86cb-7be3b7da5673"
      },
      "execution_count": 17,
      "outputs": [
        {
          "output_type": "execute_result",
          "data": {
            "text/plain": [
              "tensor([[13., 13., 13., 13.],\n",
              "        [13., 13., 13., 13.],\n",
              "        [13., 13., 13., 13.]])"
            ]
          },
          "metadata": {},
          "execution_count": 17
        }
      ]
    },
    {
      "cell_type": "code",
      "source": [
        "x * y"
      ],
      "metadata": {
        "colab": {
          "base_uri": "https://localhost:8080/"
        },
        "id": "vY_JSe6JAUDL",
        "outputId": "bb726a51-66cf-4f19-f6de-f74ced81a835"
      },
      "execution_count": 18,
      "outputs": [
        {
          "output_type": "execute_result",
          "data": {
            "text/plain": [
              "tensor([[12., 22., 30., 36.],\n",
              "        [40., 42., 42., 40.],\n",
              "        [36., 30., 22., 12.]])"
            ]
          },
          "metadata": {},
          "execution_count": 18
        }
      ]
    },
    {
      "cell_type": "code",
      "source": [
        "x % 2"
      ],
      "metadata": {
        "colab": {
          "base_uri": "https://localhost:8080/"
        },
        "id": "nVuGeItwBD5o",
        "outputId": "0fd47fff-a552-4e94-fc27-53934e116d60"
      },
      "execution_count": 19,
      "outputs": [
        {
          "output_type": "execute_result",
          "data": {
            "text/plain": [
              "tensor([[1., 0., 1., 0.],\n",
              "        [1., 0., 1., 0.],\n",
              "        [1., 0., 1., 0.]])"
            ]
          },
          "metadata": {},
          "execution_count": 19
        }
      ]
    },
    {
      "cell_type": "code",
      "source": [
        "x % y"
      ],
      "metadata": {
        "colab": {
          "base_uri": "https://localhost:8080/"
        },
        "id": "NM497ozGBEQZ",
        "outputId": "cc502681-af30-4e57-e4eb-899c1b4929ed"
      },
      "execution_count": 20,
      "outputs": [
        {
          "output_type": "execute_result",
          "data": {
            "text/plain": [
              "tensor([[1., 2., 3., 4.],\n",
              "        [5., 6., 1., 3.],\n",
              "        [1., 1., 1., 0.]])"
            ]
          },
          "metadata": {},
          "execution_count": 20
        }
      ]
    },
    {
      "cell_type": "code",
      "source": [
        "torch.exp(x)#e в степени x"
      ],
      "metadata": {
        "colab": {
          "base_uri": "https://localhost:8080/"
        },
        "id": "vAj8abDNBi9u",
        "outputId": "290d2291-57f6-4d40-bded-d74c78d32b43"
      },
      "execution_count": 21,
      "outputs": [
        {
          "output_type": "execute_result",
          "data": {
            "text/plain": [
              "tensor([[2.7183e+00, 7.3891e+00, 2.0086e+01, 5.4598e+01],\n",
              "        [1.4841e+02, 4.0343e+02, 1.0966e+03, 2.9810e+03],\n",
              "        [8.1031e+03, 2.2026e+04, 5.9874e+04, 1.6275e+05]])"
            ]
          },
          "metadata": {},
          "execution_count": 21
        }
      ]
    },
    {
      "cell_type": "code",
      "source": [
        "torch.log(x)#десятичный логарифм"
      ],
      "metadata": {
        "colab": {
          "base_uri": "https://localhost:8080/"
        },
        "id": "vkIL2HigBjJ7",
        "outputId": "9af07ff3-8859-4ba8-b1d1-8d9c5b228be4"
      },
      "execution_count": 22,
      "outputs": [
        {
          "output_type": "execute_result",
          "data": {
            "text/plain": [
              "tensor([[0.0000, 0.6931, 1.0986, 1.3863],\n",
              "        [1.6094, 1.7918, 1.9459, 2.0794],\n",
              "        [2.1972, 2.3026, 2.3979, 2.4849]])"
            ]
          },
          "metadata": {},
          "execution_count": 22
        }
      ]
    },
    {
      "cell_type": "markdown",
      "source": [
        "## Использование масок"
      ],
      "metadata": {
        "id": "TgYZM3YNMKl1"
      }
    },
    {
      "cell_type": "code",
      "source": [
        "mask = x > 3"
      ],
      "metadata": {
        "id": "gksg5vtkBjMs"
      },
      "execution_count": 23,
      "outputs": []
    },
    {
      "cell_type": "code",
      "source": [
        "x[mask]"
      ],
      "metadata": {
        "colab": {
          "base_uri": "https://localhost:8080/"
        },
        "id": "_YTsY4GNBjQC",
        "outputId": "34512ad9-f0d1-4d7c-a008-c3ead2b4f678"
      },
      "execution_count": 24,
      "outputs": [
        {
          "output_type": "execute_result",
          "data": {
            "text/plain": [
              "tensor([ 4.,  5.,  6.,  7.,  8.,  9., 10., 11., 12.])"
            ]
          },
          "metadata": {},
          "execution_count": 24
        }
      ]
    },
    {
      "cell_type": "code",
      "source": [
        "x[x > 3]"
      ],
      "metadata": {
        "colab": {
          "base_uri": "https://localhost:8080/"
        },
        "id": "ABSRIoPpCPFi",
        "outputId": "fbd16070-6b15-43b7-c4f9-c4b8a2923d00"
      },
      "execution_count": 25,
      "outputs": [
        {
          "output_type": "execute_result",
          "data": {
            "text/plain": [
              "tensor([ 4.,  5.,  6.,  7.,  8.,  9., 10., 11., 12.])"
            ]
          },
          "metadata": {},
          "execution_count": 25
        }
      ]
    },
    {
      "cell_type": "code",
      "source": [
        "x.sum"
      ],
      "metadata": {
        "colab": {
          "base_uri": "https://localhost:8080/"
        },
        "id": "PeYhlmDuCPMz",
        "outputId": "7bd75a68-5fed-4af0-9219-c8de8300cdca"
      },
      "execution_count": 26,
      "outputs": [
        {
          "output_type": "execute_result",
          "data": {
            "text/plain": [
              "<function Tensor.sum>"
            ]
          },
          "metadata": {},
          "execution_count": 26
        }
      ]
    },
    {
      "cell_type": "code",
      "source": [
        "x = torch.tensor([[1, 2, 3], [4, 5, 6], [7, 8, 9]])\n",
        "limit = 3\n",
        "\n",
        "larger_than_limit_sum = x[x > limit].sum()\n",
        "\n",
        "print(larger_than_limit_sum)"
      ],
      "metadata": {
        "colab": {
          "base_uri": "https://localhost:8080/"
        },
        "id": "8Ag7IvL0CPWg",
        "outputId": "2bed19bf-6480-4f2b-9516-dff18655f313"
      },
      "execution_count": 27,
      "outputs": [
        {
          "output_type": "stream",
          "name": "stdout",
          "text": [
            "tensor(39)\n"
          ]
        }
      ]
    },
    {
      "cell_type": "markdown",
      "source": [
        "## Копирование тензоров"
      ],
      "metadata": {
        "id": "DMGXo9RaLBNX"
      }
    },
    {
      "cell_type": "code",
      "source": [
        "y = x\n",
        "y[0, 0] = 999\n",
        "print(x)\n",
        "print(y)#происходит копирование по ссылке, все дублируется впоследствии"
      ],
      "metadata": {
        "colab": {
          "base_uri": "https://localhost:8080/"
        },
        "id": "BcHqAiIiEFh7",
        "outputId": "fa5ce0e0-a6ed-4eb2-f764-a3226886e269"
      },
      "execution_count": 28,
      "outputs": [
        {
          "output_type": "stream",
          "name": "stdout",
          "text": [
            "tensor([[999,   2,   3],\n",
            "        [  4,   5,   6],\n",
            "        [  7,   8,   9]])\n",
            "tensor([[999,   2,   3],\n",
            "        [  4,   5,   6],\n",
            "        [  7,   8,   9]])\n"
          ]
        }
      ]
    },
    {
      "cell_type": "code",
      "source": [
        "x = torch.Tensor([[1, 2, 3, 4],\n",
        "                  [5, 6, 7, 8],\n",
        "                  [9, 10, 11, 12]])"
      ],
      "metadata": {
        "id": "tmvq_PxPEFlh"
      },
      "execution_count": 29,
      "outputs": []
    },
    {
      "cell_type": "code",
      "source": [
        "y = x.clone()#обычное копирование\n",
        "y[0,0] = 999\n",
        "print(x)\n",
        "print(y)"
      ],
      "metadata": {
        "colab": {
          "base_uri": "https://localhost:8080/"
        },
        "id": "a4qfzq7ZEFos",
        "outputId": "f8ca1ba4-2be0-43b7-cfd8-efd6d5e1eb83"
      },
      "execution_count": 30,
      "outputs": [
        {
          "output_type": "stream",
          "name": "stdout",
          "text": [
            "tensor([[ 1.,  2.,  3.,  4.],\n",
            "        [ 5.,  6.,  7.,  8.],\n",
            "        [ 9., 10., 11., 12.]])\n",
            "tensor([[999.,   2.,   3.,   4.],\n",
            "        [  5.,   6.,   7.,   8.],\n",
            "        [  9.,  10.,  11.,  12.]])\n"
          ]
        }
      ]
    },
    {
      "cell_type": "markdown",
      "source": [],
      "metadata": {
        "id": "gYs2PqowLtO-"
      }
    },
    {
      "cell_type": "markdown",
      "source": [
        "## Меняем тип данных и точность"
      ],
      "metadata": {
        "id": "x_QAjbv4Lthr"
      }
    },
    {
      "cell_type": "code",
      "source": [
        "x.dtype"
      ],
      "metadata": {
        "colab": {
          "base_uri": "https://localhost:8080/"
        },
        "id": "KIZZzx70EFr_",
        "outputId": "092bb5b7-0156-469c-9717-e330182c0996"
      },
      "execution_count": 31,
      "outputs": [
        {
          "output_type": "execute_result",
          "data": {
            "text/plain": [
              "torch.float32"
            ]
          },
          "metadata": {},
          "execution_count": 31
        }
      ]
    },
    {
      "cell_type": "code",
      "source": [
        "x = x.double()\n",
        "print(x)\n",
        "x = x.int()\n",
        "print(x)\n",
        "x = x.float()\n",
        "print(x)"
      ],
      "metadata": {
        "colab": {
          "base_uri": "https://localhost:8080/"
        },
        "id": "_8KwJ3e3Im6l",
        "outputId": "21c78392-c6d6-4264-e64c-42486f30be39"
      },
      "execution_count": 32,
      "outputs": [
        {
          "output_type": "stream",
          "name": "stdout",
          "text": [
            "tensor([[ 1.,  2.,  3.,  4.],\n",
            "        [ 5.,  6.,  7.,  8.],\n",
            "        [ 9., 10., 11., 12.]], dtype=torch.float64)\n",
            "tensor([[ 1,  2,  3,  4],\n",
            "        [ 5,  6,  7,  8],\n",
            "        [ 9, 10, 11, 12]], dtype=torch.int32)\n",
            "tensor([[ 1.,  2.,  3.,  4.],\n",
            "        [ 5.,  6.,  7.,  8.],\n",
            "        [ 9., 10., 11., 12.]])\n"
          ]
        }
      ]
    },
    {
      "cell_type": "markdown",
      "source": [
        "## Использование библиотеки numpy"
      ],
      "metadata": {
        "id": "qomsQfJnKttO"
      }
    },
    {
      "cell_type": "code",
      "source": [
        "import numpy as np\n",
        "x = np.arange(12).reshape((3,4))\n",
        "x"
      ],
      "metadata": {
        "colab": {
          "base_uri": "https://localhost:8080/"
        },
        "id": "o0mmlZLvIm98",
        "outputId": "6d0ccc7f-44f4-468a-db40-b680c74081c1"
      },
      "execution_count": 33,
      "outputs": [
        {
          "output_type": "execute_result",
          "data": {
            "text/plain": [
              "array([[ 0,  1,  2,  3],\n",
              "       [ 4,  5,  6,  7],\n",
              "       [ 8,  9, 10, 11]])"
            ]
          },
          "metadata": {},
          "execution_count": 33
        }
      ]
    },
    {
      "cell_type": "code",
      "source": [
        "x = torch.from_numpy(x)\n",
        "x"
      ],
      "metadata": {
        "colab": {
          "base_uri": "https://localhost:8080/"
        },
        "id": "2R7x1tgYInA8",
        "outputId": "f43ed717-075e-466e-9f73-78cd2819cd04"
      },
      "execution_count": 34,
      "outputs": [
        {
          "output_type": "execute_result",
          "data": {
            "text/plain": [
              "tensor([[ 0,  1,  2,  3],\n",
              "        [ 4,  5,  6,  7],\n",
              "        [ 8,  9, 10, 11]])"
            ]
          },
          "metadata": {},
          "execution_count": 34
        }
      ]
    },
    {
      "cell_type": "code",
      "source": [
        "x = x.numpy()\n",
        "x"
      ],
      "metadata": {
        "colab": {
          "base_uri": "https://localhost:8080/"
        },
        "id": "-oClVUfmInEi",
        "outputId": "ea3740f7-ed8e-4e47-cfde-f65c1585f279"
      },
      "execution_count": 35,
      "outputs": [
        {
          "output_type": "execute_result",
          "data": {
            "text/plain": [
              "array([[ 0,  1,  2,  3],\n",
              "       [ 4,  5,  6,  7],\n",
              "       [ 8,  9, 10, 11]])"
            ]
          },
          "metadata": {},
          "execution_count": 35
        }
      ]
    },
    {
      "cell_type": "markdown",
      "source": [
        "## Вычисления на GPU\n"
      ],
      "metadata": {
        "id": "xrIJO4RJKdIJ"
      }
    },
    {
      "cell_type": "code",
      "source": [
        "x = torch.rand([2000, 3000])#создаем массив с рандомными числами\n",
        "x"
      ],
      "metadata": {
        "colab": {
          "base_uri": "https://localhost:8080/"
        },
        "id": "OVwOilWJInHo",
        "outputId": "6717e284-fe3c-4093-c6df-0c03b3220a7b"
      },
      "execution_count": 36,
      "outputs": [
        {
          "output_type": "execute_result",
          "data": {
            "text/plain": [
              "tensor([[0.4711, 0.8883, 0.1994,  ..., 0.8408, 0.5660, 0.5474],\n",
              "        [0.4802, 0.6263, 0.7110,  ..., 0.6089, 0.8244, 0.2072],\n",
              "        [0.9823, 0.0382, 0.8378,  ..., 0.3482, 0.7679, 0.4083],\n",
              "        ...,\n",
              "        [0.4130, 0.0255, 0.4682,  ..., 0.6749, 0.3552, 0.4169],\n",
              "        [0.9902, 0.8600, 0.3665,  ..., 0.1408, 0.1392, 0.8291],\n",
              "        [0.2512, 0.6384, 0.3345,  ..., 0.2654, 0.3456, 0.3502]])"
            ]
          },
          "metadata": {},
          "execution_count": 36
        }
      ]
    },
    {
      "cell_type": "code",
      "source": [
        "torch.cuda.is_available()#проверка наличия куды на компьютере"
      ],
      "metadata": {
        "colab": {
          "base_uri": "https://localhost:8080/"
        },
        "id": "M15YxlISInLw",
        "outputId": "263fd38a-0840-4124-b069-577c75272a1d"
      },
      "execution_count": 37,
      "outputs": [
        {
          "output_type": "execute_result",
          "data": {
            "text/plain": [
              "False"
            ]
          },
          "metadata": {},
          "execution_count": 37
        }
      ]
    },
    {
      "cell_type": "code",
      "source": [
        "torch.device('cuda:0')#девайс, принадлежащий видеокарте(счет начинается с 0)"
      ],
      "metadata": {
        "colab": {
          "base_uri": "https://localhost:8080/"
        },
        "id": "49728MaRInRB",
        "outputId": "a9aeef74-6dbe-46dc-b461-d11b58ba3b15"
      },
      "execution_count": 38,
      "outputs": [
        {
          "output_type": "execute_result",
          "data": {
            "text/plain": [
              "device(type='cuda', index=0)"
            ]
          },
          "metadata": {},
          "execution_count": 38
        }
      ]
    },
    {
      "cell_type": "code",
      "source": [
        "torch.device('cpu')#девайс, принадлежащий процессору"
      ],
      "metadata": {
        "colab": {
          "base_uri": "https://localhost:8080/"
        },
        "id": "m5hDeGReOaWL",
        "outputId": "7f8a9494-126e-47bf-de4f-f8d50743e75b"
      },
      "execution_count": 39,
      "outputs": [
        {
          "output_type": "execute_result",
          "data": {
            "text/plain": [
              "device(type='cpu')"
            ]
          },
          "metadata": {},
          "execution_count": 39
        }
      ]
    },
    {
      "cell_type": "code",
      "source": [
        "device = torch.device('cuda:0' if torch.cuda.is_available() else 'cpu')#автоматически выбирает девайс\n",
        "device"
      ],
      "metadata": {
        "colab": {
          "base_uri": "https://localhost:8080/"
        },
        "id": "P5gwHp2qOaoL",
        "outputId": "cf57b5e5-9b02-4223-c610-b60bfb77b2e8"
      },
      "execution_count": 40,
      "outputs": [
        {
          "output_type": "execute_result",
          "data": {
            "text/plain": [
              "device(type='cpu')"
            ]
          },
          "metadata": {},
          "execution_count": 40
        }
      ]
    },
    {
      "cell_type": "code",
      "source": [
        "x_cuda = x.to(device)#тензор на куде\n",
        "x_cuda"
      ],
      "metadata": {
        "colab": {
          "base_uri": "https://localhost:8080/"
        },
        "id": "oBr79Ju_PV0o",
        "outputId": "11a723f2-0a42-4a71-b5ed-b79ed7e0280a"
      },
      "execution_count": 41,
      "outputs": [
        {
          "output_type": "execute_result",
          "data": {
            "text/plain": [
              "tensor([[0.4711, 0.8883, 0.1994,  ..., 0.8408, 0.5660, 0.5474],\n",
              "        [0.4802, 0.6263, 0.7110,  ..., 0.6089, 0.8244, 0.2072],\n",
              "        [0.9823, 0.0382, 0.8378,  ..., 0.3482, 0.7679, 0.4083],\n",
              "        ...,\n",
              "        [0.4130, 0.0255, 0.4682,  ..., 0.6749, 0.3552, 0.4169],\n",
              "        [0.9902, 0.8600, 0.3665,  ..., 0.1408, 0.1392, 0.8291],\n",
              "        [0.2512, 0.6384, 0.3345,  ..., 0.2654, 0.3456, 0.3502]])"
            ]
          },
          "metadata": {},
          "execution_count": 41
        }
      ]
    },
    {
      "cell_type": "code",
      "source": [
        "%time y = (x - x + x * 10.0)**2"
      ],
      "metadata": {
        "colab": {
          "base_uri": "https://localhost:8080/"
        },
        "id": "1nulBbMFPWDF",
        "outputId": "4730dd64-6207-4c8e-cabf-116b74348f4a"
      },
      "execution_count": 42,
      "outputs": [
        {
          "output_type": "stream",
          "name": "stdout",
          "text": [
            "CPU times: user 16.8 ms, sys: 62.9 ms, total: 79.7 ms\n",
            "Wall time: 81.6 ms\n"
          ]
        }
      ]
    },
    {
      "cell_type": "code",
      "source": [
        "%time y_cuda = (x_cuda - x_cuda + x_cuda * 10.0)**2"
      ],
      "metadata": {
        "colab": {
          "base_uri": "https://localhost:8080/"
        },
        "id": "Bekh6O73QXRM",
        "outputId": "64975487-2b56-4133-8563-a27ed97bae3e"
      },
      "execution_count": 43,
      "outputs": [
        {
          "output_type": "stream",
          "name": "stdout",
          "text": [
            "CPU times: user 24.8 ms, sys: 41.8 ms, total: 66.6 ms\n",
            "Wall time: 68.5 ms\n"
          ]
        }
      ]
    },
    {
      "cell_type": "markdown",
      "source": [
        "# Строим первую нейронную сеть\n"
      ],
      "metadata": {
        "id": "L6J0OPWyt7uM"
      }
    },
    {
      "cell_type": "markdown",
      "source": [
        "## Восстановление зависимости нейронной сетью\n"
      ],
      "metadata": {
        "id": "1XmsE8xSuMvt"
      }
    },
    {
      "cell_type": "markdown",
      "source": [
        "Размеченная обучающая выборка состоит из некоторого количество объектов и для этих объектов мы знаем:\n",
        "признаки $ x_1, x_2, ... , x_n $ и метку объекта\n",
        "$ y_1, y_2, ... , y_n $\n",
        "\n",
        "Перед обучением выборку надо разделить на три датасета:\n",
        "\n",
        "* **Тренировочный** (используется для обучения нейронной сети)\n",
        "* **Валидационный** (используется для настройки параметров модели)\n",
        "* **Тестовый** (используется для проверки окончательного результата)"
      ],
      "metadata": {
        "id": "M4TLKhNhuVnZ"
      }
    },
    {
      "cell_type": "markdown",
      "source": [
        "## Компоненты нейронной сети\n"
      ],
      "metadata": {
        "id": "A9pR6aE6vxGw"
      }
    },
    {
      "cell_type": "markdown",
      "source": [
        "\n",
        "\n",
        "### Этапы построения нейронной сети\n",
        "\n",
        "Представим что нейронная сеть, которую мы должны научить -- это пульт с ручками, а успешно себя вести он будет тогда, когда ручки этого пульта будут в правильном положении.\n",
        "* **Архитектура нейронной сети** (определиться со структорой взаимодействия нейронов, функцией активации и тд. Придумать, как между аргументом и результатом будут происходить вычисления)\n",
        "* **Функция потерь**(ее минимум будет соответствовать наилучшему распраспложению \"ручек на пульте\")\n",
        "* **Метод оптимизации**(на сколько и как нужно крутить наши \"ручки\")\n",
        "\n",
        "\n",
        "Последний нейрон **линейный**. Между этим нейроном и аргументом стоит много сигмоидных нейронов.\n",
        "\n",
        "Для того, чтобы обучить, необходимо подобрать параметры у выходного нейрона и у нейронов скрытого слоя таким образом, чтобы выходное значение нашей нейронной сети наилучшим образом подходило тому, что мы наблюдали.\n",
        "\n",
        "\n"
      ],
      "metadata": {
        "id": "-AcjM5ITwkeP"
      }
    },
    {
      "cell_type": "markdown",
      "source": [
        "## Настройка параметров нашей нейронной сети\n",
        "\n",
        "веса $w_1^1, w_2^1, ... , w_n^1$ , которые \"взвешивают\" входных значения в первый и единственный в этой нейронной сети скрытый слой. Эти веса\n",
        "отвечают за то, насколько круто будет растить соответствующая сигмоида.\n",
        "\n",
        "Кроме весов скрытого слоя, мы можем настраивать смещеня скрытого слоя $b_1^1, b_2^1, ... , b_n^1$.\n",
        "\n",
        "Также мы можем настраивать веса второго слоя $w_1^2, w_2^2, ... , w_n^2$\n",
        "\n",
        "Веса второго слоя будут означать амплитуду соответствующей сигмоиды.\n",
        "\n",
        "Также мы можем настраивать смещеня второго слоя $b_1^2$"
      ],
      "metadata": {
        "id": "XMikZ0kr12x7"
      }
    },
    {
      "cell_type": "markdown",
      "source": [
        "Для настройки параметров нейронной сети будем использовать градиентный спуск. Веса будем описывать вектором\n",
        "$$\n",
        "\\begin{equation*}\n",
        "w_0 = \\left(\n",
        "    \\begin{array}{c}\n",
        "    w_0\\\\\n",
        "    w_1\\\\\n",
        "    \\vdots\\\\\n",
        "    w_n\\\\\n",
        "    \\vdots\\\\\n",
        "    b_0\\\\\n",
        "    b_1\\\\\n",
        "    \\vdots\\\\\n",
        "    b_n\n",
        "    \\end{array}\n",
        "\\right)\n",
        "\\end{equation*}\n",
        "$$\n",
        "\n",
        "\n",
        "Далее берём функцию потерь и считаем её производную, а точнее градиент.\n",
        "\n",
        "Градиент - вектор, состоящий из производных по каждой из координат функции\n",
        "$$\n",
        "\\begin{equation*}\n",
        "    \\nabla f = \\left(\n",
        "        \\begin{array}{c}\n",
        "        \\frac{\\partial f}{\\partial w_0} \\\\\n",
        "        \\frac{\\partial f}{\\partial w_1} \\\\\n",
        "        \\vdots\\\\\n",
        "        \\frac{\\partial f}{\\partial w_n}\n",
        "        \\end{array}\n",
        "    \\right)\n",
        "\\end{equation*}\n",
        "$$\n",
        "\n",
        "Градиент функции потерь показывает в сторону наибольшего роста функции потерь.\n",
        "Поскольку нам надо уменьшение потери, поэтому мы будем двигаться в сторону, обратную градиенту.\n",
        "Мы получаем новый вектор весов:\n",
        "$$\n",
        "w_1 = w_0 - \\alpha \\nabla f{w_0}\n",
        "$$\n",
        "Если мы хотем ещё сильнее минимизировать функцию потерь, мы можем взять градиент от $w_1$\n",
        "Таким образом мы получим точку\n",
        "$$\n",
        "w_2 = w_1 - \\alpha \\nabla f{w_1}\n",
        "$$\n",
        "\n",
        "$\\alpha$ - скорость обучения сети, в нашем случае фиксированный коэффициент\n",
        "\n",
        "При помощи градиентного спуска мы можем делать достаточно большое количество шагов.\n",
        "\n",
        "Градиентный спуск может найти минимум функции, но не оптимальный!!!!"
      ],
      "metadata": {
        "id": "HT9Lex_C3MbV"
      }
    },
    {
      "cell_type": "markdown",
      "source": [
        "Ограничения функции потерь:\n",
        "* функция потерь должна быть **дифференцируема**\n",
        "* производная **не должна** равняться нулю\n",
        "$$\n",
        " \\frac{\\partial}{\\partial \\overline{y_i}} MSE = -\\frac{2}{N} (y_i - \\overline{y_i})\n",
        "$$\n",
        "\n",
        "$\\overline{y_i}$ - функция должна была выдать\n",
        "\n",
        "$y_i$ - результат вывода функции"
      ],
      "metadata": {
        "id": "rWEdOd6T3woi"
      }
    },
    {
      "cell_type": "markdown",
      "source": [
        "Мы знаем производную функции потерь. По этой производной нам необходимо вычислить производные всех параметров сети.\n",
        "$$\n",
        "L = \\bigg(f_4 \\Big(f_2 \\big(f_1(x)\\big)\\Big), f_3 \\big(f_1(x)\\big)\\bigg)\n",
        "$$\n",
        "$$\n",
        "\\frac{\\partial f(g(x))}{\\partial x} = \\frac{\\partial f}{\\partial g} \\frac{\\partial g}{\\partial x}\n",
        "$$\n",
        "\n"
      ],
      "metadata": {
        "id": "Kit5Oqa75oDc"
      }
    },
    {
      "cell_type": "markdown",
      "source": [
        "$$\n",
        "    \\frac{\\partial L}{\\partial w_1} =\n",
        "    \\frac{\\partial L}{\\partial y_4}[\n",
        "        \\frac{\\partial f_4}{\\partial y_2}\n",
        "        \\frac{\\partial f_2}{\\partial y_1}+\n",
        "        \\frac{\\partial f_4}{\\partial y_3}\n",
        "        \\frac{\\partial f_3}{\\partial y_1}\n",
        "    ]\n",
        "    \\frac{\\partial f_1}{\\partial w_1}\n",
        "$$\n",
        "\n",
        "Алгоритм обратного распрастранения ошибки\n",
        "\n",
        "Starter kit\n",
        "\n",
        "* архитектура нейронной сети(в каком порядке и как определены нейроны)\n",
        "* определиться с функцией потерь(дифференцируемая функция, показывающая насколько хорошо решается поставленная задача)\n",
        "* определиться с методом оптимизации(как настраивать параметры сети, зная производную функции потерь)\n",
        "* подбор метрик(насколько хорошо обучается нейронная сеть)"
      ],
      "metadata": {
        "id": "UkQcep5v4shG"
      }
    },
    {
      "cell_type": "markdown",
      "source": [
        "## Реализация градиентного спуска в PytTorch"
      ],
      "metadata": {
        "id": "vhZcwiMOvLic"
      }
    },
    {
      "cell_type": "markdown",
      "source": [
        "$$f(x) \\longrightarrow  \\displaystyle \\min_{x} $$\n",
        "\n",
        "$$\n",
        "x^{t+1} = x^t - \\alpha  f'(x^t)\n",
        "$$\n",
        "$$\n",
        "    f(x^{t+1}) = f(x^t - \\alpha f'(x^t))\n",
        "$$"
      ],
      "metadata": {
        "id": "2OaO-iTgveZi"
      }
    },
    {
      "cell_type": "markdown",
      "source": [
        "пример\n",
        "$$\n",
        "f(x) = 10 * \\sum_{ij} x_{ij}^2 \\\\\n",
        "f'(X)_X = ? \\\\\n",
        "$$\n",
        "Производная от тензора - градиент\n",
        "$$\n",
        "f'(\\textbf{X})_{x_{kl}} = \\Big( 10\\cdot\\sum\\limits_{i, j}x_{ij}^2\\Big)_{x_{kl}}' = 10 \\cdot\\Big(\\sum\\limits_{i, j}x_{ij}^2\\Big)_{x_{kl}}'\n",
        "$$\n",
        "\n",
        "$$ \\quad = 10 \\cdot\\sum\\limits_{i, j}\\Big(x_{ij}^2\\Big)_{x_{kl}}' $$\n",
        "\n",
        "$$ \\quad = 10 \\cdot\\sum\\limits_{i, j}2 x_{ij} \\big(x_{ij}\\big)_{x_{kl}}' $$\n",
        "\n",
        "$$ \\quad = 10 \\cdot 2 x_{kl} \\cdot 1 = 20 x_{kl} $$\n",
        "\n",
        "$$f(\\textbf{X}) = 10\\cdot\\sum\\limits_{i, j}x_{ij}^2$$\n",
        "\n",
        "$$f'(\\textbf{X})_{\\textbf{X}} = 20 \\textbf{X} $$"
      ],
      "metadata": {
        "id": "odpKcuwQw1Dc"
      }
    },
    {
      "cell_type": "code",
      "source": [
        "import torch\n",
        "x = torch.tensor([[1, 2, 3, 4],\n",
        "                  [5, 6, 7, 8],\n",
        "                  [9, 10, 11, 12]], dtype=float, requires_grad=True) # requires_grad=True сообщает о том,\n",
        "                  #что данный тензор является переменной, по которой нужно будет считать градиенты и\n",
        "                  #превращает тензор-константу в тензор-переменную"
      ],
      "metadata": {
        "id": "sZ1_Cb58xf4Z"
      },
      "execution_count": 44,
      "outputs": []
    },
    {
      "cell_type": "code",
      "source": [
        "device = torch.device('cuda:0' if torch.cuda.is_available() else 'cpu')\n",
        "x = x.to(device) #подключение тензора к вычислительной мощности\n",
        "x"
      ],
      "metadata": {
        "colab": {
          "base_uri": "https://localhost:8080/"
        },
        "id": "zsNnF7TYzEnW",
        "outputId": "2820de61-5def-437b-bffa-72332d296d40"
      },
      "execution_count": 45,
      "outputs": [
        {
          "output_type": "execute_result",
          "data": {
            "text/plain": [
              "tensor([[ 1.,  2.,  3.,  4.],\n",
              "        [ 5.,  6.,  7.,  8.],\n",
              "        [ 9., 10., 11., 12.]], dtype=torch.float64, requires_grad=True)"
            ]
          },
          "metadata": {},
          "execution_count": 45
        }
      ]
    },
    {
      "cell_type": "code",
      "source": [
        "function =  10 * (x ** 2).sum()\n",
        "#составление функции зависящую от тензора X, который является переменной\n",
        "function\n",
        "function.backward() #вычисление производной функции, метод применяется к функции, ничего не возвращает"
      ],
      "metadata": {
        "id": "e-1HhzEHzkVD"
      },
      "execution_count": 46,
      "outputs": []
    },
    {
      "cell_type": "code",
      "source": [
        "x.grad #метод, который возвращает результат нахождения градиента функции"
      ],
      "metadata": {
        "colab": {
          "base_uri": "https://localhost:8080/"
        },
        "id": "silJcZYr0EG6",
        "outputId": "76e42a68-52ab-43a4-93ac-16c2c6f852f0"
      },
      "execution_count": 47,
      "outputs": [
        {
          "output_type": "execute_result",
          "data": {
            "text/plain": [
              "tensor([[ 20.,  40.,  60.,  80.],\n",
              "        [100., 120., 140., 160.],\n",
              "        [180., 200., 220., 240.]], dtype=torch.float64)"
            ]
          },
          "metadata": {},
          "execution_count": 47
        }
      ]
    },
    {
      "cell_type": "code",
      "source": [
        "print(function.grad_fn) #последняя операция дифференцирования\n",
        "print(function.grad_fn.next_functions[0][0])\n",
        "print(function.grad_fn.next_functions[0][0].next_functions[0][0])\n",
        "print(function.grad_fn.next_functions[0][0].next_functions[0][0].next_functions[0][0]) #первая операция дифференцирования"
      ],
      "metadata": {
        "colab": {
          "base_uri": "https://localhost:8080/"
        },
        "id": "A-6Jaoks26lq",
        "outputId": "0ddb8ec2-a155-45bb-a1f7-30f4662f7e06"
      },
      "execution_count": 48,
      "outputs": [
        {
          "output_type": "stream",
          "name": "stdout",
          "text": [
            "<MulBackward0 object at 0x7ff78ae024d0>\n",
            "<SumBackward0 object at 0x7ff78ae02500>\n",
            "<PowBackward0 object at 0x7ff78ae024d0>\n",
            "<AccumulateGrad object at 0x7ff78ae03dc0>\n"
          ]
        }
      ]
    },
    {
      "cell_type": "code",
      "source": [
        "#РЕАЛИЗАЦИЯ ГРАДИЕНТНОГО СПУСКА ПО ФОРМУЛЕ\n",
        "x.data -= 0.001 * x.grad\n",
        "#атрибут .data позволяет обновить не сам тензор, а ТОЛЬКО ДАННЫЕ В НЕМ"
      ],
      "metadata": {
        "id": "IWqJv88b3KOe"
      },
      "execution_count": 49,
      "outputs": []
    },
    {
      "cell_type": "markdown",
      "source": [
        "Если мы будем производить операции градиента многократно: в pytorch для удобства градиенты не обновляются после выполнения градиентных шагов. Они всё время накапливаются то есть суммируются. Результат - сумма прошлого градиента и текущего. Для того, чтобы такое не происходило необходимо обнулять градиент"
      ],
      "metadata": {
        "id": "0ACvXt2UEarL"
      }
    },
    {
      "cell_type": "code",
      "source": [
        "x.grad.zero_() #метод обнулит весь градиент"
      ],
      "metadata": {
        "colab": {
          "base_uri": "https://localhost:8080/"
        },
        "id": "Sv4rSSiREZny",
        "outputId": "52c9d848-d80b-4ff9-d005-8ddeab1c3609"
      },
      "execution_count": 50,
      "outputs": [
        {
          "output_type": "execute_result",
          "data": {
            "text/plain": [
              "tensor([[0., 0., 0., 0.],\n",
              "        [0., 0., 0., 0.],\n",
              "        [0., 0., 0., 0.]], dtype=torch.float64)"
            ]
          },
          "metadata": {},
          "execution_count": 50
        }
      ]
    },
    {
      "cell_type": "code",
      "source": [
        "import torch\n",
        "\n",
        "w =  torch.tensor([[5, 10],\n",
        "                   [1, 2]], dtype=float, requires_grad=True)\n",
        "device = torch.device('cuda:0' if torch.cuda.is_available() else 'cpu')\n",
        "w = w.to(device)\n",
        "function =  torch.log(torch.log(w + 7))\n",
        "function.backward(w)\n",
        "\n",
        "print(w.grad) # Код для самопроверки"
      ],
      "metadata": {
        "colab": {
          "base_uri": "https://localhost:8080/"
        },
        "id": "68GYlEHE4BLt",
        "outputId": "d025adc4-6b92-4c53-e4be-5f512e4c9fbf"
      },
      "execution_count": 51,
      "outputs": [
        {
          "output_type": "stream",
          "name": "stdout",
          "text": [
            "tensor([[0.1677, 0.2076],\n",
            "        [0.0601, 0.1011]], dtype=torch.float64)\n"
          ]
        }
      ]
    },
    {
      "cell_type": "code",
      "source": [
        "import torch\n",
        "\n",
        "w =  torch.tensor([[5., 10.],\n",
        "                   [1., 2.]], requires_grad=True)\n",
        "alpha = 0.001\n",
        "\n",
        "for i in range(500):\n",
        "  function = (w + 7).log().log().prod()\n",
        "  function.backward()\n",
        "  w.data -= alpha * w.grad\n",
        "  w.grad.zero_()\n",
        "\n",
        "print(w)"
      ],
      "metadata": {
        "colab": {
          "base_uri": "https://localhost:8080/"
        },
        "id": "Y81zz-Ox99MO",
        "outputId": "1433ad28-463b-48ca-e756-3a45389b1be1"
      },
      "execution_count": 52,
      "outputs": [
        {
          "output_type": "stream",
          "name": "stdout",
          "text": [
            "tensor([[4.9900, 9.9948],\n",
            "        [0.9775, 1.9825]], requires_grad=True)\n"
          ]
        }
      ]
    },
    {
      "cell_type": "code",
      "source": [
        "x = torch.tensor([8., 8.], requires_grad = True)\n",
        "\n",
        "def parabola(variable):\n",
        "    return 10 * (variable ** 2).sum()\n",
        "\n",
        "def make_gradient_step(function, variable):\n",
        "    function_result = function(variable) #вычисление значения по функции\n",
        "    function_result.backward() #нахождение производной\n",
        "    variable.data -= 0.001 * variable.grad #градиентный спуск\n",
        "    variable.grad.zero_() #обнуление градиента\n",
        "\n",
        "for i in range(500):\n",
        "    make_gradient_step(parabola, x)"
      ],
      "metadata": {
        "id": "VLULmbcRFQ5J"
      },
      "execution_count": 53,
      "outputs": []
    },
    {
      "cell_type": "code",
      "source": [
        "x = torch.tensor([8.,8.], requires_grad = True)\n",
        "\n",
        "optimizer = torch.optim.SGD([x], lr=0.001)\n",
        "#оптимайзер - объект, котоорый знает как делать градиентные шаги\n",
        "#SGD - стохастический градиентный спуск из пакета optim\n",
        "#мы передаем переменную, с которой будем осуществлять градиентный спуск и learning rate\n",
        "\n",
        "def parabola(variable):\n",
        "  return 10 *(variable ** 2).sum()\n",
        "\n",
        "def make_gradient_step(function, variable):\n",
        "  function_result = function(variable)#вычисление значения по функции\n",
        "  function_result.backward()#нахождение производной\n",
        "  optimizer.step()#градиентный спуск\n",
        "  optimizer.zero_grad()#обнуление градиента\n",
        "\n",
        "for i in range(500):\n",
        "  make_gradient_step(parabola, x)\n"
      ],
      "metadata": {
        "id": "gm0daOKwDgDg"
      },
      "execution_count": 54,
      "outputs": []
    },
    {
      "cell_type": "markdown",
      "source": [
        "Если мы хотим визуализировать то, что у нас получается вследствие градиентного спуска, мы можем\n",
        "попробовать нарисовать график линий функции, которую мы оптимизируем.\n",
        "\n",
        " В нашем случае, это круги(линии, на которых\n",
        "функция имеет одно и то же значение) и красными точками отмечена некоторая траектория движения икса,\n",
        "то есть траектория переменной икс, которую она проходит в процессе градиентного спуска.\n",
        "\n",
        " Мы начинали с начального приближения\n",
        "с точки (8,8). Мы видим, что наш градиентный спуск действительно спускается в минимум функции, в точку (0.0)"
      ],
      "metadata": {
        "id": "A4IsxlnOINds"
      }
    },
    {
      "cell_type": "code",
      "source": [
        "import torch\n",
        "import numpy as np\n",
        "import matplotlib.pyplot as plt\n",
        "\n",
        "def show_contours(objective, #функция, которая будет вычислять значение переменной в каждой точке\n",
        "                  x_lims=[-10.0, 10.0], #границы по ОХ\n",
        "                  y_lims=[-10.0, 10.0], #границы по ОУ\n",
        "                  x_ticks=100, #количество точек по ОХ для вычисления значений функции\n",
        "                  y_ticks=100): #количество точек по ОУ для вычисления значений функции\n",
        "    x_step = (x_lims[1] - x_lims[0]) / x_ticks #вычисление шагов на основе границ и количества точек по OX\n",
        "    y_step = (y_lims[1] - y_lims[0]) / y_ticks #вычисление шагов на основе границ и количества точек по OY\n",
        "    X, Y = np.mgrid[x_lims[0]:x_lims[1]:x_step, y_lims[0]:y_lims[1]:y_step] #np.mgrid создание сетки значений Х и У, содержащие координаты каждой точки\n",
        "    res = [] #список, в котором будут содержаться значения каждой функции на сетке\n",
        "    for x_index in range(X.shape[0]): #проход через каждую точку на сетке\n",
        "        res.append([])\n",
        "        for y_index in range(X.shape[1]):\n",
        "            x_val = X[x_index, y_index]\n",
        "            y_val = Y[x_index, y_index]\n",
        "            res[-1].append(objective(np.array([[x_val, y_val]]).T)) #получение значение функции для текущей точки и добавление на соответствующую позицию\n",
        "    res = np.array(res)\n",
        "    plt.figure(figsize=(7,7)) #создание новой фигуры для установки размеров графика\n",
        "    plt.contour(X, Y, res, 10) #создание контуров на основе X,Y, res. 100 - количество контуров\n",
        "    plt.xlabel('$x_1$')\n",
        "    plt.ylabel('$x_2$')"
      ],
      "metadata": {
        "id": "L2UBjC-iNDya"
      },
      "execution_count": 55,
      "outputs": []
    },
    {
      "cell_type": "code",
      "source": [
        "import torch\n",
        "\n",
        "x = torch.tensor(\n",
        "    [8., 8.], requires_grad=True)\n",
        "var_history = []\n",
        "fn_history = []\n",
        "\n",
        "optimizer = torch.optim.SGD([x], lr=0.001)\n",
        "\n",
        "def function_parabola(variable):\n",
        "    return 10 * (variable ** 2).sum()\n",
        "\n",
        "def make_gradient_step(function, variable):\n",
        "    function_result = function(variable)\n",
        "    function_result.backward()\n",
        "    optimizer.step()\n",
        "    optimizer.zero_grad()\n",
        "\n",
        "for i in range(500):\n",
        "    var_history.append(x.data.numpy().copy())\n",
        "    fn_history.append(function_parabola(x).data.cpu().numpy().copy())\n",
        "    make_gradient_step(function_parabola, x)\n",
        "\n",
        "show_contours(function_parabola)\n",
        "plt.scatter(np.array(var_history)[:,0], np.array(var_history)[:,1], s=10, c='r');\n",
        "#plt.scatter - добавление точек на график\n",
        "#первые два массива задают координаты точек Х и У, s - размер, с - цвет"
      ],
      "metadata": {
        "colab": {
          "base_uri": "https://localhost:8080/",
          "height": 619
        },
        "id": "8d99LCykNwuU",
        "outputId": "a072eac2-8f70-4556-cc88-8ea917c4f1c3"
      },
      "execution_count": 56,
      "outputs": [
        {
          "output_type": "display_data",
          "data": {
            "text/plain": [
              "<Figure size 700x700 with 1 Axes>"
            ],
            "image/png": "[encoded data removed]"
          },
          "metadata": {}
        }
      ]
    },
    {
      "cell_type": "code",
      "source": [
        "plt.figure(figsize=(7,7))\n",
        "plt.plot(fn_history);\n",
        "plt.xlabel('step')\n",
        "plt.ylabel('function value');"
      ],
      "metadata": {
        "colab": {
          "base_uri": "https://localhost:8080/",
          "height": 619
        },
        "id": "1NdW8gYeN1dW",
        "outputId": "bfda24b6-7bbb-44a7-e889-974602410b43"
      },
      "execution_count": 57,
      "outputs": [
        {
          "output_type": "display_data",
          "data": {
            "text/plain": [
              "<Figure size 700x700 with 1 Axes>"
            ],
            "image/png": "[encoded data removed]"
          },
          "metadata": {}
        }
      ]
    },
    {
      "cell_type": "markdown",
      "source": [
        "# Задачи, решаемые при помощи нейронных сетей"
      ],
      "metadata": {
        "id": "19wbF9rWN4c6"
      }
    },
    {
      "cell_type": "markdown",
      "source": [
        "## Бинарная классификация, бинарная кросс-энтропия"
      ],
      "metadata": {
        "id": "_VoYvofSOSlB"
      }
    },
    {
      "cell_type": "markdown",
      "source": [
        "Выбор функции потерь не зависит от характеристик модели"
      ],
      "metadata": {
        "id": "ltJ8ssqtOYE6"
      }
    },
    {
      "cell_type": "markdown",
      "source": [
        "Сигмоида\n",
        "\n",
        "$$ \\sigma(y) = \\frac{1}{1 + e^{-y}}$$\n",
        "\n",
        "Производная сигмоиды\n",
        "\n",
        "$$ \\sigma'(y) = \\sigma(y)(1 - \\sigma(y))$$"
      ],
      "metadata": {
        "id": "uagYeJJkVW9b"
      }
    },
    {
      "cell_type": "markdown",
      "source": [
        "$$MSE = (\\sigma(y) - t)^2$$\n",
        "\n",
        "$$MSE' = 2*(\\sigma(y)-t)*\\sigma(y)*(1-\\sigma(y))$$\n",
        "\n",
        "Возникает паралич сигмоидной нейронной сети\n",
        "\n",
        "Даже при большом количестве ошибки может возникнуть производная, которая будет равна 0. Градиентный спуск плохо подходит для обучения такой нейронной сети.Потому что функция ошибки сосотоит из трех компонент, одна из которых отклнение, и остальные не зависят от нее.\n",
        "\n"
      ],
      "metadata": {
        "id": "qTfzIGbNWayw"
      }
    },
    {
      "cell_type": "markdown",
      "source": [
        "В качестве потерь с сигмоидной функцией активации можно использовать функцию \"Бинарная кросс-энтропия\"\n",
        "$$\n",
        " BCE(p, t) = -t \\log(p) - (1-t)\\log(1-p)\n",
        "$$\n",
        "\n",
        "\n",
        "\n",
        "\n",
        "$$\n",
        "p = \\sigma(y)\n",
        "$$\n",
        "\n",
        "$$\n",
        "\\frac{\\partial BCE}{\\partial y} = \\frac{\\partial BCE}{\\partial p} \\frac{\\partial p}{\\partial y} = -\\frac{t}{\\sigma} \\sigma' + \\frac{1-t}{1-\\sigma}\\sigma'= -t(1-\\sigma) + (1-t)\\sigma = \\sigma - t\n",
        "$$\n",
        "\n",
        "\n",
        "Бинарная кросс-энтропия - функция потерь, которая хорошо оценивает вероятности и любые значения, которые находятся в интервале от $[0,1]$\n",
        "\n",
        "\n",
        "**Функция активации - сигмоида**\n",
        "\n",
        "**Функция потерь - бинарная кросс-энтропия**"
      ],
      "metadata": {
        "id": "A8eG5b7mce6z"
      }
    },
    {
      "cell_type": "markdown",
      "source": [
        "## Многоклассовая классификация. СОФТМАКС"
      ],
      "metadata": {
        "id": "mB-_OncChGwj"
      }
    },
    {
      "cell_type": "markdown",
      "source": [
        "Для решения многоклассовой классификации предлагается сделать по одному выходу на каждый класс. Для получения вероятности для каждого класса будем использовать другой подход\n",
        "\n",
        "Сумма всех вероятностей(выходов) должна равняться единице.\n",
        "\n",
        "В таком примере в **качестве функции активации** мы будем применять функцию \"СофтМакс\"\n",
        "\n",
        "$$\n",
        "SM_i(\\vec{y})=\\frac{e^{y_i}}{\\sum^N_{j=1} e^{y_j}}\n",
        "$$\n",
        "\n",
        "Мы берём все выходы из сети и в эту степень возводим экспоненту. После этого для того, чтобы получить вероятность какого-то класса, мы берём экспоненту, которая соответствует этому классу, и делим на сумму всех экспонент(потому что вероятность не может быть больше 100%)"
      ],
      "metadata": {
        "id": "PjE87VZui3RA"
      }
    },
    {
      "cell_type": "markdown",
      "source": [
        "Свойства софтмакс функции:\n",
        "- $0<SM<1$\n",
        "- $\\sum_{i=1}^N SM_i = 1$\n",
        "\n",
        "Продифференцируем софтмакс функцию:\n",
        "$$\n",
        "\\frac{\\partial SM_i}{\\partial y_c} = \\frac{-e^{y_i}e^{y_c}}{(\\sum^N_{j=1}e^{y_j})^2}; y_c \\neq y_i\n",
        "$$\n",
        "$y_c$ - некоторый выход из нейронной сети"
      ],
      "metadata": {
        "id": "31GW9ij8nQcS"
      }
    },
    {
      "cell_type": "markdown",
      "source": [
        "Производная софтмакса по выходу:\n",
        "\n",
        "$$\n",
        "\\frac{\\partial SM_i}{\\partial y_i}=\\frac{e^{y_i}*\\sum^n_{j=1}e^{y_j} - e^{y_i}*e^{y_i}}{(\\sum_{j=1}^N e^{y_j})^2} = SM_i(1-SM_i)\n",
        "$$\n",
        "\n",
        "$$\n",
        "\\frac{\\partial}{\\partial y_i} \\sum^n_{j=1} e^{y_j} = \\frac{\\partial}{\\partial y_i} e^{y_i} = e^{y_i}\n",
        "$$\n"
      ],
      "metadata": {
        "id": "wpHkYhiTnXkN"
      }
    },
    {
      "cell_type": "markdown",
      "source": [
        "Кросс энтропия - минус сумма всех классов от 1 до N.\n",
        "\n",
        "$t_c$ - таргетное значение для класса\n",
        "\n",
        "$p_c$ - вероятность этого класса\n",
        "\n",
        "Верояность класса - софтмакс от выходов из нейронной сети.\n",
        "\n",
        "Таргетное значение для класса - ноль почти для всех классов кроме одного, который присутствует на этой картинке\n",
        "\n",
        "Когда у нас будет два класса, софтмакс будет выглядеть как сигмоида. Кросс энтропия на два класса выглядит как бинарная кросс энтропия"
      ],
      "metadata": {
        "id": "2hSVid6kmCXo"
      }
    },
    {
      "cell_type": "markdown",
      "source": [
        "Кросс энтропия - хорошая функция потерь для функции активации софтмакс\n",
        "\n",
        "$$\n",
        "\\frac{\\partial CE}{\\partial y_i} = -\\frac{t_i}{p_i} \\frac{\\partial SM_i}{\\partial y_i} - \\sum_{c \\neq i} \\frac{t_c}{p_c} \\frac{\\partial SM_c}{\\partial y_i}$$\n",
        "$$ = - \\frac{t_i}{p_i} p_i(1-p_i)+ \\sum_{c \\neq i} t_c \\frac{1}{p_c} p_i p_c = -t_i(1-p_i) + \\sum_{c \\neq i} t_c p_i = -t_i + p_i\n",
        "$$\n",
        "\n",
        "Производная кросс энтропии по выходу из нейронной сети линейна"
      ],
      "metadata": {
        "id": "1dSjD_YEqFch"
      }
    },
    {
      "cell_type": "markdown",
      "source": [
        "**Функция активации - софтмакс**\n",
        "\n",
        "**Функция потерь - кросс-энтропия**"
      ],
      "metadata": {
        "id": "FuX702TtfMG-"
      }
    },
    {
      "cell_type": "markdown",
      "source": [
        "## Локализация, детекция, сегментация и super-resolution\n"
      ],
      "metadata": {
        "id": "5hLOg8HNq30R"
      }
    },
    {
      "cell_type": "markdown",
      "source": [
        "### Задача локализации и детекции"
      ],
      "metadata": {
        "id": "eyTq8YvorU3q"
      }
    },
    {
      "cell_type": "markdown",
      "source": [
        "У нас есть картинка. На этой картинке где-то есть объект. Что нужно сделать для решения этой задачи?\n",
        "\n",
        "- Один из выходов нейронной сети должен говорить о вероятности нахождения на картинке объекта. (p)\n",
        "- Параметризация прямоугольника, включащего в себя объект $x_c, y_c$ - координаты центра\n",
        "- ширина (w) и высота (h)\n",
        "\n",
        "Эта задача будет решаться с некоторым количеством ограничений:\n",
        "- на картинке может быть либо один объект, либо ни одного\n",
        "- если центр объекта лежит в пределах картинки, то мы считаем, что объект на картинке есть, в ином случае, мы считаем, что его нет.\n",
        "- объект может выходить за пределы картинки\n",
        "\n"
      ],
      "metadata": {
        "id": "-u6jyH6QPGuL"
      }
    },
    {
      "cell_type": "markdown",
      "source": [
        "На выход вероятности можно использовать сигмоидную функцию активации.\n",
        "\n",
        "На выходы центра можно также использовать сигмоидную функции активации. Таким образом мы сможем задать центр объекта относительно картинки.\n",
        "\n",
        "Высота и ширина - экспоненты от соответствующих выходов\n",
        "\n",
        "На выходы вероятности, центра в качестве функции потерь можно использовать бинарную кросс энтропию\n",
        "\n",
        "В качестве функции потерь для высоты и ширины можно использовать средний квадрат ошибки от выхода сети до функции активации с логарифмом таргетного значения\n",
        "\n",
        "$$\n",
        "p = \\sigma(y_0);    BCE(\\sigma(y_0), \\widetilde{I})\\\\\n",
        "x_c = \\sigma(y_1);  BCE(\\sigma(y_1), \\widetilde{x_c})\\\\\n",
        "y_c = \\sigma(y_2);  BCE(\\sigma(y_2), \\widetilde{y_c})\\\\\n",
        "w = \\exp(y_3);      MSE(y_3, \\log{\\widetilde w})\\\\\n",
        "h = \\exp(y_4);      MSE(y_4, \\log{\\widetilde h})\n",
        "$$\n",
        "\n",
        "$$\n",
        "L = BCE(\\sigma(y_0), \\widetilde{w}) + \\widetilde I \\Bigg(BCE(\\sigma(y_1), \\widetilde{x_c})+BCE(\\sigma(y_2), \\widetilde{y_c})+MSE(y_3, \\log{\\widetilde w}))+MSE(y_4, \\log{\\widetilde h}\\Bigg)\n",
        "$$\n"
      ],
      "metadata": {
        "id": "u6eZwjGDQTLo"
      }
    },
    {
      "cell_type": "markdown",
      "source": [
        "### Сегментация"
      ],
      "metadata": {
        "id": "Z_B2K-cHQz9d"
      }
    },
    {
      "cell_type": "markdown",
      "source": [
        "На выходе из нейросети будет картинка, где каждый пиксель дифференцируется(есть кот или нет)\n",
        "\n",
        "Функция активации - сигмоида\n",
        "Функция потерь - бинарная кросс энтропия по каждому пикселю и сложения по всех картинке\n",
        "\n",
        "$$\n",
        "L = \\sum_j BCE(\\sigma(y_j), t_j)\n",
        "$$"
      ],
      "metadata": {
        "id": "TRXiYlbrTpE2"
      }
    },
    {
      "cell_type": "markdown",
      "source": [
        "### Задача сжатия размерности"
      ],
      "metadata": {
        "id": "Vca64-daUbOg"
      }
    },
    {
      "cell_type": "markdown",
      "source": [
        "Это задача попадает в разряд задач обучения без учителя.\n",
        "\n",
        "Сделать сеть, которую будем называть кодировщиком(инкодер). Она будет выдавать сжатое представление картинки(имбеддинг). Это изображение мы будем расшифровать при помощи сети, которая называется декодировщик(декодер). В результате мы должны получать такую же картинку, какая была на входе.\n",
        "\n",
        "В качестве лосс функции можно взять среднеквадратичную ошибку между тем, что было и что получилось.\n",
        "\n",
        "$$\n",
        "L = \\sum_j MSE(Img_j, \\widetilde{Img_j})\n",
        "$$"
      ],
      "metadata": {
        "id": "9XqMGp1rUlYY"
      }
    },
    {
      "cell_type": "markdown",
      "source": [
        "### Задача SuperResolution"
      ],
      "metadata": {
        "id": "XoyCo0WqVHAw"
      }
    },
    {
      "cell_type": "markdown",
      "source": [
        "увеличение изображения\n",
        "сжимаем картинки, отдаём нейросети и результат сравниваем с исходным"
      ],
      "metadata": {
        "id": "bGsdVlJyVVrO"
      }
    },
    {
      "cell_type": "markdown",
      "source": [
        "##Первое обучение нейронной сети"
      ],
      "metadata": {
        "id": "jZORpBVI9dRe"
      }
    },
    {
      "cell_type": "code",
      "source": [
        "%matplotlib inline\n",
        "\n",
        "import matplotlib.pyplot as plt\n",
        "import matplotlib\n",
        "matplotlib.rcParams['figure.figsize'] = (13.0, 5.0)\n",
        "# .rcParams - словарь из глобальный настроек графиков\n",
        "# figure.figsize - размер графика"
      ],
      "metadata": {
        "id": "BRupVwkUAmFa"
      },
      "execution_count": 58,
      "outputs": []
    },
    {
      "cell_type": "code",
      "source": [
        "import torch"
      ],
      "metadata": {
        "id": "a0BlnndzBNMQ"
      },
      "execution_count": 59,
      "outputs": []
    },
    {
      "cell_type": "markdown",
      "source": [
        "###Train dataset"
      ],
      "metadata": {
        "id": "Fl8WGuWaB_UG"
      }
    },
    {
      "cell_type": "code",
      "source": [
        "x_train = torch.rand(100)#для равномерного распределения берем сто рандомных чисел из [0,1]\n",
        "x_train = x_train * 20.0 - 10.0#точки расставляем примерно по центру графика\n",
        "\n",
        "y_train = torch.sin(x_train)#задача регрессии для синуса. y = sin(x)\n",
        "\n",
        "plt.plot(x_train.numpy(),y_train.numpy(), 'o')#cоздаем график,координаты по x и y,'o' - стиль(здесь точка)\n",
        "plt.title('y = sin(x)')"
      ],
      "metadata": {
        "colab": {
          "base_uri": "https://localhost:8080/",
          "height": 304
        },
        "id": "ErZvFUudCHSK",
        "outputId": "f2df73f7-a88f-4263-c1f6-16d665c45275"
      },
      "execution_count": 60,
      "outputs": [
        {
          "output_type": "execute_result",
          "data": {
            "text/plain": [
              "Text(0.5, 1.0, 'y = sin(x)')"
            ]
          },
          "metadata": {},
          "execution_count": 60
        },
        {
          "output_type": "display_data",
          "data": {
            "text/plain": [
              "<Figure size 1300x500 with 1 Axes>"
            ],
            "image/png": "[encoded data removed]"
          },
          "metadata": {}
        }
      ]
    },
    {
      "cell_type": "markdown",
      "source": [
        "Обучающая выборка простая, добавляем шума"
      ],
      "metadata": {
        "id": "fKG46qT6FwEN"
      }
    },
    {
      "cell_type": "code",
      "source": [
        "noise = torch.randn(y_train.shape) / 5#генерация из нормального распределения\n",
        "\n",
        "plt.plot(x_train.numpy(), noise.numpy(),'o')\n",
        "plt.axis([-10, 10, -1, 1])#задаем максимальные и минимальные значения осей по x и y\n",
        "plt.title('Gaussian noise')\n"
      ],
      "metadata": {
        "colab": {
          "base_uri": "https://localhost:8080/",
          "height": 300
        },
        "id": "Q8MwrDmhF8Yz",
        "outputId": "4415ff02-5ec4-41c9-fe29-7326eb3c9acf"
      },
      "execution_count": 61,
      "outputs": [
        {
          "output_type": "execute_result",
          "data": {
            "text/plain": [
              "Text(0.5, 1.0, 'Gaussian noise')"
            ]
          },
          "metadata": {},
          "execution_count": 61
        },
        {
          "output_type": "display_data",
          "data": {
            "text/plain": [
              "<Figure size 1300x500 with 1 Axes>"
            ],
            "image/png": "[encoded data removed]"
          },
          "metadata": {}
        }
      ]
    },
    {
      "cell_type": "code",
      "source": [
        "y_train = y_train + noise\n",
        "plt.plot(x_train.numpy(),y_train.numpy(),'o')\n",
        "plt.title('noise sin(x)')\n",
        "plt.xlabel('x_train')#оси\n",
        "plt.ylabel('y_train')\n"
      ],
      "metadata": {
        "colab": {
          "base_uri": "https://localhost:8080/",
          "height": 313
        },
        "id": "Qp2WB6yBH2RQ",
        "outputId": "d37dcd04-985a-4634-ea81-605b1d13f2da"
      },
      "execution_count": 62,
      "outputs": [
        {
          "output_type": "execute_result",
          "data": {
            "text/plain": [
              "Text(0, 0.5, 'y_train')"
            ]
          },
          "metadata": {},
          "execution_count": 62
        },
        {
          "output_type": "display_data",
          "data": {
            "text/plain": [
              "<Figure size 1300x500 with 1 Axes>"
            ],
            "image/png": "[encoded data removed]"
          },
          "metadata": {}
        }
      ]
    },
    {
      "cell_type": "code",
      "source": [
        "x_train.unsqueeze_(1) #трансплонирование одномерного вектора\n",
        "y_train.unsqueeze_(1);"
      ],
      "metadata": {
        "id": "rPEExHUmKapU"
      },
      "execution_count": 63,
      "outputs": []
    },
    {
      "cell_type": "code",
      "source": [
        "tmp = torch.Tensor([1, 2, 3])\n",
        "print(tmp)\n",
        "print(tmp.unsqueeze(1))"
      ],
      "metadata": {
        "colab": {
          "base_uri": "https://localhost:8080/"
        },
        "id": "M5b_LFROLGiD",
        "outputId": "c8161f9f-ed71-43a0-c019-6bc21ab6e482"
      },
      "execution_count": 64,
      "outputs": [
        {
          "output_type": "stream",
          "name": "stdout",
          "text": [
            "tensor([1., 2., 3.])\n",
            "tensor([[1.],\n",
            "        [2.],\n",
            "        [3.]])\n"
          ]
        }
      ]
    },
    {
      "cell_type": "markdown",
      "source": [
        "###Validation dataset"
      ],
      "metadata": {
        "id": "40FoDge-LqFB"
      }
    },
    {
      "cell_type": "code",
      "source": [
        "x_validation = torch.linspace(-10,10,100)#сто точек равномерно распределены [-10;10]\n",
        "y_validation = torch.sin(x_validation.data)\n",
        "plt.plot(x_validation.numpy(), y_validation.numpy(), 'o')\n",
        "plt.title('validation sin(x)')\n",
        "plt.xlabel('x_validation')\n",
        "plt.ylabel('y_validation')"
      ],
      "metadata": {
        "colab": {
          "base_uri": "https://localhost:8080/",
          "height": 310
        },
        "id": "3M2G7ST7MDYV",
        "outputId": "ba3f866b-167e-4bd1-e17b-f226f04de31b"
      },
      "execution_count": 65,
      "outputs": [
        {
          "output_type": "execute_result",
          "data": {
            "text/plain": [
              "Text(0, 0.5, 'y_validation')"
            ]
          },
          "metadata": {},
          "execution_count": 65
        },
        {
          "output_type": "display_data",
          "data": {
            "text/plain": [
              "<Figure size 1300x500 with 1 Axes>"
            ],
            "image/png": "[encoded data removed]"
          },
          "metadata": {}
        }
      ]
    },
    {
      "cell_type": "code",
      "source": [
        "x_validation.unsqueeze_(1)#_означает трансформацию объекта\n",
        "y_validation.unsqueeze_(1);#установка правильной размерности"
      ],
      "metadata": {
        "id": "BcLR4BO5NljN"
      },
      "execution_count": 66,
      "outputs": []
    },
    {
      "cell_type": "markdown",
      "source": [
        "### model construction"
      ],
      "metadata": {
        "id": "qZyqQvEgNY7h"
      }
    },
    {
      "cell_type": "code",
      "source": [
        "class SineNet(torch.nn.Module): #создаем класс,наследуем от данного модуля, потому что в нём есть необходимые нам модули\n",
        "  def __init__(self, n_hidden_neurons): #функция инициализации. В неё передаются те аргументы, что используются в момент конструирования нейросети\n",
        "    #мы передаём количество нейронов скрытого слоя\n",
        "    #мы предполагаем, что все слои будут одинакового размера\n",
        "    #когда мы создаём слои, они инициализируются некоторыми случайными числами\n",
        "\n",
        "    super(SineNet, self).__init__() #инициализируем родительский объект\n",
        "\n",
        "    #создание слоев\n",
        "    #первый слой fc1\n",
        "    self.fc1 = torch.nn.Linear(1, n_hidden_neurons) #в пайторче полносвязные слой называется Linear\n",
        "    #мы передаём количество входных нейронов(1) и количество выходных нейронов (n_hidden_neurons)\n",
        "    #это по сути не сам нейрон, а вход в него, координата нашей точки, по которой мы будем что-то предсказывать\n",
        "\n",
        "    #функция активации\n",
        "    self.act1 = torch.nn.Sigmoid() # сигмоидная функция активации\n",
        "\n",
        "    #еще один полносвязнный слой. Один нейрон и есть ответ на вопрос\n",
        "    self.fc2 = torch.nn.Linear(n_hidden_neurons, 1)\n",
        "\n",
        "  #пишем функцию, в которой все слои будут последовательно применятся\n",
        "  def forward(self, x):\n",
        "    x = self.fc1(x)\n",
        "    x = self.act1(x)\n",
        "    x = self.fc2(x)\n",
        "    return x\n",
        "\n",
        "sine_net = SineNet(50) #создание нейросети\n",
        "\n",
        "\n"
      ],
      "metadata": {
        "id": "jFcisKeBNux0"
      },
      "execution_count": 67,
      "outputs": []
    },
    {
      "cell_type": "markdown",
      "source": [
        "### Зачем мы делим датасет на 3 части"
      ],
      "metadata": {
        "id": "AVHuRiPa7Sg6"
      }
    },
    {
      "cell_type": "markdown",
      "source": [
        "* Validation нужна, чтобы подобрать гиперпараметры сети\n",
        "\n",
        "  В процессе экспериментов с сетью мы могли \"подогнать\" гиперпараметры под данные в validation. Значит, чтобы получить \"честное\" качество, нам нужен test\n",
        "\n",
        "  Если бы мы обучались на полном датасете и на нем же валидировались, то не заметили бы переобучения (когда сетка \"запомнила\" выборку)\n",
        "\n",
        "  Validation нужна, чтобы посмотреть качество работы сетки на данных, которых не было в обучении\n",
        "\n",
        "* Train нужен для обучения\n",
        "\n",
        "* Test нужен для финальной оценки качества работы сети"
      ],
      "metadata": {
        "id": "_JAl9zwK6kKs"
      }
    },
    {
      "cell_type": "code",
      "source": [
        "def predict(net, x, y):\n",
        "  y_pred = net.forward(x)\n",
        "# рисует сам Prediction\n",
        "  plt.plot(x.numpy(), y.numpy(), 'o', label='Ground truth')#то, что мы бы хотели на валидации увидеть\n",
        "  plt.plot(x.numpy(), y_pred.data.numpy(), 'o',\n",
        "           c = 'r', label='Prediction');#то, что сеть предсказала\n",
        "  plt.legend(loc = 'upper left')\n",
        "  plt.xlabel('$x$')\n",
        "  plt.ylabel('$y$')\n",
        "\n",
        "predict(sine_net, x_validation, y_validation)"
      ],
      "metadata": {
        "colab": {
          "base_uri": "https://localhost:8080/",
          "height": 280
        },
        "id": "c2Y6bGDf7LTe",
        "outputId": "ecb1dcfd-2175-4eb0-ee5b-4ccf0f2b912c"
      },
      "execution_count": 68,
      "outputs": [
        {
          "output_type": "display_data",
          "data": {
            "text/plain": [
              "<Figure size 1300x500 with 1 Axes>"
            ],
            "image/png": "[encoded data removed]"
          },
          "metadata": {}
        }
      ]
    },
    {
      "cell_type": "markdown",
      "source": [
        "### Optimizer"
      ],
      "metadata": {
        "id": "onsvLcE7ID0e"
      }
    },
    {
      "cell_type": "code",
      "source": [
        "optimizer = torch.optim.Adam(sine_net.parameters(), lr = 0.01)\n",
        "#оптимизатор - объект, который реализует шаги градиентного спуска\n",
        "#.parametrs - мы влияем именно на веса нейронной сети"
      ],
      "metadata": {
        "id": "vzieo7S6LxoS"
      },
      "execution_count": 69,
      "outputs": []
    },
    {
      "cell_type": "markdown",
      "source": [
        "### Loss function"
      ],
      "metadata": {
        "id": "Z32QXfdGTfsf"
      }
    },
    {
      "cell_type": "code",
      "source": [
        "def loss(pred, target):\n",
        "  squares = (pred - target)** 2 #MSE\n",
        "  return squares.mean()"
      ],
      "metadata": {
        "id": "Q2A3okmWTesO"
      },
      "execution_count": 70,
      "outputs": []
    },
    {
      "cell_type": "markdown",
      "source": [
        "### Training procedure"
      ],
      "metadata": {
        "id": "YPjzH1CzVwXb"
      }
    },
    {
      "cell_type": "code",
      "source": [
        "for epoch_index in range(2000):#у нас 2000 эпох\n",
        "    optimizer.zero_grad() #зануляем градиент\n",
        "\n",
        "    y_pred = sine_net.forward(x_train) #считываем наш датасет\n",
        "\n",
        "    loss_val = loss(y_pred, y_train) #значение потерь\n",
        "\n",
        "    loss_val.backward() #считаем градиенты\n",
        "\n",
        "    optimizer.step() #шаг градиента\n",
        "\n",
        "predict(sine_net, x_validation, y_validation)"
      ],
      "metadata": {
        "colab": {
          "base_uri": "https://localhost:8080/",
          "height": 282
        },
        "id": "ZADS_6HMV6iF",
        "outputId": "95c69316-f65e-4d7d-eeb2-20c29acaee05"
      },
      "execution_count": 71,
      "outputs": [
        {
          "output_type": "display_data",
          "data": {
            "text/plain": [
              "<Figure size 1300x500 with 1 Axes>"
            ],
            "image/png": "[encoded data removed]"
          },
          "metadata": {}
        }
      ]
    },
    {
      "cell_type": "markdown",
      "source": [
        "## Классификация в PyTorch"
      ],
      "metadata": {
        "id": "CKHyyOS15OUy"
      }
    },
    {
      "cell_type": "code",
      "source": [
        "import torch\n",
        "import random\n",
        "import numpy as np\n",
        "#мы всегда будем использовать нулевую последовательность при вызове генератора random\n",
        "random.seed(0)#фиксируем сиды генератора случайных чисел python\n",
        "np.random.seed(0)#фиксируем сиды генератора случайных чисел  NumPy\n",
        "torch.manual_seed(0)#фиксируем сиды генератора случайных чисел PyTorch на cpu\n",
        "torch.cuda.manual_seed(0)#для gpu\n",
        "torch.backends.cudnn.deterministic = True#дает возможность воспроизведения при использовании библиотеки CuDNN для вычисления на gpu"
      ],
      "metadata": {
        "id": "D0EwKYoE9WI1"
      },
      "execution_count": 72,
      "outputs": []
    },
    {
      "cell_type": "markdown",
      "source": [
        "### Для задач классификации используем датасет Wine"
      ],
      "metadata": {
        "id": "vd2NjNLIBinm"
      }
    },
    {
      "cell_type": "code",
      "source": [
        "import sklearn.datasets #модуль с датасетом wine\n",
        "wine = sklearn.datasets.load_wine()#импортируем датасет wine\n",
        "wine.data.shape#есть 178 бутылок вин(каждая имеет 13 параметров), каждую можно классифицировать на три класса"
      ],
      "metadata": {
        "colab": {
          "base_uri": "https://localhost:8080/"
        },
        "id": "dycIYM6xBgWD",
        "outputId": "1d632d3d-1f6d-42d1-9e17-d820bd285e3d"
      },
      "execution_count": 73,
      "outputs": [
        {
          "output_type": "execute_result",
          "data": {
            "text/plain": [
              "(178, 13)"
            ]
          },
          "metadata": {},
          "execution_count": 73
        }
      ]
    },
    {
      "cell_type": "code",
      "source": [
        "from sklearn.model_selection import train_test_split #импорт необходимой функции\n",
        "\n",
        "X_train, X_test, Y_train, Y_test = train_test_split( #разбиваем на train и test датасеты\n",
        "    wine.data[:, :2], #берем две колонки из 13 (для удобства визуализации)\n",
        "    wine.target, #те классы, которые нам надо предсказать, их номера\n",
        "    test_size = 0.3, #отрежем 30% для test\n",
        "    shuffle = True #перемешиваем датасет на случай, если он был отсортирован\n",
        ")\n",
        "X_train = torch.FloatTensor(X_train) #дробные\n",
        "X_test = torch.FloatTensor(X_test)\n",
        "Y_train = torch.LongTensor(Y_train) #целые\n",
        "Y_test = torch.LongTensor(Y_test)"
      ],
      "metadata": {
        "id": "rWodpULBNWt8"
      },
      "execution_count": 74,
      "outputs": []
    },
    {
      "cell_type": "code",
      "source": [
        "class WineNet(torch.nn.Module):\n",
        "  def __init__(self, n_hidden_neurons):\n",
        "    super(WineNet, self).__init__()\n",
        "    self.fc1 = torch.nn.Linear(2, n_hidden_neurons)#на входе две колонки\n",
        "    self.act1 = torch.nn.Sigmoid()#можно что угодно\n",
        "    self.fc2 = torch.nn.Linear(n_hidden_neurons, n_hidden_neurons)\n",
        "    self.act2 = torch.nn.Sigmoid()\n",
        "    self.fc3 = torch.nn.Linear(n_hidden_neurons,3)#выдает 3 нейрона(отвеают за свои классы)\n",
        "    self.sm3 = torch.nn.Softmax(dim=1)#к каждой строке применяем\n",
        "\n",
        "  def forward(self, x):\n",
        "    x = self.fc1(x)\n",
        "    x = self.act1(x)\n",
        "    x = self.fc2(x)\n",
        "    x = self.act2(x)\n",
        "    x = self.fc3(x)\n",
        "    return x\n",
        "    #экспаненты и логарифмы взаимоуничтожаются, поэтому можем вычислить кросс энтропию, не считая софтмакс\n",
        "    #софтмакс долгая для вычисления, её нужно стараться избегать\n",
        "  def inference(self, x):#софтмакс долгая, поэтому отдельно\n",
        "    x = self.forward(x)\n",
        "    x = self.sm(x)\n",
        "    return x\n",
        "wine_net = WineNet(5)\n"
      ],
      "metadata": {
        "id": "aezmHjymOmrd"
      },
      "execution_count": 75,
      "outputs": []
    },
    {
      "cell_type": "code",
      "source": [
        "loss = torch.nn.CrossEntropyLoss()#использует не выходы после софтмакса, а выходы нейронной сети еще до прохода в софтмакс\n",
        "\n",
        "optimizer = torch.optim.Adam(wine_net.parameters(), lr=0.01)#0.01 -  cтандартное значение\n"
      ],
      "metadata": {
        "id": "x6c_uM3-QTRV"
      },
      "execution_count": 76,
      "outputs": []
    },
    {
      "cell_type": "code",
      "source": [
        "np.random.permutation(5)"
      ],
      "metadata": {
        "colab": {
          "base_uri": "https://localhost:8080/"
        },
        "id": "zYfvQFcwSmmt",
        "outputId": "247d2e11-f75b-44d5-c4bf-4672dfce5240"
      },
      "execution_count": 77,
      "outputs": [
        {
          "output_type": "execute_result",
          "data": {
            "text/plain": [
              "array([2, 0, 1, 4, 3])"
            ]
          },
          "metadata": {},
          "execution_count": 77
        }
      ]
    },
    {
      "cell_type": "code",
      "source": [
        "batch_size = 10 #вырезаем из нашего датасета участки длиной batch_size\n",
        "\n",
        "for epoch in range(10000):\n",
        "  order = np.random.permutation(len(X_train)) #порядок индексов, которые нужно применить к датасету\n",
        "  for start_index in range(0, len(X_train), batch_size):\n",
        "    optimizer.zero_grad()\n",
        "\n",
        "    batch_indexes = order[start_index:start_index + batch_size]#индексы, соответствующие конкретному batch\n",
        "\n",
        "    x_batch = X_train[batch_indexes]#получаем и данные и ответ\n",
        "    y_batch = Y_train[batch_indexes]\n",
        "\n",
        "    preds = wine_net.forward(x_batch)#пропускаем весь batch через сеть(выходы на последних трех нейронах)\n",
        "\n",
        "    loss_val = loss(preds, y_batch)\n",
        "    loss_val.backward()\n",
        "\n",
        "    optimizer.step()#шаг градиентного спуска\n",
        "\n",
        "#выисляем метрики на тест датасете, чтоб посмотреть обучаеется сеть или нет\n",
        "  if epoch % 100 == 0:#\n",
        "    test_preds = wine_net.forward(X_test)#каждые сто эпох\n",
        "    test_preds = test_preds.argmax(dim=1) #выисляем максимальный выход\n",
        "    # чтобы понять какой класс предсказывает нейросеть не обязательно вычислять через софтмакс вероятность\n",
        "    # макс выход и есть выход с макс вероятностью\n",
        "    print((test_preds == Y_test).float().mean())#совпадение нейрона с макс выходом с правильным классом"
      ],
      "metadata": {
        "colab": {
          "base_uri": "https://localhost:8080/",
          "height": 1000
        },
        "id": "GqWzs-ABVf0y",
        "outputId": "d053a2de-6006-45d5-99ce-ea566b35a8f9"
      },
      "execution_count": 94,
      "outputs": [
        {
          "output_type": "stream",
          "name": "stdout",
          "text": [
            "tensor(0.8333)\n",
            "tensor(0.8148)\n",
            "tensor(0.8148)\n",
            "tensor(0.8333)\n",
            "tensor(0.8333)\n",
            "tensor(0.8519)\n",
            "tensor(0.8519)\n",
            "tensor(0.8519)\n",
            "tensor(0.8333)\n",
            "tensor(0.8519)\n",
            "tensor(0.8519)\n",
            "tensor(0.8148)\n",
            "tensor(0.8333)\n",
            "tensor(0.8148)\n",
            "tensor(0.8519)\n",
            "tensor(0.8519)\n",
            "tensor(0.8148)\n",
            "tensor(0.8519)\n",
            "tensor(0.8333)\n",
            "tensor(0.8519)\n",
            "tensor(0.8519)\n",
            "tensor(0.8333)\n",
            "tensor(0.8333)\n",
            "tensor(0.8519)\n",
            "tensor(0.8148)\n",
            "tensor(0.8519)\n",
            "tensor(0.7963)\n",
            "tensor(0.8148)\n",
            "tensor(0.8333)\n",
            "tensor(0.8333)\n",
            "tensor(0.8333)\n",
            "tensor(0.8519)\n",
            "tensor(0.8519)\n",
            "tensor(0.8333)\n",
            "tensor(0.8333)\n",
            "tensor(0.8333)\n",
            "tensor(0.8148)\n",
            "tensor(0.8519)\n",
            "tensor(0.8519)\n",
            "tensor(0.8333)\n",
            "tensor(0.8519)\n",
            "tensor(0.8519)\n",
            "tensor(0.8148)\n",
            "tensor(0.8333)\n",
            "tensor(0.8148)\n",
            "tensor(0.8333)\n",
            "tensor(0.8519)\n",
            "tensor(0.8148)\n",
            "tensor(0.8148)\n",
            "tensor(0.8333)\n",
            "tensor(0.8333)\n",
            "tensor(0.8333)\n",
            "tensor(0.8333)\n",
            "tensor(0.8148)\n",
            "tensor(0.8333)\n",
            "tensor(0.8333)\n",
            "tensor(0.8333)\n",
            "tensor(0.8519)\n",
            "tensor(0.8148)\n",
            "tensor(0.8519)\n",
            "tensor(0.8333)\n",
            "tensor(0.8333)\n",
            "tensor(0.8333)\n",
            "tensor(0.8519)\n",
            "tensor(0.8333)\n",
            "tensor(0.8333)\n",
            "tensor(0.8148)\n",
            "tensor(0.8519)\n",
            "tensor(0.8519)\n",
            "tensor(0.8519)\n",
            "tensor(0.8519)\n",
            "tensor(0.8519)\n",
            "tensor(0.8333)\n",
            "tensor(0.8519)\n",
            "tensor(0.8333)\n",
            "tensor(0.8519)\n",
            "tensor(0.8333)\n",
            "tensor(0.8148)\n",
            "tensor(0.8333)\n",
            "tensor(0.8148)\n",
            "tensor(0.8333)\n"
          ]
        },
        {
          "output_type": "error",
          "ename": "KeyboardInterrupt",
          "evalue": "ignored",
          "traceback": [
            "\u001b[0;31m---------------------------------------------------------------------------\u001b[0m",
            "\u001b[0;31mKeyboardInterrupt\u001b[0m                         Traceback (most recent call last)",
            "\u001b[0;32m<ipython-input-94-740ee7ed3d4a>\u001b[0m in \u001b[0;36m<cell line: 3>\u001b[0;34m()\u001b[0m\n\u001b[1;32m     16\u001b[0m     \u001b[0mloss_val\u001b[0m\u001b[0;34m.\u001b[0m\u001b[0mbackward\u001b[0m\u001b[0;34m(\u001b[0m\u001b[0;34m)\u001b[0m\u001b[0;34m\u001b[0m\u001b[0;34m\u001b[0m\u001b[0m\n\u001b[1;32m     17\u001b[0m \u001b[0;34m\u001b[0m\u001b[0m\n\u001b[0;32m---> 18\u001b[0;31m     \u001b[0moptimizer\u001b[0m\u001b[0;34m.\u001b[0m\u001b[0mstep\u001b[0m\u001b[0;34m(\u001b[0m\u001b[0;34m)\u001b[0m\u001b[0;31m#шаг градиентного спуска\u001b[0m\u001b[0;34m\u001b[0m\u001b[0;34m\u001b[0m\u001b[0m\n\u001b[0m\u001b[1;32m     19\u001b[0m \u001b[0;34m\u001b[0m\u001b[0m\n\u001b[1;32m     20\u001b[0m \u001b[0;31m#выисляем метрики на тест датасете, чтоб посмотреть обучаеется сеть или нет\u001b[0m\u001b[0;34m\u001b[0m\u001b[0;34m\u001b[0m\u001b[0m\n",
            "\u001b[0;32m/usr/local/lib/python3.10/dist-packages/torch/optim/optimizer.py\u001b[0m in \u001b[0;36mwrapper\u001b[0;34m(*args, **kwargs)\u001b[0m\n\u001b[1;32m    278\u001b[0m                                                f\"but got {result}.\")\n\u001b[1;32m    279\u001b[0m \u001b[0;34m\u001b[0m\u001b[0m\n\u001b[0;32m--> 280\u001b[0;31m                 \u001b[0mout\u001b[0m \u001b[0;34m=\u001b[0m \u001b[0mfunc\u001b[0m\u001b[0;34m(\u001b[0m\u001b[0;34m*\u001b[0m\u001b[0margs\u001b[0m\u001b[0;34m,\u001b[0m \u001b[0;34m**\u001b[0m\u001b[0mkwargs\u001b[0m\u001b[0;34m)\u001b[0m\u001b[0;34m\u001b[0m\u001b[0;34m\u001b[0m\u001b[0m\n\u001b[0m\u001b[1;32m    281\u001b[0m                 \u001b[0mself\u001b[0m\u001b[0;34m.\u001b[0m\u001b[0m_optimizer_step_code\u001b[0m\u001b[0;34m(\u001b[0m\u001b[0;34m)\u001b[0m\u001b[0;34m\u001b[0m\u001b[0;34m\u001b[0m\u001b[0m\n\u001b[1;32m    282\u001b[0m \u001b[0;34m\u001b[0m\u001b[0m\n",
            "\u001b[0;32m/usr/local/lib/python3.10/dist-packages/torch/optim/optimizer.py\u001b[0m in \u001b[0;36m_use_grad\u001b[0;34m(self, *args, **kwargs)\u001b[0m\n\u001b[1;32m     31\u001b[0m         \u001b[0;32mtry\u001b[0m\u001b[0;34m:\u001b[0m\u001b[0;34m\u001b[0m\u001b[0;34m\u001b[0m\u001b[0m\n\u001b[1;32m     32\u001b[0m             \u001b[0mtorch\u001b[0m\u001b[0;34m.\u001b[0m\u001b[0mset_grad_enabled\u001b[0m\u001b[0;34m(\u001b[0m\u001b[0mself\u001b[0m\u001b[0;34m.\u001b[0m\u001b[0mdefaults\u001b[0m\u001b[0;34m[\u001b[0m\u001b[0;34m'differentiable'\u001b[0m\u001b[0;34m]\u001b[0m\u001b[0;34m)\u001b[0m\u001b[0;34m\u001b[0m\u001b[0;34m\u001b[0m\u001b[0m\n\u001b[0;32m---> 33\u001b[0;31m             \u001b[0mret\u001b[0m \u001b[0;34m=\u001b[0m \u001b[0mfunc\u001b[0m\u001b[0;34m(\u001b[0m\u001b[0mself\u001b[0m\u001b[0;34m,\u001b[0m \u001b[0;34m*\u001b[0m\u001b[0margs\u001b[0m\u001b[0;34m,\u001b[0m \u001b[0;34m**\u001b[0m\u001b[0mkwargs\u001b[0m\u001b[0;34m)\u001b[0m\u001b[0;34m\u001b[0m\u001b[0;34m\u001b[0m\u001b[0m\n\u001b[0m\u001b[1;32m     34\u001b[0m         \u001b[0;32mfinally\u001b[0m\u001b[0;34m:\u001b[0m\u001b[0;34m\u001b[0m\u001b[0;34m\u001b[0m\u001b[0m\n\u001b[1;32m     35\u001b[0m             \u001b[0mtorch\u001b[0m\u001b[0;34m.\u001b[0m\u001b[0mset_grad_enabled\u001b[0m\u001b[0;34m(\u001b[0m\u001b[0mprev_grad\u001b[0m\u001b[0;34m)\u001b[0m\u001b[0;34m\u001b[0m\u001b[0;34m\u001b[0m\u001b[0m\n",
            "\u001b[0;32m/usr/local/lib/python3.10/dist-packages/torch/optim/adam.py\u001b[0m in \u001b[0;36mstep\u001b[0;34m(self, closure)\u001b[0m\n\u001b[1;32m    139\u001b[0m                 state_steps)\n\u001b[1;32m    140\u001b[0m \u001b[0;34m\u001b[0m\u001b[0m\n\u001b[0;32m--> 141\u001b[0;31m             adam(\n\u001b[0m\u001b[1;32m    142\u001b[0m                 \u001b[0mparams_with_grad\u001b[0m\u001b[0;34m,\u001b[0m\u001b[0;34m\u001b[0m\u001b[0;34m\u001b[0m\u001b[0m\n\u001b[1;32m    143\u001b[0m                 \u001b[0mgrads\u001b[0m\u001b[0;34m,\u001b[0m\u001b[0;34m\u001b[0m\u001b[0;34m\u001b[0m\u001b[0m\n",
            "\u001b[0;32m/usr/local/lib/python3.10/dist-packages/torch/optim/adam.py\u001b[0m in \u001b[0;36madam\u001b[0;34m(params, grads, exp_avgs, exp_avg_sqs, max_exp_avg_sqs, state_steps, foreach, capturable, differentiable, fused, grad_scale, found_inf, amsgrad, beta1, beta2, lr, weight_decay, eps, maximize)\u001b[0m\n\u001b[1;32m    279\u001b[0m         \u001b[0mfunc\u001b[0m \u001b[0;34m=\u001b[0m \u001b[0m_single_tensor_adam\u001b[0m\u001b[0;34m\u001b[0m\u001b[0;34m\u001b[0m\u001b[0m\n\u001b[1;32m    280\u001b[0m \u001b[0;34m\u001b[0m\u001b[0m\n\u001b[0;32m--> 281\u001b[0;31m     func(params,\n\u001b[0m\u001b[1;32m    282\u001b[0m          \u001b[0mgrads\u001b[0m\u001b[0;34m,\u001b[0m\u001b[0;34m\u001b[0m\u001b[0;34m\u001b[0m\u001b[0m\n\u001b[1;32m    283\u001b[0m          \u001b[0mexp_avgs\u001b[0m\u001b[0;34m,\u001b[0m\u001b[0;34m\u001b[0m\u001b[0;34m\u001b[0m\u001b[0m\n",
            "\u001b[0;32m/usr/local/lib/python3.10/dist-packages/torch/optim/adam.py\u001b[0m in \u001b[0;36m_single_tensor_adam\u001b[0;34m(params, grads, exp_avgs, exp_avg_sqs, max_exp_avg_sqs, state_steps, grad_scale, found_inf, amsgrad, beta1, beta2, lr, weight_decay, eps, maximize, capturable, differentiable)\u001b[0m\n\u001b[1;32m    342\u001b[0m \u001b[0;34m\u001b[0m\u001b[0m\n\u001b[1;32m    343\u001b[0m         \u001b[0;31m# Decay the first and second moment running average coefficient\u001b[0m\u001b[0;34m\u001b[0m\u001b[0;34m\u001b[0m\u001b[0m\n\u001b[0;32m--> 344\u001b[0;31m         \u001b[0mexp_avg\u001b[0m\u001b[0;34m.\u001b[0m\u001b[0mmul_\u001b[0m\u001b[0;34m(\u001b[0m\u001b[0mbeta1\u001b[0m\u001b[0;34m)\u001b[0m\u001b[0;34m.\u001b[0m\u001b[0madd_\u001b[0m\u001b[0;34m(\u001b[0m\u001b[0mgrad\u001b[0m\u001b[0;34m,\u001b[0m \u001b[0malpha\u001b[0m\u001b[0;34m=\u001b[0m\u001b[0;36m1\u001b[0m \u001b[0;34m-\u001b[0m \u001b[0mbeta1\u001b[0m\u001b[0;34m)\u001b[0m\u001b[0;34m\u001b[0m\u001b[0;34m\u001b[0m\u001b[0m\n\u001b[0m\u001b[1;32m    345\u001b[0m         \u001b[0mexp_avg_sq\u001b[0m\u001b[0;34m.\u001b[0m\u001b[0mmul_\u001b[0m\u001b[0;34m(\u001b[0m\u001b[0mbeta2\u001b[0m\u001b[0;34m)\u001b[0m\u001b[0;34m.\u001b[0m\u001b[0maddcmul_\u001b[0m\u001b[0;34m(\u001b[0m\u001b[0mgrad\u001b[0m\u001b[0;34m,\u001b[0m \u001b[0mgrad\u001b[0m\u001b[0;34m.\u001b[0m\u001b[0mconj\u001b[0m\u001b[0;34m(\u001b[0m\u001b[0;34m)\u001b[0m\u001b[0;34m,\u001b[0m \u001b[0mvalue\u001b[0m\u001b[0;34m=\u001b[0m\u001b[0;36m1\u001b[0m \u001b[0;34m-\u001b[0m \u001b[0mbeta2\u001b[0m\u001b[0;34m)\u001b[0m\u001b[0;34m\u001b[0m\u001b[0;34m\u001b[0m\u001b[0m\n\u001b[1;32m    346\u001b[0m \u001b[0;34m\u001b[0m\u001b[0m\n",
            "\u001b[0;31mKeyboardInterrupt\u001b[0m: "
          ]
        }
      ]
    },
    {
      "cell_type": "code",
      "source": [
        "import numpy as np\n",
        "import matplotlib.pyplot as plt\n",
        "\n",
        "# Задаем размеры графика\n",
        "plt.rcParams['figure.figsize'] = (10, 8)\n",
        "\n",
        "# Задаем количество классов, цвета и шаг для отображения\n",
        "n_classes = 3\n",
        "plot_colors = ['g', 'orange', 'black']\n",
        "plot_step = 0.02\n",
        "\n",
        "# Определяем диапазоны значений для осей x и y\n",
        "x_min, x_max = X_train[:, 0].min() - 1, X_train[:, 0].max() + 1\n",
        "y_min, y_max = X_train[:, 1].min() - 1, X_train[:, 1].max() + 1\n",
        "\n",
        "# Создаем сетку точек для отображения\n",
        "xx, yy = np.meshgrid(np.arange(x_min, x_max, plot_step),\n",
        "                     np.arange(y_min, y_max, plot_step))\n",
        "\n",
        "# Преобразуем входные данные в тензор PyTorch\n",
        "input_data = torch.tensor(np.c_[xx.ravel(), yy.ravel()], dtype=torch.float32)\n",
        "\n",
        "# Передаем данные через модель\n",
        "with torch.no_grad():\n",
        "    intermediate = wine_net.fc1(input_data)\n",
        "    intermediate = wine_net.act1(intermediate)\n",
        "    preds = wine_net.fc3(intermediate)\n",
        "    preds = wine_net.sm(preds)  # Применяем софтмакс для получения вероятностей классов\n",
        "\n",
        "# Преобразуем предсказания в массив NumPy\n",
        "preds_class = preds.argmax(dim=1).detach().numpy()\n",
        "preds_class = preds_class.reshape(xx.shape)\n",
        "\n",
        "# Отображаем контурные линии предсказанных классов\n",
        "plt.contourf(xx, yy, preds_class, cmap='Accent')\n",
        "\n",
        "# Отображаем обучающие точки\n",
        "for i, color in zip(range(n_classes), plot_colors):\n",
        "    indexes = np.where(Y_train == i)\n",
        "    plt.scatter(X_train[indexes, 0],\n",
        "                X_train[indexes, 1],\n",
        "                c=color,\n",
        "                label=wine.target_names[i],\n",
        "                cmap='Accent')\n",
        "\n",
        "# Добавляем подписи осей и легенду\n",
        "plt.xlabel(wine.feature_names[0])\n",
        "plt.ylabel(wine.feature_names[1])\n",
        "plt.legend()\n",
        "\n",
        "# Отображаем график\n",
        "plt.show()\n"
      ],
      "metadata": {
        "colab": {
          "base_uri": "https://localhost:8080/",
          "height": 391
        },
        "id": "wk-OTKGfEzc6",
        "outputId": "fe154208-5c7b-4a95-d3cc-a15b380387e1"
      },
      "execution_count": 95,
      "outputs": [
        {
          "output_type": "error",
          "ename": "AttributeError",
          "evalue": "ignored",
          "traceback": [
            "\u001b[0;31m---------------------------------------------------------------------------\u001b[0m",
            "\u001b[0;31mAttributeError\u001b[0m                            Traceback (most recent call last)",
            "\u001b[0;32m<ipython-input-95-8acdcb632144>\u001b[0m in \u001b[0;36m<cell line: 24>\u001b[0;34m()\u001b[0m\n\u001b[1;32m     26\u001b[0m     \u001b[0mintermediate\u001b[0m \u001b[0;34m=\u001b[0m \u001b[0mwine_net\u001b[0m\u001b[0;34m.\u001b[0m\u001b[0mact1\u001b[0m\u001b[0;34m(\u001b[0m\u001b[0mintermediate\u001b[0m\u001b[0;34m)\u001b[0m\u001b[0;34m\u001b[0m\u001b[0;34m\u001b[0m\u001b[0m\n\u001b[1;32m     27\u001b[0m     \u001b[0mpreds\u001b[0m \u001b[0;34m=\u001b[0m \u001b[0mwine_net\u001b[0m\u001b[0;34m.\u001b[0m\u001b[0mfc3\u001b[0m\u001b[0;34m(\u001b[0m\u001b[0mintermediate\u001b[0m\u001b[0;34m)\u001b[0m\u001b[0;34m\u001b[0m\u001b[0;34m\u001b[0m\u001b[0m\n\u001b[0;32m---> 28\u001b[0;31m     \u001b[0mpreds\u001b[0m \u001b[0;34m=\u001b[0m \u001b[0mwine_net\u001b[0m\u001b[0;34m.\u001b[0m\u001b[0msm\u001b[0m\u001b[0;34m(\u001b[0m\u001b[0mpreds\u001b[0m\u001b[0;34m)\u001b[0m  \u001b[0;31m# Применяем софтмакс для получения вероятностей классов\u001b[0m\u001b[0;34m\u001b[0m\u001b[0;34m\u001b[0m\u001b[0m\n\u001b[0m\u001b[1;32m     29\u001b[0m \u001b[0;34m\u001b[0m\u001b[0m\n\u001b[1;32m     30\u001b[0m \u001b[0;31m# Преобразуем предсказания в массив NumPy\u001b[0m\u001b[0;34m\u001b[0m\u001b[0;34m\u001b[0m\u001b[0m\n",
            "\u001b[0;32m/usr/local/lib/python3.10/dist-packages/torch/nn/modules/module.py\u001b[0m in \u001b[0;36m__getattr__\u001b[0;34m(self, name)\u001b[0m\n\u001b[1;32m   1612\u001b[0m             \u001b[0;32mif\u001b[0m \u001b[0mname\u001b[0m \u001b[0;32min\u001b[0m \u001b[0mmodules\u001b[0m\u001b[0;34m:\u001b[0m\u001b[0;34m\u001b[0m\u001b[0;34m\u001b[0m\u001b[0m\n\u001b[1;32m   1613\u001b[0m                 \u001b[0;32mreturn\u001b[0m \u001b[0mmodules\u001b[0m\u001b[0;34m[\u001b[0m\u001b[0mname\u001b[0m\u001b[0;34m]\u001b[0m\u001b[0;34m\u001b[0m\u001b[0;34m\u001b[0m\u001b[0m\n\u001b[0;32m-> 1614\u001b[0;31m         raise AttributeError(\"'{}' object has no attribute '{}'\".format(\n\u001b[0m\u001b[1;32m   1615\u001b[0m             type(self).__name__, name))\n\u001b[1;32m   1616\u001b[0m \u001b[0;34m\u001b[0m\u001b[0m\n",
            "\u001b[0;31mAttributeError\u001b[0m: 'WineNet' object has no attribute 'sm'"
          ]
        }
      ]
    },
    {
      "cell_type": "code",
      "source": [
        "import torch\n",
        "import numpy as np\n",
        "import matplotlib.pyplot as plt\n",
        "%matplotlib inline\n",
        "\n",
        "# Задаем размеры графика\n",
        "plt.rcParams['figure.figsize'] = (10, 8)\n",
        "\n",
        "# Задаем количество классов, цвета и шаг для отображения\n",
        "n_classes = 3\n",
        "plot_colors = ['g', 'orange', 'black']\n",
        "plot_step = 0.02\n",
        "\n",
        "# Определяем диапазоны значений для осей x и y\n",
        "x_min, x_max = X_train[:, 0].min() - 1, X_train[:, 0].max() + 1\n",
        "y_min, y_max = X_train[:, 1].min() - 1, X_train[:, 1].max() + 1\n",
        "\n",
        "# Создаем сетку точек для отображения\n",
        "xx, yy = torch.meshgrid(torch.arange(x_min, x_max, plot_step),\n",
        "                     torch.arange(y_min, y_max, plot_step))\n",
        "\n",
        "preds = wine_net.inference(torch.cat([xx.reshape(-1, 1), yy.reshape(-1, 1)], dim=1))\n",
        "preds_class = preds.data.numpy().argma(axis=1)\n",
        "preds_class = preds_class.reshape(xx.shape)\n",
        "\n",
        "# Отображаем контурные линии предсказанных классов\n",
        "plt.contourf(xx, yy, preds_class, cmap='Accent')\n",
        "\n",
        "# Отображаем обучающие точки\n",
        "for i, color in zip(range(n_classes), plot_colors):\n",
        "    indexes = np.where(Y_train == i)\n",
        "    plt.scatter(X_train[indexes, 0],\n",
        "                X_train[indexes, 1],\n",
        "                c=color,\n",
        "                label=wine.target_names[i],\n",
        "                cmap='Accent')\n",
        "\n",
        "    # Добавляем подписи осей и легенду\n",
        "    plt.xlabel(wine.feature_names[0])\n",
        "    plt.ylabel(wine.feature_names[1])\n",
        "    plt.legend()\n",
        "\n",
        "    # Отображаем график\n",
        "    plt.show()"
      ],
      "metadata": {
        "colab": {
          "base_uri": "https://localhost:8080/",
          "height": 415
        },
        "id": "-H5q-N8MiouD",
        "outputId": "4a77c9c2-79ca-4ecd-a3dd-2b7cc9e30c34"
      },
      "execution_count": 92,
      "outputs": [
        {
          "output_type": "error",
          "ename": "AttributeError",
          "evalue": "ignored",
          "traceback": [
            "\u001b[0;31m---------------------------------------------------------------------------\u001b[0m",
            "\u001b[0;31mAttributeError\u001b[0m                            Traceback (most recent call last)",
            "\u001b[0;32m<ipython-input-92-1d8be5492017>\u001b[0m in \u001b[0;36m<cell line: 22>\u001b[0;34m()\u001b[0m\n\u001b[1;32m     20\u001b[0m                      torch.arange(y_min, y_max, plot_step))\n\u001b[1;32m     21\u001b[0m \u001b[0;34m\u001b[0m\u001b[0m\n\u001b[0;32m---> 22\u001b[0;31m \u001b[0mpreds\u001b[0m \u001b[0;34m=\u001b[0m \u001b[0mwine_net\u001b[0m\u001b[0;34m.\u001b[0m\u001b[0minference\u001b[0m\u001b[0;34m(\u001b[0m\u001b[0mtorch\u001b[0m\u001b[0;34m.\u001b[0m\u001b[0mcat\u001b[0m\u001b[0;34m(\u001b[0m\u001b[0;34m[\u001b[0m\u001b[0mxx\u001b[0m\u001b[0;34m.\u001b[0m\u001b[0mreshape\u001b[0m\u001b[0;34m(\u001b[0m\u001b[0;34m-\u001b[0m\u001b[0;36m1\u001b[0m\u001b[0;34m,\u001b[0m \u001b[0;36m1\u001b[0m\u001b[0;34m)\u001b[0m\u001b[0;34m,\u001b[0m \u001b[0myy\u001b[0m\u001b[0;34m.\u001b[0m\u001b[0mreshape\u001b[0m\u001b[0;34m(\u001b[0m\u001b[0;34m-\u001b[0m\u001b[0;36m1\u001b[0m\u001b[0;34m,\u001b[0m \u001b[0;36m1\u001b[0m\u001b[0;34m)\u001b[0m\u001b[0;34m]\u001b[0m\u001b[0;34m,\u001b[0m \u001b[0mdim\u001b[0m\u001b[0;34m=\u001b[0m\u001b[0;36m1\u001b[0m\u001b[0;34m)\u001b[0m\u001b[0;34m)\u001b[0m\u001b[0;34m\u001b[0m\u001b[0;34m\u001b[0m\u001b[0m\n\u001b[0m\u001b[1;32m     23\u001b[0m \u001b[0mpreds_class\u001b[0m \u001b[0;34m=\u001b[0m \u001b[0mpreds\u001b[0m\u001b[0;34m.\u001b[0m\u001b[0mdata\u001b[0m\u001b[0;34m.\u001b[0m\u001b[0mnumpy\u001b[0m\u001b[0;34m(\u001b[0m\u001b[0;34m)\u001b[0m\u001b[0;34m.\u001b[0m\u001b[0margma\u001b[0m\u001b[0;34m(\u001b[0m\u001b[0maxis\u001b[0m\u001b[0;34m=\u001b[0m\u001b[0;36m1\u001b[0m\u001b[0;34m)\u001b[0m\u001b[0;34m\u001b[0m\u001b[0;34m\u001b[0m\u001b[0m\n\u001b[1;32m     24\u001b[0m \u001b[0mpreds_class\u001b[0m \u001b[0;34m=\u001b[0m \u001b[0mpreds_class\u001b[0m\u001b[0;34m.\u001b[0m\u001b[0mreshape\u001b[0m\u001b[0;34m(\u001b[0m\u001b[0mxx\u001b[0m\u001b[0;34m.\u001b[0m\u001b[0mshape\u001b[0m\u001b[0;34m)\u001b[0m\u001b[0;34m\u001b[0m\u001b[0;34m\u001b[0m\u001b[0m\n",
            "\u001b[0;32m<ipython-input-75-0dd3b3d9ae9e>\u001b[0m in \u001b[0;36minference\u001b[0;34m(self, x)\u001b[0m\n\u001b[1;32m     20\u001b[0m   \u001b[0;32mdef\u001b[0m \u001b[0minference\u001b[0m\u001b[0;34m(\u001b[0m\u001b[0mself\u001b[0m\u001b[0;34m,\u001b[0m \u001b[0mx\u001b[0m\u001b[0;34m)\u001b[0m\u001b[0;34m:\u001b[0m\u001b[0;31m#софтмакс долгая, поэтому отдельно\u001b[0m\u001b[0;34m\u001b[0m\u001b[0;34m\u001b[0m\u001b[0m\n\u001b[1;32m     21\u001b[0m     \u001b[0mx\u001b[0m \u001b[0;34m=\u001b[0m \u001b[0mself\u001b[0m\u001b[0;34m.\u001b[0m\u001b[0mforward\u001b[0m\u001b[0;34m(\u001b[0m\u001b[0mx\u001b[0m\u001b[0;34m)\u001b[0m\u001b[0;34m\u001b[0m\u001b[0;34m\u001b[0m\u001b[0m\n\u001b[0;32m---> 22\u001b[0;31m     \u001b[0mx\u001b[0m \u001b[0;34m=\u001b[0m \u001b[0mself\u001b[0m\u001b[0;34m.\u001b[0m\u001b[0msm\u001b[0m\u001b[0;34m(\u001b[0m\u001b[0mx\u001b[0m\u001b[0;34m)\u001b[0m\u001b[0;34m\u001b[0m\u001b[0;34m\u001b[0m\u001b[0m\n\u001b[0m\u001b[1;32m     23\u001b[0m     \u001b[0;32mreturn\u001b[0m \u001b[0mx\u001b[0m\u001b[0;34m\u001b[0m\u001b[0;34m\u001b[0m\u001b[0m\n\u001b[1;32m     24\u001b[0m \u001b[0mwine_net\u001b[0m \u001b[0;34m=\u001b[0m \u001b[0mWineNet\u001b[0m\u001b[0;34m(\u001b[0m\u001b[0;36m5\u001b[0m\u001b[0;34m)\u001b[0m\u001b[0;34m\u001b[0m\u001b[0;34m\u001b[0m\u001b[0m\n",
            "\u001b[0;32m/usr/local/lib/python3.10/dist-packages/torch/nn/modules/module.py\u001b[0m in \u001b[0;36m__getattr__\u001b[0;34m(self, name)\u001b[0m\n\u001b[1;32m   1612\u001b[0m             \u001b[0;32mif\u001b[0m \u001b[0mname\u001b[0m \u001b[0;32min\u001b[0m \u001b[0mmodules\u001b[0m\u001b[0;34m:\u001b[0m\u001b[0;34m\u001b[0m\u001b[0;34m\u001b[0m\u001b[0m\n\u001b[1;32m   1613\u001b[0m                 \u001b[0;32mreturn\u001b[0m \u001b[0mmodules\u001b[0m\u001b[0;34m[\u001b[0m\u001b[0mname\u001b[0m\u001b[0;34m]\u001b[0m\u001b[0;34m\u001b[0m\u001b[0;34m\u001b[0m\u001b[0m\n\u001b[0;32m-> 1614\u001b[0;31m         raise AttributeError(\"'{}' object has no attribute '{}'\".format(\n\u001b[0m\u001b[1;32m   1615\u001b[0m             type(self).__name__, name))\n\u001b[1;32m   1616\u001b[0m \u001b[0;34m\u001b[0m\u001b[0m\n",
            "\u001b[0;31mAttributeError\u001b[0m: 'WineNet' object has no attribute 'sm'"
          ]
        }
      ]
    },
    {
      "cell_type": "markdown",
      "source": [
        "# Методы оптимизации"
      ],
      "metadata": {
        "id": "N92cxYrO9ZV8"
      }
    },
    {
      "cell_type": "markdown",
      "source": [
        "## Самый обычный градиентный спуск"
      ],
      "metadata": {
        "id": "JfQ19oQ5DHwN"
      }
    },
    {
      "cell_type": "markdown",
      "source": [
        "**loss функция** нужна, чтобы нейронная сеть понимала,в какую сторону нужно двигаться, чтоб улучшать свои результаты\n",
        "\n",
        "**optimizer** существует для воспроизводства этих движений"
      ],
      "metadata": {
        "id": "ZUpbp9nJer-m"
      }
    },
    {
      "cell_type": "markdown",
      "source": [
        "Наиболее распространнёным и наиболее простым  оптимизатором является градиентный спуск.\n",
        "\n",
        "$$\n",
        "\\nabla f = \\left(\n",
        "  \\begin{array}{c}\n",
        "  \\frac{\\partial f}{\\partial w_0}\\\\\n",
        "  \\frac{\\partial f}{\\partial w_1}\\\\\n",
        "  \\vdots\\\\\n",
        "  \\frac{\\partial f}{\\partial w_n}\n",
        "  \\end{array}\n",
        "  \\right)\n",
        "$$"
      ],
      "metadata": {
        "id": "R6GUBi2kfcnp"
      }
    },
    {
      "cell_type": "markdown",
      "source": [
        "Если мы начали в точке $w_0$, то после градиентного шага мы оказываемся в новой точке:\n",
        "\n",
        "$ \\alpha - \\text{скорость обучения} $\n",
        "\n",
        "$$\n",
        "w_1 = w_0 - \\alpha \\nabla f(w_0)\n",
        "$$\n",
        "\n",
        "Следующий шаг:\n",
        "\n",
        "$$\n",
        "w_2 = w_1 - \\alpha \\nabla f(w_1)\n",
        "$$\n",
        "\n",
        "Параметры с каждым разом улучшаются\n",
        "\n",
        "И делаем так пока не дойдем до локального минимума:\n",
        "\n",
        "$$\n",
        "w_n = w_{n-1} - \\alpha \\nabla f(w_{n-1})\n",
        "$$\n",
        "\n"
      ],
      "metadata": {
        "id": "uQA9BPd8iBtP"
      }
    },
    {
      "cell_type": "markdown",
      "source": [
        "Недостаток градиентного спуска - нужно посчитать функцию потерь по всем параметрам обучающей выборки(слишком много времени занимает)\n",
        "\n",
        "**Cтохастический градиентный спуск** - градиент функции по одному примеру.\n",
        "\n",
        "**Побатчевый градиентый спуск** - можно вычислить функцию потерь на нескольких примерах(сам выбираешь):\n",
        "\n",
        "$$\n",
        "  f = f_1 + f_2 + f_3 + ... + f_n\n",
        "$$\n",
        "\n",
        "Мы можем взять три примера и посчитать градиент loss function, усредняем или складываем (зависит от loss function), дальше мы посчитали градиент, домножаем на learning rate и теперь делаем шаг.\n",
        "\n",
        "\n",
        "ноооо!!!!!\n",
        "\n",
        "$$\n",
        "1 << |b| << N\n",
        "$$\n",
        "\n",
        "\n",
        "$$\n",
        "w_1 = w_0 - \\alpha \\nabla f_{b_1}(w_0)\n",
        "$$\n",
        "$$\n",
        "w_2 = w_1 - \\alpha \\nabla f_{b_2}(w_1)\n",
        "$$\n",
        "$$\n",
        "w_3 = w_2 - \\alpha \\nabla f_{b_3}(w_2)\n",
        "$$\n",
        "$$\n",
        "\\vdots\\\\\n",
        "w_{t+1} = w_t - \\alpha \\nabla f_{b_n}(w_t)\\\\\n",
        "$$\n",
        "\n"
      ],
      "metadata": {
        "id": "B2qPO-IvwVuF"
      }
    },
    {
      "cell_type": "markdown",
      "source": [
        "## Модификации градиентного спуска\n"
      ],
      "metadata": {
        "id": "LdQ-1WpU4dFY"
      }
    },
    {
      "cell_type": "markdown",
      "source": [
        "Побатчевый градиентный спуск-стохастический градиетный спуск в пакетах для обучения нейронных сетей.\n",
        "\n",
        "Плюс:\n",
        "\n",
        " он достаточно быстро вычисляет, насколько нужно обновить текущие веса модели для того, чтобы улучшить её производительность для того, чтобы уменьшить функцию потерь.\n",
        "\n",
        "Минус:\n",
        "\n",
        "  в вытянутный линиях уровня нужно сделать много шагов, чтобы приблизиться к локальному минимому.\n",
        "\n",
        "удобно представить его поведение в виде катящегося шара.\n",
        "\n",
        "Модель:\n",
        "$$\n",
        "\\begin{equation*}\n",
        "  \\begin{cases}\n",
        "  \\frac{\\partial v}{\\partial t} = \\frac{1}{m}(F + F_{тр})\n",
        "  \\text{ - второй закон Ньютона}\\\\\n",
        "  \\frac{\\partial x}{\\partial t} = v\n",
        "  \\text{ - определение понятния скорости}\n",
        "  \\end{cases}\n",
        "\\end{equation*}\n",
        "$$\n",
        "\n",
        "\n",
        "В нашем случае модель будет выглядеть следующим образом:\n",
        "\n",
        "$$\n",
        "\\begin{cases}\n",
        "  \\frac{\\partial v}{\\partial t} = - \\frac{1}{m} \\nabla f - \\frac{1}{m} \\eta  v\\\\\n",
        "  \\frac{\\partial x}{\\partial t} = v\n",
        "\\end{cases}\n",
        "$$\n",
        "\n",
        "Для решения данной системы уравнений мы будем использовать метод конечных разностей. Это метод используется для численного решения дифференциальных уровней.\n",
        "\n",
        "Что такое метод конечных разностей?\n",
        "\n",
        "Определение производной:\n",
        "\n",
        "$$\n",
        "\\frac{\\partial f}{\\partial x} = \\lim_{\\Delta x \\to 0} \\frac{f(x + \\Delta x) - f(x)}{\\Delta x}\n",
        "$$\n",
        "\n",
        "Из этого определения мы уберём предел и получим конечную разность:\n",
        "\n",
        "$$\n",
        "\\frac{\\partial f}{\\partial x} \\approx \\frac{f(x + \\Delta x) - f(x)}{\\Delta x}\n",
        "$$"
      ],
      "metadata": {
        "id": "pAsMQo-A4p1w"
      }
    },
    {
      "cell_type": "markdown",
      "source": [
        "При помощи конечной разности приблизим производную скорости по времени и производную параметров по времени\n",
        "\n",
        "$$\n",
        "  \\frac{\\partial v}{\\partial t} = \\frac{v^{t+1} - v^t}{\\Delta t}\\\\\n",
        "  \\frac{\\partial x}{\\partial t} = \\frac{x^{t+1} - x^t}{\\Delta t}\n",
        "$$\n",
        "\n",
        "Подставим эти приблизительный равенства в исходную систему уравнений, и выразим скорость и координату в следующий момент времени через скорости и координаты в текущий момент времени:\n",
        "\n",
        "$$\n",
        "\\begin{cases}\n",
        "  v^{t+1} = v^t - \\frac{\\Delta t}{m} \\nabla f - \\frac{\\Delta t}{m}\\eta v^t\\\\\n",
        "  w^{t+1} = w^t + v^t \\Delta t\n",
        "\\end{cases}\n",
        "$$\n",
        "\n",
        "При условии, что $[\\Delta t = \\alpha]$, $[\\frac{\\Delta t}{m} = 1]$, $[(1 - \\eta \\frac{\\Delta t}{m}) = \\beta]$:\n",
        "\n",
        "\\begin{cases}\n",
        "  w^{t+1} = w^t + \\alpha v^t\\\\\n",
        "  v^{t+1} = v^t \\beta - \\nabla f\n",
        "\\end{cases}\n",
        "\n",
        "Эта формула градиентно спуска описывает алгоритм стохастического градиентного спуска с импульсом.\n",
        "\n",
        "есть два параметра:\n",
        "\n",
        "$\\alpha$ - скорость обучения\n",
        "\n",
        "$\\beta$ - коэффициент импульса"
      ],
      "metadata": {
        "id": "Jcbtngvl9i3m"
      }
    },
    {
      "cell_type": "markdown",
      "source": [
        "### Стохастический градиентный спуск с заглядыванием вперёд"
      ],
      "metadata": {
        "id": "isnbxZ-kBZzI"
      }
    },
    {
      "cell_type": "markdown",
      "source": [
        "Есть ещё один алгоритм, который похож на стохастический градиентный спуск с моментом.\n",
        "\n",
        "$$\n",
        "w^{t+1} = w^t - \\alpha EMA(\\nabla f)^t\n",
        "$$\n",
        "\n",
        "EMA - экспоненциальное скользящее среднее.\n",
        "\n",
        "$$\n",
        "EMA_{\\beta}(f)^t = (1 - \\beta) f^t + \\beta * EMA_{\\beta}(f)^{t-1}\n",
        "$$\n",
        "\n",
        " Раньше усреднение происходило в параметре скорости, а теперь усреднение происходит в экспоненциальном скользящем среднем.Схожи с стохастическим градиентным спуском с импульсом"
      ],
      "metadata": {
        "id": "vdgaZaudDQ7H"
      }
    },
    {
      "cell_type": "markdown",
      "source": [
        "### RPROP Resilent Propogation – упругое распространение"
      ],
      "metadata": {
        "id": "rx3Dt-zsFDut"
      }
    },
    {
      "cell_type": "markdown",
      "source": [
        "\n",
        "\n",
        "\n",
        "\n",
        "$$\n",
        "w_i^{t+1} = w_i^t - \\alpha_i^t sign(\\nabla f_i(w_t))\n",
        "$$\n",
        "\n",
        "Скорости обучения для каждого из параметров тоже изменяются.\n",
        "\n",
        "$$\n",
        "\\begin{equation*}\n",
        "  \\alpha_i^{t+1} =\n",
        "  \\begin{cases}\n",
        "    \\alpha^t * 1.2, & \\text{if } sign(\\nabla f_i(w_t) * \\nabla f_i (w_      {t-1})) > 0 \\\\\n",
        "    \\alpha^t * 0.6, & \\text{if } sign(\\nabla f_i(w_t) * \\nabla f_i (w_{t-1})) \\leq 0\n",
        "  \\end{cases}\n",
        "\\end{equation*}\n",
        "$$\n",
        "\n",
        "rprop - метод, учитывающий не градиент, а знак градиента\n",
        "\n",
        "Минус:\n",
        "\n",
        " этот метод плохо работает с батчами. Оптимизацию приходится проводить для каждого отдельного элемента."
      ],
      "metadata": {
        "id": "f3VZ4DDNFfFu"
      }
    },
    {
      "cell_type": "markdown",
      "source": [
        "### RMSprop"
      ],
      "metadata": {
        "id": "buCyM90MJRrN"
      }
    },
    {
      "cell_type": "markdown",
      "source": [
        "$$\n",
        "w^{t+1} = w_t - alpha \\frac{\\nabla f(w^t}{\\sqrt{EMA_i(\\nabla f^2)^t}}\n",
        "$$\n",
        "\n",
        "$$\n",
        "\\begin{equation*}\n",
        "  \\nabla f^2 =\n",
        "  \\begin{bmatrix}\n",
        "    \\frac{\\partial f^2}{\\partial w_0}\\\\\n",
        "    \\frac{\\partial f^2}{\\partial w_1}\\\\\n",
        "    \\vdots\\\\\n",
        "    \\frac{\\partial f^2}{\\partial w_n}\n",
        "  \\end{bmatrix}\n",
        "\\end{equation*}\n",
        "$$\n",
        "\n",
        "Подстраивается функция обучения под каждый из параметров.\n",
        "\n",
        "Преимущества алгоритма RMSprop заключаются в том, что если вдоль некоторого параметра у нас производная слишком большая, это означает что функция потерь слишком быстро изменяется, и это означает, что нужно делать шаги поменьше.\n",
        "\n",
        "В обычно наши шаги вдоль любого параметра должны быть размера $\\alpha$\n",
        "\n",
        " RMSprop берёт некоторый параметр и изменяет на значение $\\alpha$ в направлении обратно направлении производной функции потерь по этому параметру."
      ],
      "metadata": {
        "id": "1H5Qn3QEJl7m"
      }
    },
    {
      "cell_type": "markdown",
      "source": [
        "### Adam"
      ],
      "metadata": {
        "id": "xkmfRqD_LjfY"
      }
    },
    {
      "cell_type": "markdown",
      "source": [
        "$$\n",
        "w^{t+1} = w^t - \\alpha \\frac{EMA_{\\beta_1}(\\nabla f)^t}{\\sqrt{EMA_{\\beta_2}(\\nabla f^2)^t} + \\epsilon}\n",
        "$$\n",
        "\n",
        "Этот метод оптимизации объединяет положительные качества как стохастического градиентного спуска с импульсом, так и метода RMSprop.\n",
        "\n",
        "Это очень распространённый на сегодняшний день метод оптимизации нейронных сетей.\n",
        "\n",
        "не нужно подбирать параметры\n",
        "\n",
        "Оптимальные параметры:\n",
        "\n",
        "$$\n",
        "\\alpha = 3*10^{-4}\\\\\n",
        "\\beta_1 = 0.9\\\\\n",
        "\\beta_2 = 0.999\n",
        "$$\n",
        "\n",
        "Если нужна оень-очень круто оптимизированная сеть, то берут стохастический градиентный спуск, и уже для него следует подбирать lerning rate для того, чтобы он хорошо все решал."
      ],
      "metadata": {
        "id": "bnL5pI09L3oX"
      }
    }
  ]
}